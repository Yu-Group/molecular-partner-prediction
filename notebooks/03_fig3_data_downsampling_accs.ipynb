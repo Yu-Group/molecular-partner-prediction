{
 "cells": [
  {
   "cell_type": "code",
   "execution_count": 1,
   "metadata": {},
   "outputs": [],
   "source": [
    "%matplotlib inline\n",
    "%load_ext autoreload\n",
    "%autoreload 2\n",
    "import os\n",
    "from os.path import join as oj\n",
    "import sys\n",
    "sys.path.append('../src')\n",
    "import numpy as np\n",
    "import seaborn as sns\n",
    "import torch\n",
    "import matplotlib\n",
    "from matplotlib import pyplot as plt\n",
    "from sklearn import metrics\n",
    "import sklearn.calibration\n",
    "from sklearn.linear_model import RidgeCV\n",
    "from sklearn.model_selection import train_test_split\n",
    "# plt.style.use('dark_background')\n",
    "from functools import partial\n",
    "import data\n",
    "from skorch.callbacks import Checkpoint\n",
    "from skorch import NeuralNetRegressor\n",
    "from config import *\n",
    "from tqdm import tqdm\n",
    "import pickle as pkl\n",
    "import train_reg\n",
    "from math import floor\n",
    "from scipy.stats import percentileofscore\n",
    "from copy import deepcopy\n",
    "from sklearn.metrics import confusion_matrix\n",
    "import config\n",
    "import models\n",
    "import pandas as pd\n",
    "import features\n",
    "from scipy.stats import skew, pearsonr\n",
    "import outcomes\n",
    "import neural_networks\n",
    "from sklearn.model_selection import KFold\n",
    "from torch import nn, optim\n",
    "from torch.nn import functional as F\n",
    "import interpret\n",
    "import matplotlib.pyplot as plt\n",
    "import matplotlib as mpl\n",
    "from matplotlib.colors import LinearSegmentedColormap\n",
    "import viz"
   ]
  },
  {
   "cell_type": "markdown",
   "metadata": {},
   "source": [
    "# prepare data"
   ]
  },
  {
   "cell_type": "code",
   "execution_count": 2,
   "metadata": {},
   "outputs": [
    {
     "name": "stderr",
     "output_type": "stream",
     "text": [
      "100%|██████████| 1/1 [00:25<00:00, 25.91s/it]\n"
     ]
    },
    {
     "name": "stdout",
     "output_type": "stream",
     "text": [
      "type <class 'dict'>\n",
      "acc 0.841 vs baseline 0.65\n"
     ]
    }
   ],
   "source": [
    "# currently trained only on 'clath_aux+gak_a7d2_new'\n",
    "# dsets = ['clath_aux+gak_new']\n",
    "dsets = ['clath_aux_dynamin']\n",
    "splits = ['test']\n",
    "# feat_names = ['X_same_length_normalized'] # + data.select_final_feats(data.get_feature_names(df))\n",
    "\n",
    "#feat_names = ['X_same_length_normalized'] + data.select_final_feats(data.get_feature_names(df))\n",
    "              #['mean_total_displacement', 'mean_square_displacement', 'lifetime']\n",
    "meta = ['cell_num', 'Y_sig_mean', 'Y_sig_mean_normalized']\n",
    "dfs, feat_names = data.load_dfs_for_lstm(dsets=dsets, splits=splits, meta=meta, normalize=False)\n",
    "print('type', type(dfs))\n",
    "# load model\n",
    "p = 1\n",
    "results = pkl.load(open(config.FINAL_MODEL, 'rb'))\n",
    "dnn = neural_networks.neural_net_sklearn(D_in=40, H=20, p=p-1, arch='lstm')\n",
    "dnn.model.load_state_dict(results['model_state_dict'])\n",
    "\n",
    "# load data\n",
    "# df = dfs[('clath_aux+gak_a7d2', 'train')]\n",
    "# df = dfs[('clath_aux+gak_new', 'test')]\n",
    "df = dfs[list(dfs.keys())[0]]\n",
    "X = df[feat_names[:p]]\n",
    "y = df['y_consec_thresh']\n",
    "\n",
    "\n",
    "# add preds\n",
    "track_name = 'X_same_length_normalized'\n",
    "track_name_unnormalized = 'X_same_length'\n",
    "# df = dfs[('clath_aux+gak_new', 'test')]\n",
    "df['preds'] = dnn.predict(df[feat_names[:1]])\n",
    "df = df.sort_values(by='preds')\n",
    "x = df[feat_names[:1]]\n",
    "y = df['y_consec_thresh'].values\n",
    "preds = dnn.predict(x)\n",
    "n = df.shape[0]\n",
    "\n",
    "# sort things\n",
    "print(f'acc {np.mean((preds > 0) == y):0.3f} vs baseline {1-np.mean(y):0.2f}', )"
   ]
  },
  {
   "cell_type": "markdown",
   "metadata": {},
   "source": [
    "# lower res data (downsample)"
   ]
  },
  {
   "cell_type": "code",
   "execution_count": 26,
   "metadata": {},
   "outputs": [
    {
     "name": "stderr",
     "output_type": "stream",
     "text": [
      "100%|██████████| 1/1 [00:46<00:00, 46.91s/it]\n"
     ]
    }
   ],
   "source": [
    "outcome_def = 'successful_dynamin'\n",
    "dsets = ['clath_aux_dynamin']\n",
    "splits = ['test']\n",
    "meta = ['cell_num', 'Y_sig_mean', 'Y_sig_mean_normalized']\n",
    "dfs, feat_names = data.load_dfs_for_lstm(dsets=dsets, splits=splits, meta=meta, normalize=False)\n",
    "df = dfs[list(dfs.keys())[0]]\n",
    "# y = df[outcome_def].values"
   ]
  },
  {
   "cell_type": "markdown",
   "metadata": {},
   "source": [
    "**look at the downsample acc for the original data**"
   ]
  },
  {
   "cell_type": "code",
   "execution_count": 54,
   "metadata": {},
   "outputs": [
    {
     "name": "stderr",
     "output_type": "stream",
     "text": [
      "100%|██████████| 4/4 [00:04<00:00,  1.24s/it]"
     ]
    },
    {
     "name": "stdout",
     "output_type": "stream",
     "text": [
      "[0.8488825824760553, 0.8367033226912617, 0.8332742107130188, 0.8259430057940168]\n"
     ]
    },
    {
     "name": "stderr",
     "output_type": "stream",
     "text": [
      "\n"
     ]
    }
   ],
   "source": [
    "def calc_accuracy_downsampled(d, DOWNSAMPLE, outcome_def, dnn, idxs_list=None):\n",
    "    def resample_at_lower_freq(x, DOWNSAMPLE=2):\n",
    "        if DOWNSAMPLE == 1:\n",
    "            return x\n",
    "        arr = np.array(x[::DOWNSAMPLE])\n",
    "        n = arr.size\n",
    "        return np.interp(x=np.linspace(0, n, num=len(x)), xp=np.arange(n), fp=arr)\n",
    "    X_resampled = d['X'].apply(partial(resample_at_lower_freq, DOWNSAMPLE=DOWNSAMPLE))\n",
    "\n",
    "    # visualize\n",
    "    '''\n",
    "    plt.plot(d['X'].iloc[0])\n",
    "    plt.plot(X_resampled.iloc[0])\n",
    "    plt.show()    \n",
    "    '''\n",
    "\n",
    "    # normalize tracks\n",
    "    d['X_same_length'] = [features.downsample(X_resampled.iloc[i], 40)\n",
    "                           for i in range(len(d))] # downsampling\n",
    "    d = features.normalize_track(d, track='X_same_length', by_time_point=False)\n",
    "    x = d[['X_same_length_normalized']]\n",
    "\n",
    "    # evaluate\n",
    "    preds = dnn.predict(x)\n",
    "    if idxs_list is None:\n",
    "        acc = np.mean((preds>0)==d[outcome_def])\n",
    "        return acc\n",
    "    else:\n",
    "        accs_list = []\n",
    "        for idxs in idxs_list:\n",
    "            accs_list.append(np.mean((preds[idxs]>0)==d[outcome_def][idxs]))\n",
    "        return accs_list\n",
    "\n",
    "accs = []\n",
    "DOWNSAMPLE_list = range(1, 5)\n",
    "\n",
    "for DOWNSAMPLE in tqdm(DOWNSAMPLE_list):\n",
    "    d = deepcopy(df)\n",
    "    acc = calc_accuracy_downsampled(d, DOWNSAMPLE, outcome_def, dnn)\n",
    "    accs.append(acc)\n",
    "print(accs)"
   ]
  },
  {
   "cell_type": "code",
   "execution_count": 77,
   "metadata": {},
   "outputs": [
    {
     "name": "stderr",
     "output_type": "stream",
     "text": [
      "100%|██████████| 4/4 [00:04<00:00,  1.24s/it]\n"
     ]
    }
   ],
   "source": [
    "# rerun for different subgroups of the data\n",
    "nbins = 6\n",
    "DOWNSAMPLE_list = range(1, 5)\n",
    "accs_list = []\n",
    "l = df.lifetime.values\n",
    "quantiles = [np.quantile(l, frac) for frac in np.linspace(0, 1, nbins)]\n",
    "idxs_list = []\n",
    "for i in range(nbins):\n",
    "    if i == 0:\n",
    "        left = 0\n",
    "    else:\n",
    "        left = quantiles[i - 1]\n",
    "    right = quantiles[i]\n",
    "    idxs = np.logical_and(left < l,  l <= right)\n",
    "    idxs_list.append(idxs)\n",
    "\n",
    "for DOWNSAMPLE in tqdm(DOWNSAMPLE_list):\n",
    "    d = deepcopy(df)\n",
    "    accs_list.append(calc_accuracy_downsampled(d, DOWNSAMPLE, outcome_def, dnn, idxs_list))\n",
    "accs_list = np.array(accs_list).transpose()"
   ]
  },
  {
   "cell_type": "code",
   "execution_count": 78,
   "metadata": {},
   "outputs": [],
   "source": [
    "import dvu\n",
    "qs = [15] + quantiles\n",
    "s = [f'{qs[i]}-{qs[i + 1]}' for i in range(nbins)]  "
   ]
  },
  {
   "cell_type": "code",
   "execution_count": 112,
   "metadata": {},
   "outputs": [
    {
     "data": {
      "image/png": "[encoded data removed]",
      "text/plain": [
       "<Figure size 432x288 with 1 Axes>"
      ]
     },
     "metadata": {
      "needs_background": "light"
     },
     "output_type": "display_data"
    }
   ],
   "source": [
    "# plt.figure(dpi=300)\n",
    "plt.plot(DOWNSAMPLE_list, accs, '.-', lw=4, ms=18, color='black', label='Lifetime > 15')\n",
    "cs = ['#c6dbef','#9ecae1','#6baed6','#4292c6','#2171b5','#084594']\n",
    "for i, a in enumerate(accs_list):\n",
    "    plt.plot(DOWNSAMPLE_list, a, '.-', lw=2, ms=10, label=s[i], color=cs[i])\n",
    "\n",
    "plt.xticks(np.arange(1, len(accs) + 1), labels=['1.5', '1.5/2', '1.5/3', '1.5/4'])\n",
    "\n",
    "plt.xlabel('Data sampling rate (Hz)')\n",
    "plt.ylabel('LSTM accuracy')\n",
    "dvu.line_legend(extra_spacing=0.3, adjust_text_labels=True, fontsize='large')\n",
    "# plt.xlim((0.5, len(accs) + 10))\n",
    "# plt.ylim((0.7, 1))\n",
    "viz.savefig('downsampling')\n",
    "plt.show()"
   ]
  }
 ],
 "metadata": {
  "kernelspec": {
   "display_name": "Python 3",
   "language": "python",
   "name": "python3"
  },
  "language_info": {
   "codemirror_mode": {
    "name": "ipython",
    "version": 3
   },
   "file_extension": ".py",
   "mimetype": "text/x-python",
   "name": "python",
   "nbconvert_exporter": "python",
   "pygments_lexer": "ipython3",
   "version": "3.8.3"
  }
 },
 "nbformat": 4,
 "nbformat_minor": 4
}
