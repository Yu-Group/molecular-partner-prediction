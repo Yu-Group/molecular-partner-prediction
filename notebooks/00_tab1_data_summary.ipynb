{
 "cells": [
  {
   "cell_type": "code",
   "execution_count": 1,
   "metadata": {},
   "outputs": [],
   "source": [
    "%matplotlib inline\n",
    "%load_ext autoreload\n",
    "%autoreload 2\n",
    "import os\n",
    "from os.path import join as oj\n",
    "import sys\n",
    "sys.path.append('../src')\n",
    "import numpy as np\n",
    "import seaborn as sns\n",
    "import torch\n",
    "import matplotlib\n",
    "from matplotlib import pyplot as plt\n",
    "from sklearn import metrics\n",
    "import sklearn.calibration\n",
    "from sklearn.linear_model import RidgeCV\n",
    "from sklearn.model_selection import train_test_split\n",
    "# plt.style.use('dark_background')\n",
    "import data\n",
    "from skorch.callbacks import Checkpoint\n",
    "from skorch import NeuralNetRegressor\n",
    "from config import *\n",
    "from tqdm import tqdm\n",
    "import pickle as pkl\n",
    "import train_reg\n",
    "from math import floor\n",
    "from copy import deepcopy\n",
    "from sklearn.metrics import confusion_matrix\n",
    "import config\n",
    "import models\n",
    "import pandas as pd\n",
    "import features\n",
    "from scipy.stats import skew, pearsonr\n",
    "import outcomes\n",
    "import neural_networks\n",
    "from sklearn.model_selection import KFold\n",
    "from torch import nn, optim\n",
    "from torch.nn import functional as F\n",
    "import interpret\n",
    "import matplotlib.pyplot as plt\n",
    "from functools import partial\n",
    "import matplotlib as mpl\n",
    "from matplotlib.colors import LinearSegmentedColormap\n",
    "import viz"
   ]
  },
  {
   "cell_type": "markdown",
   "metadata": {},
   "source": [
    "# prepare data"
   ]
  },
  {
   "cell_type": "code",
   "execution_count": 2,
   "metadata": {},
   "outputs": [
    {
     "name": "stderr",
     "output_type": "stream",
     "text": [
      "100%|██████████| 1/1 [00:15<00:00, 15.76s/it]"
     ]
    },
    {
     "name": "stdout",
     "output_type": "stream",
     "text": [
      "type <class 'dict'>\n"
     ]
    },
    {
     "name": "stderr",
     "output_type": "stream",
     "text": [
      "\n"
     ]
    }
   ],
   "source": [
    "# currently trained only on 'clath_aux+gak_a7d2_new'\n",
    "# dsets = ['clath_aux+gak_new']\n",
    "dsets = ['clath_aux_dynamin']\n",
    "splits = ['test']\n",
    "# feat_names = ['X_same_length_normalized'] # + data.select_final_feats(data.get_feature_names(df))\n",
    "\n",
    "#feat_names = ['X_same_length_normalized'] + data.select_final_feats(data.get_feature_names(df))\n",
    "              #['mean_total_displacement', 'mean_square_displacement', 'lifetime']\n",
    "meta = ['cell_num', 'Y_sig_mean', 'Y_sig_mean_normalized']\n",
    "dfs, feat_names = data.load_dfs_for_lstm(dsets=dsets, splits=splits, meta=meta, normalize=False)\n",
    "print('type', type(dfs))\n",
    "# load model\n",
    "p = 1\n",
    "# load data\n",
    "# df = dfs[('clath_aux+gak_a7d2', 'train')]\n",
    "# df = dfs[('clath_aux+gak_new', 'test')]\n",
    "df = dfs[list(dfs.keys())[0]]\n",
    "X = df[feat_names[:p]]\n",
    "y = df['y_consec_thresh']"
   ]
  },
  {
   "cell_type": "markdown",
   "metadata": {},
   "source": [
    "# look at different dsets"
   ]
  },
  {
   "cell_type": "code",
   "execution_count": 3,
   "metadata": {},
   "outputs": [
    {
     "name": "stderr",
     "output_type": "stream",
     "text": [
      "  0%|          | 0/6 [00:00<?, ?it/s]"
     ]
    },
    {
     "name": "stdout",
     "output_type": "stream",
     "text": [
      "loading data\n"
     ]
    },
    {
     "name": "stderr",
     "output_type": "stream",
     "text": [
      "100%|██████████| 6/6 [02:30<00:00, 25.08s/it]\n"
     ]
    }
   ],
   "source": [
    "print(\"loading data\")\n",
    "dsets = ['clath_aux+gak_a7d2', 'clath_aux+gak', 'clath_aux+gak_a7d2_new', 'clath_aux+gak_new', 'clath_gak', 'clath_aux_dynamin'] # need to add dynamin\n",
    "splits = ['train', 'test']\n",
    "#feat_names = ['X_same_length_normalized'] + data.select_final_feats(data.get_feature_names(df))\n",
    "              #['mean_total_displacement', 'mean_square_displacement', 'lifetime']\n",
    "meta = ['cell_num', 'Y_sig_mean', 'Y_sig_mean_normalized', 'y_consec_thresh']\n",
    "dfs, feat_names = data.load_dfs_for_lstm(dsets=dsets, splits=splits, meta=meta, filter_short=False, normalize=False)\n",
    "\n",
    "# df_full = pd.concat([dfs[(k, s)]\n",
    "#                  for (k, s) in dfs\n",
    "#                  if s == 'train'])[feat_names + meta]\n",
    "# df_full = df_full.dropna()\n",
    "ds = {(k, v): dfs[(k, v)]\n",
    "      for (k, v) in sorted(dfs.keys(), key=lambda x: x[1] + x[0])\n",
    "      #if not k == 'clath_aux+gak_a7d2_new'\n",
    "     }"
   ]
  },
  {
   "cell_type": "markdown",
   "metadata": {},
   "source": [
    "**summarize dsets**"
   ]
  },
  {
   "cell_type": "code",
   "execution_count": 4,
   "metadata": {},
   "outputs": [
    {
     "name": "stdout",
     "output_type": "stream",
     "text": [
      "\\begin{tabular}{llrrrrr}\n",
      "\\toprule\n",
      "          &       &  Total clean tracks &  Difficult tracks &  Difficult valid events &  Short tracks &  Short valid events \\\\\n",
      "Dataset & Partition &                     &                   &                         &               &                     \\\\\n",
      "\\midrule\n",
      "clath\\_aux+gak & test &                1551 &               494 &                     264 &          1057 &                  96 \\\\\n",
      "          & train &                5783 &              1750 &                    1054 &          4033 &                 464 \\\\\n",
      "clath\\_aux+gak\\_a7d2 & test &                2448 &              1018 &                     439 &          1430 &                  73 \\\\\n",
      "          & train &                7245 &              2979 &                    1523 &          4266 &                 212 \\\\\n",
      "clath\\_aux+gak\\_a7d2\\_new & test &               16893 &              1495 &                     978 &         15398 &                2157 \\\\\n",
      "          & train &               49743 &              7029 &                    4900 &         42714 &                9591 \\\\\n",
      "clath\\_aux+gak\\_new & test &                4040 &               633 &                     211 &          3407 &                 183 \\\\\n",
      "          & train &               16250 &              2922 &                    1515 &         13328 &                1548 \\\\\n",
      "clath\\_aux\\_dynamin & test &               45061 &              8457 &                    2920 &         36604 &                2205 \\\\\n",
      "          & train &              102712 &             20617 &                    7050 &         82095 &                4977 \\\\\n",
      "clath\\_gak & test &                5189 &              1319 &                     628 &          3870 &                 378 \\\\\n",
      "          & train &               12938 &              3165 &                    1288 &          9773 &                 749 \\\\\n",
      "\\bottomrule\n",
      "\\end{tabular}\n",
      "\n"
     ]
    }
   ],
   "source": [
    "vals = {} # key is dataset, Partition\n",
    "for k in sorted(ds, key=lambda kv: (kv[0], kv[1])):\n",
    "    d = ds[k]\n",
    "    d.short = d.lifetime <= 15\n",
    "    # print(k, d.lifetime.min())\n",
    "    y = d['y_consec_thresh']\n",
    "    feats = ['Total clean tracks',\n",
    "             'Difficult tracks', 'Difficult valid events', \n",
    "             'Short tracks', 'Short valid events',]\n",
    "    vals[k] = [d.shape[0],\n",
    "            (~d.short).sum(), y[~d.short].sum(),\n",
    "            d.short.sum(), y[d.short].sum()\n",
    "           ]\n",
    "    vals[k] = [int(x) for x in vals[k]]\n",
    "#     print(feats, vals)\n",
    "df = pd.DataFrame.from_dict(vals).transpose().round(decimals=0)\n",
    "df.columns = feats\n",
    "df.index = df.index.set_names(['Dataset', 'Partition'])\n",
    "print(df.to_latex(index=True, index_names=True))"
   ]
  }
 ],
 "metadata": {
  "kernelspec": {
   "display_name": "Python 3",
   "language": "python",
   "name": "python3"
  },
  "language_info": {
   "codemirror_mode": {
    "name": "ipython",
    "version": 3
   },
   "file_extension": ".py",
   "mimetype": "text/x-python",
   "name": "python",
   "nbconvert_exporter": "python",
   "pygments_lexer": "ipython3",
   "version": "3.8.3"
  }
 },
 "nbformat": 4,
 "nbformat_minor": 4
}
