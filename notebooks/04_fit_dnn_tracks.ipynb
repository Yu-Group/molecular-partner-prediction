{
 "cells": [
  {
   "cell_type": "code",
   "execution_count": 1,
   "metadata": {},
   "outputs": [],
   "source": [
    "%matplotlib inline\n",
    "%load_ext autoreload\n",
    "%autoreload 2\n",
    "import os\n",
    "from os.path import join as oj\n",
    "import sys\n",
    "sys.path.append('../src')\n",
    "import numpy as np\n",
    "import seaborn as sns\n",
    "import torch\n",
    "from matplotlib import pyplot as plt\n",
    "from sklearn import metrics\n",
    "from sklearn.linear_model import RidgeCV\n",
    "from sklearn.model_selection import train_test_split\n",
    "plt.style.use('dark_background')\n",
    "import data\n",
    "from skorch.callbacks import Checkpoint\n",
    "from skorch import NeuralNetRegressor\n",
    "from config import *\n",
    "from tqdm import tqdm\n",
    "import pickle as pkl\n",
    "import train_reg\n",
    "from copy import deepcopy\n",
    "import config\n",
    "import models\n",
    "import pandas as pd\n",
    "import features\n",
    "from scipy.stats import skew, pearsonr\n",
    "import outcomes\n",
    "import neural_networks\n",
    "from sklearn.model_selection import KFold\n",
    "from torch import nn, optim\n",
    "from torch.nn import functional as F\n",
    "from sklearn.ensemble import RandomForestRegressor, GradientBoostingRegressor\n",
    "from sklearn.metrics import confusion_matrix"
   ]
  },
  {
   "cell_type": "markdown",
   "metadata": {},
   "source": [
    "# prepare data"
   ]
  },
  {
   "cell_type": "code",
   "execution_count": 2,
   "metadata": {},
   "outputs": [
    {
     "name": "stderr",
     "output_type": "stream",
     "text": [
      "100%|██████████| 5/5 [00:51<00:00, 10.28s/it]\n"
     ]
    }
   ],
   "source": [
    "dsets = ['clath_aux+gak_a7d2', 'clath_aux+gak', 'clath_aux+gak_a7d2_new', 'clath_aux+gak_new', 'clath_gak']\n",
    "splits = ['train', 'test']\n",
    "#feat_names = ['X_same_length_normalized'] + data.select_final_feats(data.get_feature_names(df))\n",
    "              #['mean_total_displacement', 'mean_square_displacement', 'lifetime']\n",
    "meta = ['cell_num', 'Y_sig_mean', 'Y_sig_mean_normalized']\n",
    "dfs = data.load_dfs_for_lstm(dsets=dsets, splits=splits, meta=meta)"
   ]
  },
  {
   "cell_type": "markdown",
   "metadata": {},
   "source": [
    "## train neural net with cv"
   ]
  },
  {
   "cell_type": "code",
   "execution_count": 102,
   "metadata": {},
   "outputs": [
    {
     "name": "stdout",
     "output_type": "stream",
     "text": [
      "['mar19_2', 'maxconv', 'aug19_binary1', 'mar19_1', 'clips', 'dec12_deep_H=80', 'dec8_1', 'dec10_deep', 'apr28_1', 'dec13_deep_best', 'may7_1', 'dec10_cnn', 'may6_1', 'mar19_3', 'dec12_deep', 'dec12_deep_H=20', 'nov16', 'dec10_lstm']\n"
     ]
    }
   ],
   "source": [
    "df_train = dfs[('clath_aux+gak_a7d2_new', 'train')]\n",
    "print(os.listdir(DIR_RESULTS))\n",
    "out_dir = f'{DIR_RESULTS}/dec13_deep_best'\n",
    "# out_dir = f'results/regression/deep_learning/Dec11'"
   ]
  },
  {
   "cell_type": "code",
   "execution_count": null,
   "metadata": {},
   "outputs": [],
   "source": [
    "os.makedirs(out_dir, exist_ok=True)\n",
    "outcome_def = 'Y_sig_mean_normalized'\n",
    "num_epochs = 100\n",
    "num_hidden = 40\n",
    "for model_type in ['nn_lstm']: #['nn_cnn', 'fcnn', 'nn_lstm']: # = 'nn_cnn' # 'nn_lstm', 'fcnn', 'nn_cnn', 'nn_attention'\n",
    "    train_reg.train_reg(df_train,\n",
    "                        feat_names=feat_names,\n",
    "                        track_name='X_same_length_normalized',\n",
    "                        model_type=model_type, \n",
    "                        outcome_def=outcome_def,\n",
    "                        out_name=oj(out_dir, f'{dset}_{outcome_def}_{model_type}_{num_epochs}_{num_hidden}.pkl'),\n",
    "                        fcnn_hidden_neurons=num_hidden,\n",
    "                        fcnn_epochs=num_epochs)"
   ]
  },
  {
   "cell_type": "markdown",
   "metadata": {},
   "source": [
    "**analyze cv results**"
   ]
  },
  {
   "cell_type": "code",
   "execution_count": 23,
   "metadata": {},
   "outputs": [
    {
     "name": "stdout",
     "output_type": "stream",
     "text": [
      "{'r2': [0.3410249004640089, 0.3208547273943092, 0.4126897499403642, 0.3594438570984312, 0.36538168636939417, 0.408612136123226, 0.3859741881617027, 0.4261156649998624], 'pearsonr': [0.5854548719270554, 0.56699047930762, 0.6433357214073335, 0.601086041946158, 0.6045239439241363, 0.6392560386371637, 0.6236078945096376, 0.6549200084527723]}\n",
      "dict_keys(['r2', 'pearsonr'])\n"
     ]
    },
    {
     "data": {
      "text/html": [
       "<div>\n",
       "<style scoped>\n",
       "    .dataframe tbody tr th:only-of-type {\n",
       "        vertical-align: middle;\n",
       "    }\n",
       "\n",
       "    .dataframe tbody tr th {\n",
       "        vertical-align: top;\n",
       "    }\n",
       "\n",
       "    .dataframe thead th {\n",
       "        text-align: right;\n",
       "    }\n",
       "</style>\n",
       "<table border=\"1\" class=\"dataframe\">\n",
       "  <thead>\n",
       "    <tr style=\"text-align: right;\">\n",
       "      <th></th>\n",
       "      <th>pearsonr</th>\n",
       "      <th>r2</th>\n",
       "    </tr>\n",
       "    <tr>\n",
       "      <th>model_type</th>\n",
       "      <th></th>\n",
       "      <th></th>\n",
       "    </tr>\n",
       "  </thead>\n",
       "  <tbody>\n",
       "    <tr>\n",
       "      <th>clath_aux+gak_a7d2_new_Y_sig_mean_normalized_nn_lstm_100_40</th>\n",
       "      <td>0.615</td>\n",
       "      <td>0.377</td>\n",
       "    </tr>\n",
       "  </tbody>\n",
       "</table>\n",
       "</div>"
      ],
      "text/plain": [
       "                                                    pearsonr     r2\n",
       "model_type                                                         \n",
       "clath_aux+gak_a7d2_new_Y_sig_mean_normalized_nn...     0.615  0.377"
      ]
     },
     "execution_count": 23,
     "metadata": {},
     "output_type": "execute_result"
    }
   ],
   "source": [
    "results = train_reg.load_results(out_dir)\n",
    "r = results\n",
    "r = r[[k for k in r if not 'std' in k]]\n",
    "r = r[[k for k in r if not '_f' in k]]\n",
    "# r = r[r.index.str.contains('ros')] # only use random sampling\n",
    "r = r.sort_values(by=['r2'], ascending=False)\n",
    "# r.style.background_gradient(cmap='viridis', axis=None) # all values on same cmap\n",
    "r[['pearsonr', 'r2']]"
   ]
  },
  {
   "cell_type": "markdown",
   "metadata": {},
   "source": [
    "## train neural net on all training data"
   ]
  },
  {
   "cell_type": "code",
   "execution_count": 4,
   "metadata": {},
   "outputs": [],
   "source": [
    "df_full = pd.concat([dfs[(k, s)]\n",
    "                     for (k, s) in dfs\n",
    "                     if s == 'train'])[feat_names + ['Y_sig_mean_normalized', 'y_consec_sig']]\n",
    "df_full = df_full.dropna()"
   ]
  },
  {
   "cell_type": "code",
   "execution_count": null,
   "metadata": {},
   "outputs": [],
   "source": [
    "np.random.seed(42)\n",
    "checkpoint_fname = '../models/dnn_full_long_normalized_across_track_1_feat.pkl'\n",
    "dnn = neural_networks.neural_net_sklearn(D_in=40, H=20, p=0, arch='lstm', epochs=200)\n",
    "dnn.fit(df_full[feat_names[:1]], df_full['Y_sig_mean_normalized'].values, verbose=True, checkpoint_fname=checkpoint_fname)\n",
    "pkl.dump({'model_state_dict': dnn.model.state_dict()}, open(checkpoint_fname, 'wb'))"
   ]
  },
  {
   "cell_type": "markdown",
   "metadata": {},
   "source": [
    "# transfer to classification"
   ]
  },
  {
   "cell_type": "code",
   "execution_count": 73,
   "metadata": {},
   "outputs": [
    {
     "data": {
      "text/plain": [
       "<All keys matched successfully>"
      ]
     },
     "execution_count": 73,
     "metadata": {},
     "output_type": "execute_result"
    }
   ],
   "source": [
    "results = pkl.load(open('../models/dnn_full_long_normalized_across_track_1_feat.pkl', 'rb'))\n",
    "# results = pkl.load(open('../models/clath_aux+gak_a7d2_new_Y_sig_mean_normalized_nn_lstm_100_40.pkl', 'rb'))\n",
    "dnn = neural_networks.neural_net_sklearn(D_in=40, H=20, p=0, arch='lstm')\n",
    "dnn.model.load_state_dict(results['model_state_dict'])"
   ]
  },
  {
   "cell_type": "code",
   "execution_count": null,
   "metadata": {},
   "outputs": [],
   "source": [
    "R = 2\n",
    "C = len(dfs) // 2\n",
    "\n",
    "# exclude the training data\n",
    "ds = {(k, v): dfs[(k, v)]\n",
    "      for (k, v) in sorted(dfs.keys(), key=lambda x: x[1] + x[0])\n",
    "      #if not k == 'clath_aux+gak_a7d2_new'\n",
    "     }\n",
    "\n",
    "\n",
    "plt.figure(dpi=200, figsize=(C * 3, R * 3))\n",
    "for i, (k, v) in enumerate(ds.keys()):\n",
    "    df = ds[(k, v)]\n",
    "    X = df[feat_names[:1]]\n",
    "    y = df['y_consec_thresh']\n",
    "    preds = dnn.predict(X)\n",
    "    \n",
    "    plt.subplot(R, C, i + 1)\n",
    "    y_pred = (preds > 0).astype(int)\n",
    "    acc = np.mean(y_pred == y)\n",
    "    print(k, v, np.mean(y), acc)\n",
    "    plt.title(f'{k} {v} {100*acc:0.1f}%', fontsize=10)\n",
    "    plt.hist(preds[y==0], alpha=1, label='aux-')\n",
    "    plt.hist(preds[y==1], alpha=0.5, label='aux+')\n",
    "    plt.yscale('log')\n",
    "    plt.xlabel('pred')\n",
    "    \n",
    "    if i == 0:\n",
    "        plt.legend()"
   ]
  },
  {
   "cell_type": "code",
   "execution_count": null,
   "metadata": {},
   "outputs": [],
   "source": [
    "R = 2\n",
    "C = len(dfs) // 2 \n",
    "\n",
    "plt.figure(dpi=200, figsize=(C * 3, R * 3))\n",
    "for i, (k, v) in enumerate(ds.keys()):\n",
    "    df = ds[(k, v)]\n",
    "    X = df[feat_names]\n",
    "    y = df['Y_sig_mean_normalized']\n",
    "    preds = dnn.predict(X)\n",
    "    \n",
    "    plt.subplot(R, C, i + 1)\n",
    "    acc = np.corrcoef(preds, y)[0, 1]\n",
    "    print(k, v) #, np.corrcoef(preds, y))\n",
    "    plt.title(f'{k} {v} {100*acc:0.1f}', fontsize=10)    \n",
    "    plt.plot(preds, df['Y_sig_mean_normalized'], '.')\n",
    "    plt.xlabel('pred')\n",
    "    plt.ylabel('aux_sig_mean')\n",
    "plt.show()"
   ]
  },
  {
   "cell_type": "markdown",
   "metadata": {},
   "source": [
    "# plot tracks where lstm does better than gb"
   ]
  },
  {
   "cell_type": "code",
   "execution_count": 5,
   "metadata": {},
   "outputs": [
    {
     "data": {
      "text/plain": [
       "GradientBoostingRegressor()"
      ]
     },
     "execution_count": 5,
     "metadata": {},
     "output_type": "execute_result"
    }
   ],
   "source": [
    "results = pkl.load(open('../models/dnn_full_long_normalized_across_track_1_feat.pkl', 'rb'))\n",
    "# results = pkl.load(open('../models/clath_aux+gak_a7d2_new_Y_sig_mean_normalized_nn_lstm_100_40.pkl', 'rb'))\n",
    "dnn = neural_networks.neural_net_sklearn(D_in=40, H=20, p=0, arch='lstm')\n",
    "dnn.model.load_state_dict(results['model_state_dict'])\n",
    "gb = GradientBoostingRegressor()\n",
    "gb.fit(df_full[feat_names[1:]], df_full['Y_sig_mean_normalized'].values)"
   ]
  },
  {
   "cell_type": "code",
   "execution_count": 32,
   "metadata": {},
   "outputs": [],
   "source": [
    "df = ds[('clath_aux+gak_a7d2', 'test')]\n",
    "X = df[feat_names[:1]]\n",
    "y = df['y_consec_thresh']\n",
    "preds_dnn = dnn.predict(X)\n",
    "preds_gb = gb.predict(df[feat_names[1:]])"
   ]
  },
  {
   "cell_type": "code",
   "execution_count": 57,
   "metadata": {},
   "outputs": [],
   "source": [
    "errs_gb = (preds_gb > 0) != y\n",
    "errs_dnn = (preds_dnn > 0) != y\n",
    "idxs_only_gb_errs = errs_gb & (~errs_dnn)\n",
    "diffs = np.abs(preds_dnn - preds_gb)\n",
    "idxs_diff_biggest = np.argsort(diffs)[::-1]\n",
    "idxs_only_gb_errs = idxs_only_gb_errs.values[idxs_diff_biggest]\n",
    "diffs = diffs[idxs_diff_biggest]"
   ]
  },
  {
   "cell_type": "code",
   "execution_count": null,
   "metadata": {},
   "outputs": [],
   "source": [
    "R = 4\n",
    "C = 7\n",
    "d = df[idxs_only_gb_errs]\n",
    "plt.figure(dpi=50, figsize=(C * 4, R * 4))\n",
    "for i in range(R * C):\n",
    "    plt.subplot(R, C, i + 1)\n",
    "    plt.plot(df['X_same_length'].iloc[i], color='red')\n",
    "    plt.xticks([])\n",
    "    plt.title(f'diff: {diffs[i]:.2f}')\n",
    "#     plt.title(f\"y:{y.values[dnn_best[i]]:0.1f}, gb:{preds_gb[dnn_best[i]]:0.1f}, dnn:{preds_dnn[dnn_best[i]]:0.1f}\")\n",
    "    \n",
    "plt.tight_layout()\n",
    "plt.show()"
   ]
  },
  {
   "cell_type": "code",
   "execution_count": null,
   "metadata": {},
   "outputs": [],
   "source": [
    "plt.scatter(preds_dnn, preds_gb)\n",
    "plt.xlabel(\"prediction of lstm\")\n",
    "plt.ylabel(\"prediction of gradient boosting\")"
   ]
  }
 ],
 "metadata": {
  "kernelspec": {
   "display_name": "Python 3",
   "language": "python",
   "name": "python3"
  },
  "language_info": {
   "codemirror_mode": {
    "name": "ipython",
    "version": 3
   },
   "file_extension": ".py",
   "mimetype": "text/x-python",
   "name": "python",
   "nbconvert_exporter": "python",
   "pygments_lexer": "ipython3",
   "version": "3.8.3"
  }
 },
 "nbformat": 4,
 "nbformat_minor": 4
}
