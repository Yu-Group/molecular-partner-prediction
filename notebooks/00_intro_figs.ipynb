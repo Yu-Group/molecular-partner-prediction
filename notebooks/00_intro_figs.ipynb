{
 "cells": [
  {
   "cell_type": "code",
   "execution_count": 83,
   "metadata": {},
   "outputs": [
    {
     "name": "stdout",
     "output_type": "stream",
     "text": [
      "The autoreload extension is already loaded. To reload it, use:\n",
      "  %reload_ext autoreload\n"
     ]
    }
   ],
   "source": [
    "%matplotlib inline\n",
    "%load_ext autoreload\n",
    "%autoreload 2\n",
    "from matplotlib import pyplot as plt\n",
    "import seaborn as sns\n",
    "import numpy as np\n",
    "import sys\n",
    "sys.path.append('..')\n",
    "sys.path.append('../src')\n",
    "import os\n",
    "from os.path import join as oj\n",
    "import numpy as np\n",
    "from copy import deepcopy\n",
    "import pandas as pd\n",
    "import data\n",
    "# import models\n",
    "import pickle as pkl\n",
    "from math import ceil\n",
    "# from style import *\n",
    "import dvu\n",
    "import viz\n",
    "from viz import *\n",
    "import config\n",
    "outcome_def = 'y_consec_thresh'"
   ]
  },
  {
   "cell_type": "code",
   "execution_count": 7,
   "metadata": {},
   "outputs": [],
   "source": [
    "# df = data.get_data(use_processed=True) #, dset='orig') # all_data=True\n",
    "df = data.get_data(dset='clath_aux_dynamin')\n",
    "dfv = df[~(df.short | df.long | df.hotspots)]\n",
    "dfv = dfv[dfv.lifetime > 15] # only keep hard tracks\n",
    "# dfv = df[df['valid'] == 1] # exclude test cells, short/long tracks, hotspots"
   ]
  },
  {
   "cell_type": "code",
   "execution_count": 8,
   "metadata": {},
   "outputs": [],
   "source": [
    "dft = dfv[dfv.cell_num.isin(config.DSETS['clath_aux_dynamin']['test'])] # exclude held-out test data"
   ]
  },
  {
   "cell_type": "markdown",
   "metadata": {},
   "source": [
    "**plot curves (for intro fig)**"
   ]
  },
  {
   "cell_type": "code",
   "execution_count": null,
   "metadata": {},
   "outputs": [],
   "source": [
    "R, C = 2, 2\n",
    "plt.figure(facecolor='w', figsize=(5, 5))\n",
    "viz.plot_curves(dfv.iloc[[0, 1, 48, 37]], extra_key='Z', extra_key_label='Dynamin',\n",
    "                R=R, C=R, fig=True, ylim_constant=True, legend=False, hline=False)\n",
    "plt.subplot(R, C, 2)\n",
    "plt.legend(fontsize=20, frameon=False, handlelength=0.7)\n",
    "for i in range(R * C):\n",
    "    plt.subplot(R, C, i + 1)\n",
    "    plt.xticks([])\n",
    "    plt.yticks([])\n",
    "    plt.xlim((0, 60))\n",
    "viz.savefig('intro_curves')"
   ]
  },
  {
   "cell_type": "markdown",
   "metadata": {},
   "source": [
    "**plot curves (for examples fig)**"
   ]
  },
  {
   "cell_type": "code",
   "execution_count": null,
   "metadata": {},
   "outputs": [],
   "source": [
    "plt.figure(figsize=(3, 8))\n",
    "R, C = 3, 1\n",
    "dfv_minus = dfv[dfv[outcome_def] == 0].sort_values('X_max')\n",
    "viz.plot_curves(dfv_minus, R=R, C=C, fig=True, extra_key='Z',\n",
    "                ylim_constant=True, legend=False, hline=False)\n",
    "plt.xlabel('Time (frames)')\n",
    "plt.ylabel('Amplitude')\n",
    "plt.subplot(R, C, 1)\n",
    "# plt.legend(fontsize=18)\n",
    "r = dfv_minus.iloc[0]\n",
    "plt.text(len(r.X), r.X[-1], 'Clathrin', color=cr, fontsize=20)\n",
    "# plt.title('A', loc='left', fontweight='bold')\n",
    "plt.text(len(r.Z), 50, 'Dynamin', color='gray', fontsize=20)\n",
    "plt.text(len(r.Y), 0, 'Auxilin', color=cg, fontsize=20)\n",
    "plt.title('Abortive')\n",
    "plt.tight_layout()\n",
    "viz.savefig('traces_minus')\n",
    "# plt.savefig('figs/fig_traces_minus.pdf')\n",
    "\n",
    "plt.figure(figsize=(3, 8))\n",
    "dfv_plus = dfv[(dfv[outcome_def] == 1) & (dfv.lifetime < 50)].sort_values('Y_max', ascending=False)\n",
    "viz.plot_curves(dfv_plus, R=R, C=C, fig=True, extra_key='Z',\n",
    "                ylim_constant=True, legend=False, hline=False)\n",
    "plt.xlabel('Time (frames)')\n",
    "plt.ylabel('Amplitude')\n",
    "plt.subplot(R, C, 1)\n",
    "# plt.title('B', loc='left', fontweight='bold')\n",
    "plt.title('Valid')\n",
    "plt.tight_layout()\n",
    "viz.savefig('traces_plus')\n",
    "# plt.savefig('figs/fig_traces_plus.pdf')"
   ]
  },
  {
   "cell_type": "markdown",
   "metadata": {},
   "source": [
    "## extract and plot videos"
   ]
  },
  {
   "cell_type": "code",
   "execution_count": 11,
   "metadata": {},
   "outputs": [],
   "source": [
    "cla_videos, aux_videos = viz.get_dynamin_data_video(dfv_minus, dfv_minus.pid.values[:3])"
   ]
  },
  {
   "cell_type": "code",
   "execution_count": null,
   "metadata": {},
   "outputs": [],
   "source": [
    "pid = dfv_minus.pid.values[2]\n",
    "n = len(aux_videos[pid])\n",
    "\n",
    "fig = plt.figure(figsize=(9, 4), dpi=200)\n",
    "for i in range(len(cla_videos[pid])):\n",
    "    ax = plt.subplot(4, 9, i + 1)\n",
    "    ax.imshow(cla_videos[pid][i], vmin=0, vmax=1, cmap='Reds') # Auxilin\n",
    "    ax.set_xticks([])\n",
    "    ax.set_yticks([])\n",
    "    ax.spines['left'].set_visible(False)\n",
    "    ax.spines['bottom'].set_visible(False)\n",
    "    ax.set_title(label=f't={i + 1}', fontsize=8)\n",
    "#plt.tight_layout()\n",
    "\n",
    "#plt.figure(figsize=(6, 3), dpi=200)\n",
    "for i in range(len(aux_videos[pid])):\n",
    "    ax = plt.subplot(4, 9, i + 19)\n",
    "    ax.imshow(aux_videos[pid][i], vmin=0, vmax=1, cmap='Greens') # Auxilin\n",
    "    ax.spines['left'].set_visible(False)\n",
    "    ax.spines['bottom'].set_visible(False)\n",
    "    ax.set_xticks([])\n",
    "    ax.set_yticks([])\n",
    "    ax.set_title(label=f't={i + 1}', fontsize=8)\n",
    "fig.text(0, 0.75, 'Clathrin trace', va='center', rotation='vertical')\n",
    "fig.text(0, 0.25, 'Auxilin trace', va='center', rotation='vertical')\n",
    "plt.tight_layout()\n",
    "\n",
    "viz.savefig('abortive_example')"
   ]
  },
  {
   "cell_type": "markdown",
   "metadata": {},
   "source": [
    "# make grid version of figs"
   ]
  },
  {
   "cell_type": "markdown",
   "metadata": {},
   "source": [
    "## grid of curves"
   ]
  },
  {
   "cell_type": "code",
   "execution_count": null,
   "metadata": {},
   "outputs": [],
   "source": [
    "d = pd.DataFrame()\n",
    "for l in [12, 21, 39]:\n",
    "    ds = df[df.lifetime == l].sort_values('X_max')\n",
    "    d = d.append(ds.iloc[[0, ds.shape[0]//2, -1]])\n",
    "\n",
    "# print(d)\n",
    "fig = plt.figure(figsize=(10, 9))\n",
    "viz.plot_curves(d, R=3, C=3, hline=False,\n",
    "                xlim_constant=True,\n",
    "                ylim_constant=True,\n",
    "                legend=False,\n",
    "                extra_key='Z',\n",
    "                extra_key_label='Dynamin',\n",
    "                xlim=(0, 40),\n",
    "                ylim=(-300, 40000),\n",
    "                fig=fig)\n",
    "plt.subplot(3, 3, 3)\n",
    "dvu.line_legend()\n",
    "plt.xlim((0, 40))\n",
    "\n",
    "plt.subplot(3, 3, 4)\n",
    "plt.ylabel('Fitted amplitude')\n",
    "\n",
    "plt.subplot(3, 3, 8)\n",
    "plt.xlabel('Lifetime')\n",
    "\n",
    "\n",
    "viz.savefig('intro_grid')\n",
    "plt.show()"
   ]
  },
  {
   "cell_type": "code",
   "execution_count": 68,
   "metadata": {},
   "outputs": [],
   "source": [
    "cla_videos, aux_videos = viz.get_dynamin_data_video(d, d.pid.values)"
   ]
  },
  {
   "cell_type": "code",
   "execution_count": null,
   "metadata": {},
   "outputs": [],
   "source": [
    "for ex_num, name in zip([6, 8], ['abortive', 'valid']):\n",
    "    pid = d.pid.values[ex_num]\n",
    "    n = len(aux_videos[pid])\n",
    "    subsample = 3\n",
    "    nsub = ceil(n / subsample)\n",
    "\n",
    "    fig = plt.figure(figsize=(9, 4), dpi=200, facecolor='w')\n",
    "    for j, i in enumerate(range(len(cla_videos[pid]))[::subsample]):\n",
    "        ax = plt.subplot(2, nsub, j + 1)\n",
    "        ax.imshow(cla_videos[pid][i], vmin=0, vmax=1, cmap='Reds') # Auxilin\n",
    "        ax.set_xticks([])\n",
    "        ax.set_yticks([])\n",
    "        ax.spines['left'].set_visible(False)\n",
    "        ax.spines['bottom'].set_visible(False)\n",
    "        ax.set_title(label=f't={i + 1}', fontsize=8)\n",
    "\n",
    "    for j, i in enumerate(range(len(aux_videos[pid]))[::subsample]):\n",
    "        ax = plt.subplot(2, nsub, j + 1 + nsub)\n",
    "        ax.imshow(aux_videos[pid][i], vmin=0, vmax=1, cmap='Greens') # Auxilin\n",
    "        ax.spines['left'].set_visible(False)\n",
    "        ax.spines['bottom'].set_visible(False)\n",
    "        ax.set_xticks([])\n",
    "        ax.set_yticks([])\n",
    "        ax.set_title(label=f't={i + 1}', fontsize=8)\n",
    "    plt.subplot(2, nsub, 1)\n",
    "    plt.ylabel('Clathrin')\n",
    "    plt.subplot(2, nsub, nsub + 1)\n",
    "    plt.ylabel('Auxilin')\n",
    "    plt.tight_layout()\n",
    "\n",
    "    viz.savefig(f'grid_{name}')"
   ]
  },
  {
   "cell_type": "markdown",
   "metadata": {},
   "source": [
    "# viz hists"
   ]
  },
  {
   "cell_type": "code",
   "execution_count": null,
   "metadata": {},
   "outputs": [],
   "source": [
    "outcome = df[outcome_def]\n",
    "R, C = 2, 1\n",
    "\n",
    "\n",
    "plt.figure(figsize=(6, 12), dpi=200)\n",
    "plt.subplot(R, C, 1)\n",
    "# plt.title('C', loc='left', fontweight='bold')\n",
    "plt.title('All events')\n",
    "plt.hist(df['lifetime'][outcome == 1], label='Valid', alpha=1, color=cb, bins=25)\n",
    "plt.hist(df['lifetime'][outcome == 0], label='Abortive', alpha=0.7, color=co, bins=25)\n",
    "plt.xlabel('Lifetime')\n",
    "plt.ylabel('Count')\n",
    "plt.legend(fontsize=18, frameon=False)\n",
    "plt.yscale('log')\n",
    "\n",
    "plt.subplot(R, C, 2)\n",
    "plt.hist(df['X_max'][outcome == 1], label='Valid', alpha=1, color=cb, bins=25)\n",
    "plt.hist(df['X_max'][outcome == 0], label='Abortive', alpha=0.7, color=co, bins=25)\n",
    "plt.xlabel('Clathrin max amplitude')\n",
    "plt.ylabel('Count')\n",
    "plt.yscale('log')\n",
    "\n",
    "'''\n",
    "plt.subplot(R, C, 3)\n",
    "plt.hist(df['fall'][outcome == 1], label='aux+', alpha=1, color=cb, bins=25)\n",
    "plt.hist(df['fall'][outcome == 0], label='aux-', alpha=0.7, color=cr, bins=25)\n",
    "plt.xlabel('Fall')\n",
    "plt.ylabel('Count')\n",
    "'''\n",
    "plt.tight_layout()\n",
    "viz.savefig('hists')\n",
    "# plt.savefig('figs/fig_hists.pdf')\n",
    "plt.show()"
   ]
  },
  {
   "cell_type": "markdown",
   "metadata": {},
   "source": [
    "# dset sizes"
   ]
  },
  {
   "cell_type": "code",
   "execution_count": null,
   "metadata": {},
   "outputs": [],
   "source": [
    "viz.print_metadata(acc=None, metadata_file='processed/metadata_clath_aux.pkl')"
   ]
  },
  {
   "cell_type": "code",
   "execution_count": 85,
   "metadata": {},
   "outputs": [],
   "source": [
    "df_test = df[df.cell_num.isin(config.SPLITS['orig']['test'])]"
   ]
  },
  {
   "cell_type": "code",
   "execution_count": 88,
   "metadata": {},
   "outputs": [
    {
     "name": "stdout",
     "output_type": "stream",
     "text": [
      "valid 2497 561.0\n"
     ]
    }
   ],
   "source": [
    "print('valid', df_test.shape[0], df_test[outcome_def].sum())"
   ]
  },
  {
   "cell_type": "code",
   "execution_count": 91,
   "metadata": {},
   "outputs": [
    {
     "name": "stdout",
     "output_type": "stream",
     "text": [
      "difficult 1045 469.0\n"
     ]
    }
   ],
   "source": [
    "d = df_test[~df_test['short'] & ~df_test['long']]\n",
    "print('difficult', d.shape[0], d[outcome_def].sum())"
   ]
  }
 ],
 "metadata": {
  "kernelspec": {
   "display_name": "Python 3",
   "language": "python",
   "name": "python3"
  },
  "language_info": {
   "codemirror_mode": {
    "name": "ipython",
    "version": 3
   },
   "file_extension": ".py",
   "mimetype": "text/x-python",
   "name": "python",
   "nbconvert_exporter": "python",
   "pygments_lexer": "ipython3",
   "version": "3.8.3"
  },
  "pycharm": {
   "stem_cell": {
    "cell_type": "raw",
    "metadata": {
     "collapsed": false
    },
    "source": []
   }
  }
 },
 "nbformat": 4,
 "nbformat_minor": 4
}
