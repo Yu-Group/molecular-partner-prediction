{
 "cells": [
  {
   "cell_type": "code",
   "execution_count": 31,
   "metadata": {},
   "outputs": [
    {
     "name": "stdout",
     "output_type": "stream",
     "text": [
      "The autoreload extension is already loaded. To reload it, use:\n",
      "  %reload_ext autoreload\n"
     ]
    }
   ],
   "source": [
    "%matplotlib inline\n",
    "%load_ext autoreload\n",
    "%autoreload 2\n",
    "from matplotlib import pyplot as plt\n",
    "import seaborn as sns\n",
    "import numpy as np\n",
    "import sys\n",
    "sys.path.append('..')\n",
    "sys.path.append('../src')\n",
    "import os\n",
    "from os.path import join as oj\n",
    "import numpy as np\n",
    "from copy import deepcopy\n",
    "import pandas as pd\n",
    "import data\n",
    "# import models\n",
    "from math import ceil\n",
    "# from style import *\n",
    "import dvu\n",
    "import pickle as pkl\n",
    "from tqdm import tqdm\n",
    "# from style import *\n",
    "import neural_networks\n",
    "import viz\n",
    "from viz import *\n",
    "import config\n",
    "import outcomes\n",
    "outcome_def = 'successful_full'"
   ]
  },
  {
   "cell_type": "markdown",
   "metadata": {},
   "source": [
    "# setup defn"
   ]
  },
  {
   "cell_type": "code",
   "execution_count": 7,
   "metadata": {},
   "outputs": [
    {
     "name": "stderr",
     "output_type": "stream",
     "text": [
      "100%|██████████| 1/1 [01:05<00:00, 65.04s/it]\n"
     ]
    }
   ],
   "source": [
    "# load model\n",
    "dfs, feat_names = data.load_dfs_for_lstm(dsets=['clath_aux_dynamin'], splits=['train', 'test'],\n",
    "                                         meta=['cell_num', 'Y_sig_mean', 'Y_sig_mean_normalized'], normalize=False)"
   ]
  },
  {
   "cell_type": "code",
   "execution_count": 13,
   "metadata": {},
   "outputs": [],
   "source": [
    "df = pd.concat([dfs[(k, s)] for (k, s) in dfs])"
   ]
  },
  {
   "cell_type": "code",
   "execution_count": 14,
   "metadata": {},
   "outputs": [
    {
     "data": {
      "text/plain": [
       "<All keys matched successfully>"
      ]
     },
     "execution_count": 14,
     "metadata": {},
     "output_type": "execute_result"
    }
   ],
   "source": [
    "# df = data.get_data(use_processed=True) #, dset='orig') # all_data=True\n",
    "# df = data.get_data(dset='clath_aux_dynamin')\n",
    "df = outcomes.add_aux_dyn_outcome(df)\n",
    "# dfv = df[df['valid'] == 1] # exclude test cells, short/long tracks, hotspots\n",
    "\n",
    "p = 1\n",
    "results = pkl.load(open(config.FINAL_MODEL, 'rb'))\n",
    "dnn = neural_networks.neural_net_sklearn(D_in=40, H=20, p=p-1, arch='lstm')\n",
    "dnn.model.load_state_dict(results['model_state_dict'])"
   ]
  },
  {
   "cell_type": "code",
   "execution_count": 26,
   "metadata": {},
   "outputs": [],
   "source": [
    "df['preds'] = dnn.predict(df[feat_names[:1]])\n",
    "df = df.sort_values(by='preds')\n",
    "x = df[feat_names[:1]]\n",
    "y = df['successful_full'].values\n",
    "preds = dnn.predict(x)\n",
    "n = df.shape[0]"
   ]
  },
  {
   "cell_type": "markdown",
   "metadata": {},
   "source": [
    "# viz errs"
   ]
  },
  {
   "cell_type": "code",
   "execution_count": 37,
   "metadata": {},
   "outputs": [
    {
     "name": "stderr",
     "output_type": "stream",
     "text": [
      "  0%|          | 0/151 [00:00<?, ?it/s]"
     ]
    },
    {
     "name": "stdout",
     "output_type": "stream",
     "text": [
      "tp 7583 tn 16694 fp 3369 fn 1428\n",
      "tp 7583\n"
     ]
    },
    {
     "name": "stderr",
     "output_type": "stream",
     "text": [
      "100%|██████████| 151/151 [1:19:30<00:00, 31.59s/it]\n",
      "  0%|          | 0/333 [00:00<?, ?it/s]"
     ]
    },
    {
     "name": "stdout",
     "output_type": "stream",
     "text": [
      "tn 16694\n"
     ]
    },
    {
     "name": "stderr",
     "output_type": "stream",
     "text": [
      "100%|██████████| 333/333 [2:14:20<00:00, 24.21s/it]  \n",
      "  0%|          | 0/28 [00:00<?, ?it/s]"
     ]
    },
    {
     "name": "stdout",
     "output_type": "stream",
     "text": [
      "fp 1428\n"
     ]
    },
    {
     "name": "stderr",
     "output_type": "stream",
     "text": [
      "100%|██████████| 28/28 [11:58<00:00, 25.65s/it]\n",
      "  0%|          | 0/28 [00:00<?, ?it/s]"
     ]
    },
    {
     "name": "stdout",
     "output_type": "stream",
     "text": [
      "fn 1428\n"
     ]
    },
    {
     "name": "stderr",
     "output_type": "stream",
     "text": [
      "100%|██████████| 28/28 [11:53<00:00, 25.49s/it]\n"
     ]
    }
   ],
   "source": [
    "# for figure\n",
    "y = df[outcome_def].astype(bool)\n",
    "p = df['preds'].values > 0\n",
    "\n",
    "tp = y & p\n",
    "tn = ~y & ~p\n",
    "fp = ~y & p\n",
    "fn = y & ~p\n",
    "\n",
    "ks = {\n",
    "    'tp': tp,\n",
    "    'tn': tn,\n",
    "    'fp': fn,\n",
    "    'fn': fn\n",
    "}\n",
    "print('tp', tp.sum(), 'tn', tn.sum(), 'fp', fp.sum(), 'fn', fn.sum())\n",
    "\n",
    "\n",
    "for k in ks:\n",
    "    idxs = ks[k]\n",
    "    num_tot = idxs.sum()\n",
    "    print(k, idxs.sum())\n",
    "\n",
    "    R = 5\n",
    "    C = 10\n",
    "    MULT = R * C\n",
    "    for fig_num in tqdm(range(num_tot // MULT)):\n",
    "        \n",
    "\n",
    "        fig = plt.figure(figsize=(C * 3, R * 2.5), facecolor='w')\n",
    "        d = df[idxs].iloc[fig_num * MULT: (fig_num + 1) * MULT]\n",
    "\n",
    "        if k == 'fn':\n",
    "            clathmax = 3500\n",
    "            auxmax = 2000\n",
    "        else:\n",
    "            clathmax = 16000\n",
    "            auxmax = 3500\n",
    "    \n",
    "        viz.plot_curves(d, R=R, C=C, hline=False,\n",
    "                xlim_constant=True,\n",
    "                ylim_constant=True,\n",
    "                legend=True,\n",
    "                extra_key='Z_extended',\n",
    "                extra_key_label='Dynamin',\n",
    "                #xlim=(0, 55),\n",
    "                ylim_cla=(-500, clathmax),\n",
    "                ylim_aux=(-500, auxmax),\n",
    "                ylim_dyn=(-500, auxmax),\n",
    "                yticks=[0, 2000],\n",
    "                background=True,\n",
    "                show_track_pid=True,\n",
    "                #yticklabels=[\"$0$\", \"$10^4$\"],                \n",
    "                fig=fig\n",
    "        )\n",
    "\n",
    "\n",
    "        plt.savefig(f'{k}_{fig_num}.pdf')\n",
    "#         plt.show()\n",
    "        fig.clear()\n",
    "        plt.close(fig)"
   ]
  },
  {
   "cell_type": "markdown",
   "metadata": {},
   "source": [
    "# save out ids"
   ]
  },
  {
   "cell_type": "code",
   "execution_count": 36,
   "metadata": {},
   "outputs": [],
   "source": [
    "for k in ks:\n",
    "    ids = df[ks[k]].pid\n",
    "    np.savetxt(k + '.csv', ids, fmt='%d', delimiter=',')"
   ]
  }
 ],
 "metadata": {
  "kernelspec": {
   "display_name": "Python 3",
   "language": "python",
   "name": "python3"
  },
  "language_info": {
   "codemirror_mode": {
    "name": "ipython",
    "version": 3
   },
   "file_extension": ".py",
   "mimetype": "text/x-python",
   "name": "python",
   "nbconvert_exporter": "python",
   "pygments_lexer": "ipython3",
   "version": "3.8.3"
  },
  "pycharm": {
   "stem_cell": {
    "cell_type": "raw",
    "metadata": {
     "collapsed": false
    },
    "source": []
   }
  }
 },
 "nbformat": 4,
 "nbformat_minor": 4
}
