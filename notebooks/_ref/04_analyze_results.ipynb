{
 "cells": [
  {
   "cell_type": "code",
   "execution_count": 6,
   "metadata": {},
   "outputs": [
    {
     "name": "stdout",
     "output_type": "stream",
     "text": [
      "The autoreload extension is already loaded. To reload it, use:\n",
      "  %reload_ext autoreload\n"
     ]
    }
   ],
   "source": [
    "%matplotlib inline\n",
    "%load_ext autoreload\n",
    "%autoreload 2\n",
    "import warnings\n",
    "import sys\n",
    "sys.path.append('../src')\n",
    "warnings.filterwarnings(\"ignore\")\n",
    "from config import *\n",
    "from os.path import join as oj\n",
    "import numpy as np\n",
    "import viz\n",
    "from viz import *\n",
    "import analyze_helper\n",
    "\n",
    "outcome_def = 'y_consec_thresh'\n",
    "out_dir = '../models'\n",
    "# out_dir = oj(DIR_RESULTS, 'may7_1')\n",
    "# out_dir = oj(DIR_RESULTS, 'aug19_binary1')\n",
    "# out_dir = oj(DIR_RESULTS, 'nov16')\n",
    "results = analyze_helper.load_results(out_dir)"
   ]
  },
  {
   "cell_type": "markdown",
   "metadata": {},
   "source": [
    "**baseline stats**"
   ]
  },
  {
   "cell_type": "code",
   "execution_count": 7,
   "metadata": {},
   "outputs": [
    {
     "name": "stdout",
     "output_type": "stream",
     "text": [
      "valid:\t\t2066 aux+ / 7594 (0.272)\n",
      "----------------------------------------\n",
      "hotspots:\t 349 aux+ /  349\n",
      "short:\t\t 283 aux+ / 5697 (0.950)\n",
      "long:\t\t 108 aux+ /  113 (0.953)\n",
      "hard:\t\t1482 aux+ / 2936 (0.505)\n",
      "----------------------------------------\n",
      "hard acc:\t\t\t  0.744\n",
      "\n",
      "lifetime threshes 15 161\n"
     ]
    }
   ],
   "source": [
    "viz.print_metadata(acc=results.accuracy.max())"
   ]
  },
  {
   "cell_type": "markdown",
   "metadata": {},
   "source": [
    "**look at prediction metrics**"
   ]
  },
  {
   "cell_type": "code",
   "execution_count": 8,
   "metadata": {},
   "outputs": [
    {
     "data": {
      "text/html": [
       "<style  type=\"text/css\" >\n",
       "    #T_4f5bac70_30e8_11eb_b5f4_002590eb0710row0_col0 {\n",
       "            background-color:  #440154;\n",
       "            color:  #f1f1f1;\n",
       "        }    #T_4f5bac70_30e8_11eb_b5f4_002590eb0710row0_col1 {\n",
       "            background-color:  #440154;\n",
       "            color:  #f1f1f1;\n",
       "        }    #T_4f5bac70_30e8_11eb_b5f4_002590eb0710row0_col2 {\n",
       "            background-color:  #440154;\n",
       "            color:  #f1f1f1;\n",
       "        }    #T_4f5bac70_30e8_11eb_b5f4_002590eb0710row0_col3 {\n",
       "            background-color:  #440154;\n",
       "            color:  #f1f1f1;\n",
       "        }    #T_4f5bac70_30e8_11eb_b5f4_002590eb0710row0_col4 {\n",
       "            background-color:  #440154;\n",
       "            color:  #f1f1f1;\n",
       "        }    #T_4f5bac70_30e8_11eb_b5f4_002590eb0710row0_col5 {\n",
       "            background-color:  #440154;\n",
       "            color:  #f1f1f1;\n",
       "        }</style><table id=\"T_4f5bac70_30e8_11eb_b5f4_002590eb0710\" ><thead>    <tr>        <th class=\"blank level0\" ></th>        <th class=\"col_heading level0 col0\" >accuracy</th>        <th class=\"col_heading level0 col1\" >balanced_accuracy</th>        <th class=\"col_heading level0 col2\" >f1</th>        <th class=\"col_heading level0 col3\" >precision</th>        <th class=\"col_heading level0 col4\" >recall</th>        <th class=\"col_heading level0 col5\" >roc_auc</th>    </tr>    <tr>        <th class=\"index_name level0\" >model_type</th>        <th class=\"blank\" ></th>        <th class=\"blank\" ></th>        <th class=\"blank\" ></th>        <th class=\"blank\" ></th>        <th class=\"blank\" ></th>        <th class=\"blank\" ></th>    </tr></thead><tbody>\n",
       "                <tr>\n",
       "                        <th id=\"T_4f5bac70_30e8_11eb_b5f4_002590eb0710level0_row0\" class=\"row_heading level0 row0\" >mlp2_17_select_lasso=7_ros=1_h=0_cal=True</th>\n",
       "                        <td id=\"T_4f5bac70_30e8_11eb_b5f4_002590eb0710row0_col0\" class=\"data row0 col0\" >0.744</td>\n",
       "                        <td id=\"T_4f5bac70_30e8_11eb_b5f4_002590eb0710row0_col1\" class=\"data row0 col1\" >0.754</td>\n",
       "                        <td id=\"T_4f5bac70_30e8_11eb_b5f4_002590eb0710row0_col2\" class=\"data row0 col2\" >0.75</td>\n",
       "                        <td id=\"T_4f5bac70_30e8_11eb_b5f4_002590eb0710row0_col3\" class=\"data row0 col3\" >0.742</td>\n",
       "                        <td id=\"T_4f5bac70_30e8_11eb_b5f4_002590eb0710row0_col4\" class=\"data row0 col4\" >0.777</td>\n",
       "                        <td id=\"T_4f5bac70_30e8_11eb_b5f4_002590eb0710row0_col5\" class=\"data row0 col5\" >0.824</td>\n",
       "            </tr>\n",
       "    </tbody></table>"
      ],
      "text/plain": [
       "<pandas.io.formats.style.Styler at 0x7f0b0a494310>"
      ]
     },
     "execution_count": 8,
     "metadata": {},
     "output_type": "execute_result"
    }
   ],
   "source": [
    "r = results\n",
    "r = r[[k for k in r if not 'std' in k]]\n",
    "r = r[[k for k in r if not '_f' in k]]\n",
    "# r = r[r.index.str.contains('ros')] # only use random sampling\n",
    "r = r.sort_values(by=['accuracy', 'balanced_accuracy'], ascending=False).head(100)\n",
    "# r.style.background_gradient(cmap='viridis', axis=None) # all values on same cmap\n",
    "r.style.background_gradient(cmap='viridis', axis=0) # columns differently colored\n",
    "# r.style.apply(viz.highlight_max, subset=[k for k in r if not 'std' in k])"
   ]
  },
  {
   "cell_type": "markdown",
   "metadata": {},
   "source": [
    "**look at feat importances**"
   ]
  },
  {
   "cell_type": "code",
   "execution_count": 9,
   "metadata": {},
   "outputs": [
    {
     "data": {
      "text/html": [
       "<style  type=\"text/css\" >\n",
       "    #T_50b02b64_30e8_11eb_b5f4_002590eb0710row0_col2 {\n",
       "            color:  #1f77b4;\n",
       "        }    #T_50b02b64_30e8_11eb_b5f4_002590eb0710row0_col3 {\n",
       "            color:  #cc3399;\n",
       "        }    #T_50b02b64_30e8_11eb_b5f4_002590eb0710row0_col4 {\n",
       "            color:  #cc0000;\n",
       "        }    #T_50b02b64_30e8_11eb_b5f4_002590eb0710row0_col5 {\n",
       "            color:  maroon;\n",
       "        }    #T_50b02b64_30e8_11eb_b5f4_002590eb0710row0_col6 {\n",
       "            color:  maroon;\n",
       "        }    #T_50b02b64_30e8_11eb_b5f4_002590eb0710row0_col7 {\n",
       "            color:  maroon;\n",
       "        }</style><table id=\"T_50b02b64_30e8_11eb_b5f4_002590eb0710\" ><thead>    <tr>        <th class=\"blank level0\" ></th>        <th class=\"col_heading level0 col0\" >acc</th>        <th class=\"col_heading level0 col1\" >num_feats</th>        <th class=\"col_heading level0 col2\" >X_mean</th>        <th class=\"col_heading level0 col3\" >lifetime</th>        <th class=\"col_heading level0 col4\" >msd</th>        <th class=\"col_heading level0 col5\" >X_max</th>        <th class=\"col_heading level0 col6\" >X_min</th>        <th class=\"col_heading level0 col7\" >mean_total_displacement</th>    </tr>    <tr>        <th class=\"index_name level0\" >model_type</th>        <th class=\"blank\" ></th>        <th class=\"blank\" ></th>        <th class=\"blank\" ></th>        <th class=\"blank\" ></th>        <th class=\"blank\" ></th>        <th class=\"blank\" ></th>        <th class=\"blank\" ></th>        <th class=\"blank\" ></th>    </tr></thead><tbody>\n",
       "                <tr>\n",
       "                        <th id=\"T_50b02b64_30e8_11eb_b5f4_002590eb0710level0_row0\" class=\"row_heading level0 row0\" >mlp2_17_select_lasso=7_ros=1_h=0_cal=True</th>\n",
       "                        <td id=\"T_50b02b64_30e8_11eb_b5f4_002590eb0710row0_col0\" class=\"data row0 col0\" >0.744</td>\n",
       "                        <td id=\"T_50b02b64_30e8_11eb_b5f4_002590eb0710row0_col1\" class=\"data row0 col1\" >6</td>\n",
       "                        <td id=\"T_50b02b64_30e8_11eb_b5f4_002590eb0710row0_col2\" class=\"data row0 col2\" >1</td>\n",
       "                        <td id=\"T_50b02b64_30e8_11eb_b5f4_002590eb0710row0_col3\" class=\"data row0 col3\" >2</td>\n",
       "                        <td id=\"T_50b02b64_30e8_11eb_b5f4_002590eb0710row0_col4\" class=\"data row0 col4\" >3</td>\n",
       "                        <td id=\"T_50b02b64_30e8_11eb_b5f4_002590eb0710row0_col5\" class=\"data row0 col5\" >4</td>\n",
       "                        <td id=\"T_50b02b64_30e8_11eb_b5f4_002590eb0710row0_col6\" class=\"data row0 col6\" >5</td>\n",
       "                        <td id=\"T_50b02b64_30e8_11eb_b5f4_002590eb0710row0_col7\" class=\"data row0 col7\" >6</td>\n",
       "            </tr>\n",
       "    </tbody></table>"
      ],
      "text/plain": [
       "<pandas.io.formats.style.Styler at 0x7f0b0a4654d0>"
      ]
     },
     "execution_count": 9,
     "metadata": {},
     "output_type": "execute_result"
    }
   ],
   "source": [
    "r = results\n",
    "# r.style.apply(viz.highlight_max, subset=[k for k in r if not 'std' in k])\n",
    "# r = r[r.accuracy > np.percentile(r.accuracy, 80)]\n",
    "\n",
    "keys = [k for k in r if '_f' in k]\n",
    "keys_remapped = {k: k.replace('_f', '') for k in keys}\n",
    "r = r[keys].rename(columns=keys_remapped)\n",
    "# r = r.sort_values('lifetime')\n",
    "r = r.rename(columns={'mean_square_displacement': 'msd', 'total_displacement': 'td'})\n",
    "# r = r[r2.index.str.contains('ros')]\n",
    "# r = r[r.index.str.contains('none')]\n",
    "r = r[[k for k in r if not 'std' in k]]\n",
    "\n",
    "\n",
    "def rank(r):\n",
    "    '''Rank feature importances appropriately\n",
    "    '''\n",
    "    r = r.abs()\n",
    "    r = r.rank(axis=1, ascending=False, method='min')\n",
    "    return r\n",
    "# \n",
    "r = rank(r)\n",
    "# r = r.reindex(r.mean().sort_values(ascending=True).index, axis=1) # sort cols by mean rank\n",
    "\n",
    "idxs = r.index\n",
    "r.insert(0, 'acc', results.loc[idxs]['accuracy'])\n",
    "r = r.sort_values('acc', ascending=False)\n",
    "r = r.reindex(r.iloc[0].sort_values(ascending=True).index, axis=1) # sort cols by mean rank\n",
    "subset = list(r.keys())\n",
    "subset.remove('acc')\n",
    "r.insert(1, 'num_feats', r.apply(lambda row: np.sum(~np.isnan(row.values)) - 1, axis=1))\n",
    "\n",
    "\n",
    "def color_vals(val):\n",
    "    colors = {\n",
    "        1: cb, 2: cp, 3: cr,\n",
    "    }\n",
    "    if not val in colors:\n",
    "        color = 'maroon'\n",
    "    else:\n",
    "        color = colors[val]\n",
    "    return 'color: %s' % color\n",
    "\n",
    "r = r[r.num_feats < 7].head(10)\n",
    "\n",
    "r.fillna(\"\").style.applymap(color_vals, subset=subset)\n",
    "# r.fillna(0).style.background_gradient(cmap='viridis_r', axis=1, subset=subset) # rows differently colored"
   ]
  }
 ],
 "metadata": {
  "kernelspec": {
   "display_name": "Python 3",
   "language": "python",
   "name": "python3"
  },
  "language_info": {
   "codemirror_mode": {
    "name": "ipython",
    "version": 3
   },
   "file_extension": ".py",
   "mimetype": "text/x-python",
   "name": "python",
   "nbconvert_exporter": "python",
   "pygments_lexer": "ipython3",
   "version": "3.8.3"
  },
  "pycharm": {
   "stem_cell": {
    "cell_type": "raw",
    "metadata": {
     "collapsed": false
    },
    "source": []
   }
  }
 },
 "nbformat": 4,
 "nbformat_minor": 4
}
