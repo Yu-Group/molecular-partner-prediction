{
 "cells": [
  {
   "cell_type": "code",
   "execution_count": null,
   "metadata": {},
   "outputs": [],
   "source": [
    "%matplotlib inline\n",
    "%load_ext autoreload\n",
    "%autoreload 2\n",
    "import os\n",
    "import sys\n",
    "sys.path.append('../src')\n",
    "import numpy as np\n",
    "from matplotlib import pyplot as plt\n",
    "plt.style.use('dark_background')\n",
    "import data\n",
    "import pickle as pkl\n",
    "from tqdm import tqdm\n",
    "import train_reg\n",
    "#df = data.get_tracks() # note: different Xs can be different shapes\n",
    "#df = data.remove_invalid_tracks(df)\n",
    "#df = data.preprocess(df)\n",
    "#df = data.add_outcome(df)\n",
    "#n = df.shape[0]"
   ]
  },
  {
   "cell_type": "code",
   "execution_count": 2,
   "metadata": {},
   "outputs": [],
   "source": [
    "df = data.get_data()\n",
    "df = df[df['valid'] == 1] # exclude test cells, short/long tracks, hotspots\n",
    "\n",
    "X_first_sig_frac = []\n",
    "X_last_sig_frac = []\n",
    "X_sig_mean_frac = []\n",
    "X_sig_exist = []\n",
    "X_min_time_frac = []\n",
    "X_fall_below_mean_time = []\n",
    "\n",
    "for i in range(len(df)):\n",
    "    track = df.iloc[i]\n",
    "    X_sig = np.where(track['X'] > track['X_mean'] + 1*track['X_std'])[0]\n",
    "    X_min_time_frac.append(np.argmin(track['X'])/track['lifetime'])\n",
    "    below_mean_after_peak = np.where(track['X'][track['X_peak_idx']:] < track['X_mean'])[0]\n",
    "    if len(below_mean_after_peak)>0:\n",
    "        X_fall_below_mean_time.append(np.min(below_mean_after_peak)/track['lifetime'])\n",
    "    else:\n",
    "        X_fall_below_mean_time.append(1-track['X_peak_idx']/track['lifetime'])\n",
    "        \n",
    "    if len(X_sig) >= 1:\n",
    "        X_first_sig_frac.append(min(X_sig)/track['lifetime'])\n",
    "        X_last_sig_frac.append(max(X_sig)/track['lifetime'])\n",
    "        X_sig_mean_frac.append(np.mean(X_sig)/track['lifetime'])\n",
    "        X_sig_exist.append(True)\n",
    "    else:\n",
    "        X_first_sig_frac.append(0.36)\n",
    "        X_last_sig_frac.append(0.80)\n",
    "        X_sig_mean_frac.append(0.59)\n",
    "        X_sig_exist.append(False)\n",
    "df['X_first_sig_frac'] = X_first_sig_frac\n",
    "df['X_last_sig_frac'] = X_last_sig_frac\n",
    "df['X_sig_mean_frac'] = X_sig_mean_frac\n",
    "df['X_sig_exist'] = X_sig_exist\n",
    "df['X_min_time_frac'] = X_min_time_frac\n",
    "df['X_fall_below_mean_time'] = X_fall_below_mean_time"
   ]
  },
  {
   "cell_type": "code",
   "execution_count": 75,
   "metadata": {},
   "outputs": [],
   "source": [
    "outcome_def = 'Y_peak_time_frac_diff'\n",
    "df[outcome_def] = df['Y_peak_time_frac'] - df['X_peak_time_frac']\n",
    "#df = df[df['X_sig_exist'] == True]\n",
    "out_dir = f'results/regression/{outcome_def}'\n",
    "os.makedirs(out_dir, exist_ok=True)\n",
    "feat_names = data.get_feature_names(df)\n",
    "feat_names = [x for x in feat_names \n",
    "              if not x.startswith('sc_') \n",
    "              and not x.startswith('nmf_')\n",
    "              and not x in ['center_max', 'left_max', 'right_max', 'up_max', 'down_max',\n",
    "                           'X_max_around_Y_peak', 'X_max_after_Y_peak', 'X_max_diff']\n",
    "              and not x.startswith('pc_')\n",
    "#               and not 'slope' in x\n",
    "             ]\n",
    "feat_names = [x for x in feat_names if '_tf_smooth' not in x]\n",
    "#feat_names = ['X_peak_time_frac']"
   ]
  },
  {
   "cell_type": "code",
   "execution_count": 76,
   "metadata": {},
   "outputs": [
    {
     "data": {
      "text/plain": [
       "['total_displacement',\n",
       " 'mean_square_displacement',\n",
       " 'lifetime',\n",
       " 'lifetime_extended',\n",
       " 'X_max',\n",
       " 'X_max_extended',\n",
       " 'X_min',\n",
       " 'X_mean',\n",
       " 'X_std',\n",
       " 'X_peak_time_frac',\n",
       " 'slope_end',\n",
       " 'X_peak_last_15',\n",
       " 'X_peak_last_5',\n",
       " 'rise',\n",
       " 'fall',\n",
       " 'rise_extended',\n",
       " 'fall_extended',\n",
       " 'fall_late_extended',\n",
       " 'fall_final',\n",
       " 'rise_slope',\n",
       " 'fall_slope',\n",
       " 'rise_local_3',\n",
       " 'fall_local_3',\n",
       " 'rise_local_11',\n",
       " 'fall_local_11',\n",
       " 'max_diff',\n",
       " 'min_diff',\n",
       " 'fall_imp',\n",
       " 'X_tf',\n",
       " 'X_first_sig_frac',\n",
       " 'X_last_sig_frac',\n",
       " 'X_sig_mean_frac',\n",
       " 'X_sig_exist',\n",
       " 'X_min_time_frac',\n",
       " 'X_fall_below_mean_time']"
      ]
     },
     "execution_count": 76,
     "metadata": {},
     "output_type": "execute_result"
    }
   ],
   "source": [
    "feat_names"
   ]
  },
  {
   "cell_type": "code",
   "execution_count": 77,
   "metadata": {},
   "outputs": [
    {
     "name": "stderr",
     "output_type": "stream",
     "text": [
      " 25%|██▌       | 1/4 [00:09<00:27,  9.30s/it]"
     ]
    },
    {
     "name": "stdout",
     "output_type": "stream",
     "text": [
      "[0.3807568576534287, 0.3385642599520876, 0.4415107595069362, 0.3305938753085822, 0.33634513695337687]\n"
     ]
    },
    {
     "name": "stderr",
     "output_type": "stream",
     "text": [
      " 50%|█████     | 2/4 [00:10<00:13,  6.97s/it]"
     ]
    },
    {
     "name": "stdout",
     "output_type": "stream",
     "text": [
      "[0.0902158465055165, 0.1283987312036421, 0.10009096847686606, 0.13053874292071788, 0.1408602930640961]\n",
      "[0.34451376187764016, 0.31368207444202034, 0.4000709377878745, 0.3504950960706864, 0.34000768696088557]\n"
     ]
    },
    {
     "name": "stderr",
     "output_type": "stream",
     "text": [
      "100%|██████████| 4/4 [00:12<00:00,  5.09s/it]"
     ]
    },
    {
     "name": "stdout",
     "output_type": "stream",
     "text": [
      "[0.36865251183567715, 0.3287714392414971, 0.4338620437992225, 0.3587124263476973, 0.3442982473636179]\n"
     ]
    },
    {
     "name": "stderr",
     "output_type": "stream",
     "text": [
      "\n"
     ]
    }
   ],
   "source": [
    "#outcome_def = 'Y_peak_time_frac_diff'\n",
    "#out_dir = f'results/regression/Y_peak_time_frac_diff'\n",
    "#df[outcome_def] = np.log(df['Y_max'])\n",
    "#out_dir = f'results/regression/Y_max_log'\n",
    "for model_type in tqdm(['rf', 'svm', 'linear', 'gb']):\n",
    "    out_name = f'{model_type}'\n",
    "                    #print(out_name)\n",
    "    train_reg.train_reg(df, feat_names=feat_names[1:15] + feat_names[31:], model_type=model_type, \n",
    "                 outcome_def=outcome_def,\n",
    "                 out_name=f'{out_dir}/{out_name}.pkl') "
   ]
  },
  {
   "cell_type": "code",
   "execution_count": 78,
   "metadata": {},
   "outputs": [
    {
     "data": {
      "text/html": [
       "<div>\n",
       "<style scoped>\n",
       "    .dataframe tbody tr th:only-of-type {\n",
       "        vertical-align: middle;\n",
       "    }\n",
       "\n",
       "    .dataframe tbody tr th {\n",
       "        vertical-align: top;\n",
       "    }\n",
       "\n",
       "    .dataframe thead th {\n",
       "        text-align: right;\n",
       "    }\n",
       "</style>\n",
       "<table border=\"1\" class=\"dataframe\">\n",
       "  <thead>\n",
       "    <tr style=\"text-align: right;\">\n",
       "      <th></th>\n",
       "      <th>cv_accuracy_by_cell</th>\n",
       "      <th>r2</th>\n",
       "    </tr>\n",
       "    <tr>\n",
       "      <th>model_type</th>\n",
       "      <th></th>\n",
       "      <th></th>\n",
       "    </tr>\n",
       "  </thead>\n",
       "  <tbody>\n",
       "    <tr>\n",
       "      <th>gb</th>\n",
       "      <td>[0.36865251183567715, 0.3287714392414971, 0.43...</td>\n",
       "      <td>0.362</td>\n",
       "    </tr>\n",
       "    <tr>\n",
       "      <th>rf</th>\n",
       "      <td>[0.3807568576534287, 0.3385642599520876, 0.441...</td>\n",
       "      <td>0.359</td>\n",
       "    </tr>\n",
       "    <tr>\n",
       "      <th>linear</th>\n",
       "      <td>[0.34451376187764016, 0.31368207444202034, 0.4...</td>\n",
       "      <td>0.347</td>\n",
       "    </tr>\n",
       "    <tr>\n",
       "      <th>ridge</th>\n",
       "      <td>[0.27057800841012913, 0.2519835741609897, 0.31...</td>\n",
       "      <td>0.301</td>\n",
       "    </tr>\n",
       "    <tr>\n",
       "      <th>svm</th>\n",
       "      <td>[0.0902158465055165, 0.1283987312036421, 0.100...</td>\n",
       "      <td>0.120</td>\n",
       "    </tr>\n",
       "    <tr>\n",
       "      <th>dt</th>\n",
       "      <td>[-0.3754075984574454, -0.8550746872676571, -0....</td>\n",
       "      <td>-0.490</td>\n",
       "    </tr>\n",
       "    <tr>\n",
       "      <th>mlp2</th>\n",
       "      <td>[-2896.828116664122, -93273.4952796763, -45862...</td>\n",
       "      <td>-33651.147</td>\n",
       "    </tr>\n",
       "  </tbody>\n",
       "</table>\n",
       "</div>"
      ],
      "text/plain": [
       "                                          cv_accuracy_by_cell         r2\n",
       "model_type                                                              \n",
       "gb          [0.36865251183567715, 0.3287714392414971, 0.43...      0.362\n",
       "rf          [0.3807568576534287, 0.3385642599520876, 0.441...      0.359\n",
       "linear      [0.34451376187764016, 0.31368207444202034, 0.4...      0.347\n",
       "ridge       [0.27057800841012913, 0.2519835741609897, 0.31...      0.301\n",
       "svm         [0.0902158465055165, 0.1283987312036421, 0.100...      0.120\n",
       "dt          [-0.3754075984574454, -0.8550746872676571, -0....     -0.490\n",
       "mlp2        [-2896.828116664122, -93273.4952796763, -45862... -33651.147"
      ]
     },
     "execution_count": 78,
     "metadata": {},
     "output_type": "execute_result"
    }
   ],
   "source": [
    "results = train_reg.load_results(out_dir)\n",
    "r = results\n",
    "r = r[[k for k in r if not 'std' in k]]\n",
    "r = r[[k for k in r if not '_f' in k]]\n",
    "# r = r[r.index.str.contains('ros')] # only use random sampling\n",
    "r = r.sort_values(by=['r2'], ascending=False)\n",
    "# r.style.background_gradient(cmap='viridis', axis=None) # all values on same cmap\n",
    "r"
   ]
  },
  {
   "cell_type": "code",
   "execution_count": 67,
   "metadata": {},
   "outputs": [
    {
     "data": {
      "text/plain": [
       "Text(0, 0.5, 'residual')"
      ]
     },
     "execution_count": 67,
     "metadata": {},
     "output_type": "execute_result"
    },
    {
     "data": {
      "image/png": "[encoded data removed]",
      "text/plain": [
       "<Figure size 432x288 with 1 Axes>"
      ]
     },
     "metadata": {},
     "output_type": "display_data"
    }
   ],
   "source": [
    "out_name=f'{out_dir}/gb.pkl'\n",
    "d = pkl.load(open(out_name, 'rb'))\n",
    "plt.scatter(d['y'], np.array(d['y_preds']) - d['y'], alpha=.5, s=4)\n",
    "plt.xlabel(\"Y\")\n",
    "plt.ylabel('residual')"
   ]
  },
  {
   "cell_type": "code",
   "execution_count": null,
   "metadata": {},
   "outputs": [],
   "source": []
  }
 ],
 "metadata": {
  "kernelspec": {
   "display_name": "Python 3",
   "language": "python",
   "name": "python3"
  },
  "language_info": {
   "codemirror_mode": {
    "name": "ipython",
    "version": 3
   },
   "file_extension": ".py",
   "mimetype": "text/x-python",
   "name": "python",
   "nbconvert_exporter": "python",
   "pygments_lexer": "ipython3",
   "version": "3.7.5"
  },
  "pycharm": {
   "stem_cell": {
    "cell_type": "raw",
    "metadata": {
     "collapsed": false
    },
    "source": []
   }
  }
 },
 "nbformat": 4,
 "nbformat_minor": 4
}
