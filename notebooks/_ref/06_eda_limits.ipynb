{
 "cells": [
  {
   "cell_type": "code",
   "execution_count": 12,
   "metadata": {},
   "outputs": [
    {
     "name": "stdout",
     "output_type": "stream",
     "text": [
      "The autoreload extension is already loaded. To reload it, use:\n",
      "  %reload_ext autoreload\n"
     ]
    }
   ],
   "source": [
    "%matplotlib inline\n",
    "%load_ext autoreload\n",
    "%autoreload 2\n",
    "import numpy as np\n",
    "from matplotlib import pyplot as plt\n",
    "# plt.style.use('dark_background')\n",
    "import sys\n",
    "sys.path.append('../src')\n",
    "import data\n",
    "from viz import *\n",
    "import viz\n",
    "from tqdm import tqdm\n",
    "outcome_def = 'y_consec_thresh'"
   ]
  },
  {
   "cell_type": "code",
   "execution_count": 49,
   "metadata": {},
   "outputs": [
    {
     "name": "stdout",
     "output_type": "stream",
     "text": [
      "valid:\t\t2066 aux+ / 7594 (0.272)\n",
      "----------------------------------------\n",
      "hotspots:\t 349 aux+ /  349\n",
      "short:\t\t 283 aux+ / 5697 (0.950)\n",
      "long:\t\t 108 aux+ /  113 (0.953)\n",
      "hard:\t\t1482 aux+ / 2936 (0.505)\n",
      "\n",
      "lifetime threshes 15 161\n"
     ]
    }
   ],
   "source": [
    "df = data.get_data()\n",
    "df = df[df['valid'] == 1] # exclude test cells, short/long tracks, hotspots\n",
    "viz.print_metadata()\n",
    "y = np.array(df[outcome_def].values).astype(int)\n",
    "n = df.shape[0]"
   ]
  },
  {
   "cell_type": "markdown",
   "metadata": {},
   "source": [
    "**binarize features**"
   ]
  },
  {
   "cell_type": "code",
   "execution_count": 14,
   "metadata": {},
   "outputs": [
    {
     "data": {
      "text/plain": [
       "(2936, 73)"
      ]
     },
     "execution_count": 14,
     "metadata": {},
     "output_type": "execute_result"
    }
   ],
   "source": [
    "import features\n",
    "df = features.add_binary_features(df, outcome_def=outcome_def)"
   ]
  },
  {
   "cell_type": "code",
   "execution_count": 42,
   "metadata": {},
   "outputs": [
    {
     "name": "stderr",
     "output_type": "stream",
     "text": [
      "100%|██████████| 2936/2936 [00:00<00:00, 7657.51it/s]\n"
     ]
    }
   ],
   "source": [
    "bucket_counts = {}\n",
    "feat_names = data.get_feature_names(df)\n",
    "feat_names = data.select_final_feats(feat_names, binarize=True)\n",
    "feat_names = [f for f in feat_names if not 'X_d' in f]\n",
    "X = df[feat_names]\n",
    "for i in tqdm(range(X.shape[0])): #X.shape[0]):\n",
    "    x = X.iloc[i]\n",
    "    s = ''.join(x.values.astype(int).astype(str).tolist())\n",
    "    ylab = y[i]\n",
    "    if not s in bucket_counts:\n",
    "        bucket_counts[s] = [0, 0]\n",
    "        bucket_counts[s][ylab] = 1\n",
    "    else:\n",
    "        bucket_counts[s][ylab] += 1"
   ]
  },
  {
   "cell_type": "code",
   "execution_count": 43,
   "metadata": {},
   "outputs": [],
   "source": [
    "vals = np.array([x for x in bucket_counts.values()]) # n x 2\n",
    "counts_per_bucket = vals.sum(axis=1).flatten() # n\n",
    "purities = vals[:, 1] / vals.sum(axis=1) # n \n",
    "is_pure = (purities==0) | (purities==1)\n",
    "num_pure_buckets = np.sum(is_pure)\n",
    "num_pts_in_pure = counts_per_bucket[is_pure].sum()"
   ]
  },
  {
   "cell_type": "code",
   "execution_count": null,
   "metadata": {},
   "outputs": [],
   "source": [
    "plt.figure(dpi=300)\n",
    "plt.hist(counts_per_bucket, log=True)\n",
    "plt.yscale('log')\n",
    "plt.ylabel('count')\n",
    "plt.title('distribution of all points into buckets')\n",
    "plt.xlabel(f'number of values in a bucket\\n(number of non-empty buckets: {vals.shape[0]})\\n(number of points: {X.shape[0]})')\n",
    "plt.show()"
   ]
  },
  {
   "cell_type": "code",
   "execution_count": null,
   "metadata": {},
   "outputs": [],
   "source": [
    "plt.figure(dpi=300)\n",
    "plt.hist(purities.flatten(), log=True)\n",
    "plt.yscale('log')\n",
    "plt.ylabel('count')\n",
    "plt.title('distribution of \"purities\" of different buckets')\n",
    "plt.xlabel(f'\"purity of bucket\" = fraction of bucket which is aux+\\n(number of non-pure buckets: {num_pure_buckets})\\n(number of points in non-pure buckets: {X.shape[0] - num_pts_in_pure})')\n",
    "plt.show()"
   ]
  },
  {
   "cell_type": "markdown",
   "metadata": {},
   "source": [
    "**acc predicting majority class for every bucket**"
   ]
  },
  {
   "cell_type": "code",
   "execution_count": 45,
   "metadata": {},
   "outputs": [
    {
     "name": "stdout",
     "output_type": "stream",
     "text": [
      "acc 0.8337874659400545\n"
     ]
    }
   ],
   "source": [
    "accs = np.maximum(purities, 1 - purities)\n",
    "acc = np.average(accs, weights=counts_per_bucket)\n",
    "print('acc', acc)"
   ]
  }
 ],
 "metadata": {
  "kernelspec": {
   "display_name": "Python 3",
   "language": "python",
   "name": "python3"
  },
  "language_info": {
   "codemirror_mode": {
    "name": "ipython",
    "version": 3
   },
   "file_extension": ".py",
   "mimetype": "text/x-python",
   "name": "python",
   "nbconvert_exporter": "python",
   "pygments_lexer": "ipython3",
   "version": "3.7.5"
  },
  "pycharm": {
   "stem_cell": {
    "cell_type": "raw",
    "metadata": {
     "collapsed": false
    },
    "source": []
   }
  }
 },
 "nbformat": 4,
 "nbformat_minor": 4
}
