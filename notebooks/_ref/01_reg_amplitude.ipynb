{
 "cells": [
  {
   "cell_type": "code",
   "execution_count": 285,
   "metadata": {},
   "outputs": [
    {
     "name": "stdout",
     "output_type": "stream",
     "text": [
      "The autoreload extension is already loaded. To reload it, use:\n",
      "  %reload_ext autoreload\n"
     ]
    }
   ],
   "source": [
    "%matplotlib inline\n",
    "%load_ext autoreload\n",
    "%autoreload 2\n",
    "import os\n",
    "from os.path import join as oj\n",
    "import sys\n",
    "sys.path.append('../src')\n",
    "import numpy as np\n",
    "import seaborn as sns\n",
    "import torch\n",
    "from matplotlib import pyplot as plt\n",
    "from sklearn import metrics\n",
    "from sklearn.linear_model import RidgeCV\n",
    "from sklearn.model_selection import train_test_split\n",
    "plt.style.use('dark_background')\n",
    "import data\n",
    "from skorch.callbacks import Checkpoint\n",
    "from skorch import NeuralNetRegressor\n",
    "#import models\n",
    "from tqdm import tqdm\n",
    "import train_reg\n",
    "import config\n",
    "import pandas as pd\n",
    "import features\n",
    "from scipy.stats import skew, pearsonr\n",
    "import outcomes\n",
    "from sklearn.model_selection import KFold\n",
    "#df = data.get_tracks() # note: different Xs can be different shapes\n",
    "#df = data.remove_invalid_tracks(df)\n",
    "#df = data.preprocess(df)\n",
    "#df = data.add_outcome(df)\n",
    "#n = df.shape[0]"
   ]
  },
  {
   "cell_type": "code",
   "execution_count": 18,
   "metadata": {},
   "outputs": [],
   "source": [
    "#dset = 'clath_aux_dynamin'\n",
    "dset = 'clath_aux+gak_a7d2'\n",
    "outcome_def = 'Y_sig_mean'\n",
    "#out_dir = 'results/regression/Sep15'"
   ]
  },
  {
   "cell_type": "code",
   "execution_count": 10,
   "metadata": {},
   "outputs": [],
   "source": [
    "feat_names = ['mean_square_displacement',\n",
    "              'mean_total_displacement',\n",
    "              'X_max',\n",
    "              'X_mean',\n",
    "              'X_std',\n",
    "              'lifetime',\n",
    "              'X_d1',\n",
    "              'X_d2',\n",
    "              'X_d3'\n",
    "             ]"
   ]
  },
  {
   "cell_type": "code",
   "execution_count": 205,
   "metadata": {},
   "outputs": [],
   "source": [
    "feat_names = data.get_feature_names(df)\n",
    "feat_names = [x for x in feat_names \n",
    "                      if not x.startswith('sc_') \n",
    "                      and not x.startswith('nmf_')\n",
    "                      and not x in ['center_max', 'left_max', 'right_max', 'up_max', 'down_max',\n",
    "                                   'X_max_around_Y_peak', 'X_max_after_Y_peak', 'X_quantiles',\n",
    "                                   'X_d1', 'X_d2', 'X_d3', 'slope_end'\n",
    "                                   ]\n",
    "                      and not x.startswith('pc_')\n",
    "                      and not 'log' in x\n",
    "                      and not 'binary' in x\n",
    "        #               and not 'slope' in x\n",
    "                     ]"
   ]
  },
  {
   "cell_type": "code",
   "execution_count": 115,
   "metadata": {},
   "outputs": [],
   "source": [
    "df = pd.read_pickle(f'../data/tracks/tracks_{dset}.pkl')"
   ]
  },
  {
   "cell_type": "code",
   "execution_count": 222,
   "metadata": {},
   "outputs": [],
   "source": [
    "df = data.get_data()"
   ]
  },
  {
   "cell_type": "code",
   "execution_count": 155,
   "metadata": {},
   "outputs": [],
   "source": [
    "df_train = df[df.cell_num.isin(config.DSETS[dset]['train'])] \n",
    "df_test = df[df.cell_num.isin(config.DSETS[dset]['test'])] "
   ]
  },
  {
   "cell_type": "code",
   "execution_count": 144,
   "metadata": {},
   "outputs": [],
   "source": [
    "df = train_reg.add_sig_mean(df, resp_tracks=['Y'])"
   ]
  },
  {
   "cell_type": "code",
   "execution_count": 146,
   "metadata": {},
   "outputs": [
    {
     "data": {
      "text/plain": [
       "<matplotlib.axes._subplots.AxesSubplot at 0x7f4d3c110510>"
      ]
     },
     "execution_count": 146,
     "metadata": {},
     "output_type": "execute_result"
    },
    {
     "data": {
      "image/png": "[encoded data removed]",
      "text/plain": [
       "<Figure size 432x288 with 2 Axes>"
      ]
     },
     "metadata": {},
     "output_type": "display_data"
    }
   ],
   "source": [
    "ax = sns.distplot(df_train[outcome_def], kde=False)\n",
    "ax2 = ax.twinx()\n",
    "sns.distplot(df_train[outcome_def], ax=ax2, hist=True, kde=True, \n",
    "             bins=int(180/5), color='red', label='training data')"
   ]
  },
  {
   "cell_type": "code",
   "execution_count": 278,
   "metadata": {},
   "outputs": [
    {
     "name": "stderr",
     "output_type": "stream",
     "text": [
      "/usr/local/linux/anaconda3.7/lib/python3.7/site-packages/numpy/core/fromnumeric.py:3335: RuntimeWarning: Mean of empty slice.\n",
      "  out=out, **kwargs)\n"
     ]
    }
   ],
   "source": [
    "#df = df[df.catIdx.isin([1, 2])]\n",
    "#df = df[df.lifetime > 15]\n",
    "#df = features.add_basic_features(df)\n",
    "#df = train_reg.log_transforms(df)\n",
    "df = features.add_dasc_features(df, bins=100, by_cell=True)\n",
    "#df = outcomes.add_outcomes(df)\n",
    "df = train_reg.add_sig_mean(df, resp_tracks=['Y'])\n",
    "df_train = df[df.cell_num.isin(config.DSETS[dset]['train'])] \n",
    "df_test = df[df.cell_num.isin(config.DSETS[dset]['test'])] "
   ]
  },
  {
   "cell_type": "code",
   "execution_count": 83,
   "metadata": {},
   "outputs": [],
   "source": [
    "df_test = df[df.cell_num.isin(config.DSETS[dset]['test'])] "
   ]
  },
  {
   "cell_type": "code",
   "execution_count": 279,
   "metadata": {},
   "outputs": [],
   "source": [
    "df_train = df_train[df_train['valid'] == 1]"
   ]
  },
  {
   "cell_type": "code",
   "execution_count": 168,
   "metadata": {},
   "outputs": [
    {
     "name": "stderr",
     "output_type": "stream",
     "text": [
      "/usr/local/linux/anaconda3.7/lib/python3.7/site-packages/numpy/core/fromnumeric.py:3335: RuntimeWarning: Mean of empty slice.\n",
      "  out=out, **kwargs)\n",
      "/usr/local/linux/anaconda3.7/lib/python3.7/site-packages/numpy/core/_methods.py:161: RuntimeWarning: invalid value encountered in double_scalars\n",
      "  ret = ret.dtype.type(ret / rcount)\n"
     ]
    }
   ],
   "source": [
    "df = features.add_dasc_features(df, bins=100, by_cell=True)"
   ]
  },
  {
   "cell_type": "code",
   "execution_count": 169,
   "metadata": {},
   "outputs": [],
   "source": [
    "df_train = df[df.cell_num.isin(config.DSETS[dset]['train'])] \n",
    "df_test = df[df.cell_num.isin(config.DSETS[dset]['test'])] "
   ]
  },
  {
   "cell_type": "code",
   "execution_count": 174,
   "metadata": {},
   "outputs": [],
   "source": [
    "from sklearn.ensemble import RandomForestClassifier"
   ]
  },
  {
   "cell_type": "code",
   "execution_count": 181,
   "metadata": {},
   "outputs": [
    {
     "data": {
      "text/plain": [
       "RandomForestClassifier()"
      ]
     },
     "execution_count": 181,
     "metadata": {},
     "output_type": "execute_result"
    }
   ],
   "source": [
    "m = RandomForestClassifier()\n",
    "m.fit(df_train['X_d2'].values.reshape(-1, 1), df_train['y_consec_thresh'].values)"
   ]
  },
  {
   "cell_type": "code",
   "execution_count": 182,
   "metadata": {},
   "outputs": [
    {
     "data": {
      "text/plain": [
       "0.7424909891870244"
      ]
     },
     "execution_count": 182,
     "metadata": {},
     "output_type": "execute_result"
    }
   ],
   "source": [
    "np.mean(m.predict(df_test['X_d2'].values.reshape(-1, 1)) == df_test['y_consec_thresh'])"
   ]
  },
  {
   "cell_type": "code",
   "execution_count": 185,
   "metadata": {},
   "outputs": [
    {
     "name": "stdout",
     "output_type": "stream",
     "text": [
      "0.5476134068254536\n"
     ]
    }
   ],
   "source": [
    "    cell_nums_train = np.array(list(set(df_train.cell_num.values)))\n",
    "    kf = KFold(n_splits=len(cell_nums_train))\n",
    "    X, y = df_train[['X_d1']], df_train['y_consec_thresh']\n",
    "    # split testing data based on cell num\n",
    "    #idxs_test = df.cell_num.isin(cell_nums_test)\n",
    "    #idxs_train = df.cell_num.isin(cell_nums_train)\n",
    "    #X_test, Y_test = X[idxs_test], y[idxs_test]\n",
    "    num_pts_by_fold_cv = []\n",
    "    y_preds = {}\n",
    "    cv_score = []\n",
    "    s = 0\n",
    "    # loops over cv, where test set order is cell_nums_train[0], ..., cell_nums_train[-1]\n",
    "    for cv_idx, cv_val_idx in kf.split(cell_nums_train):\n",
    "        # get sample indices\n",
    "        idxs_cv = df_train.cell_num.isin(cell_nums_train[np.array(cv_idx)])\n",
    "        idxs_val_cv = df_train.cell_num.isin(cell_nums_train[np.array(cv_val_idx)])\n",
    "        X_train_cv, Y_train_cv = X[idxs_cv], y[idxs_cv]\n",
    "        X_val_cv, Y_val_cv = X[idxs_val_cv], y[idxs_val_cv]\n",
    "        num_pts_by_fold_cv.append(X_val_cv.shape[0])\n",
    "\n",
    "        # resample training data\n",
    "\n",
    "        # fit\n",
    "        m.fit(X_train_cv, Y_train_cv)\n",
    "        s += np.mean(m.predict(X_val_cv) == Y_val_cv)\n",
    "    print(s/len(cell_nums_train))"
   ]
  },
  {
   "cell_type": "code",
   "execution_count": 192,
   "metadata": {},
   "outputs": [],
   "source": [
    "datasets = list(config.DSETS.keys())[:6]"
   ]
  },
  {
   "cell_type": "code",
   "execution_count": null,
   "metadata": {},
   "outputs": [],
   "source": [
    "#all_data = {}\n",
    "for d in datasets[2:]:\n",
    "    all_data[d] = data.get_data(dset=d)"
   ]
  },
  {
   "cell_type": "code",
   "execution_count": 298,
   "metadata": {},
   "outputs": [
    {
     "name": "stderr",
     "output_type": "stream",
     "text": [
      "/usr/local/linux/anaconda3.7/lib/python3.7/site-packages/numpy/core/fromnumeric.py:3335: RuntimeWarning: Mean of empty slice.\n",
      "  out=out, **kwargs)\n"
     ]
    }
   ],
   "source": [
    "for d in all_data:\n",
    "    #all_data[d] = train_reg.add_sig_mean(all_data[d], resp_tracks=['Y'])\n",
    "    all_data[d] = features.add_dasc_features(all_data[d], bins=100, by_cell=True)"
   ]
  },
  {
   "cell_type": "code",
   "execution_count": 309,
   "metadata": {},
   "outputs": [],
   "source": [
    "import collections\n",
    "from collections import defaultdict\n",
    "res = defaultdict(list)\n",
    "for d in all_data:\n",
    "    #m = pd.read_pickle(f'{out_dir}/rf.pkl')\n",
    "    if d == 'clath_aux_dynamin':\n",
    "        continue\n",
    "    for feat in ['dasc', 'basic', 'combined']:\n",
    "        out_dir = f'results/regression/Nov23_{dset}_Y_{feat}_{outcome_def}'\n",
    "        m = pd.read_pickle(f'{out_dir}/rf.pkl')\n",
    "        if feat == 'dasc':\n",
    "            use_feature = ['X_d1', 'X_d2', 'X_d3']\n",
    "        elif feat == 'basic':\n",
    "            use_feature = feat_names\n",
    "        else:\n",
    "            use_feature = feat_names + ['X_d1', 'X_d2', 'X_d3']\n",
    "        df_test = all_data[d]\n",
    "        if d == 'clath_aux+gak_a7d2':\n",
    "            df_test =  df_test[df_test.cell_num.isin(config.DSETS[d]['test'])] \n",
    "        #df_test = features.add_dasc_features(df_test, bins=100, by_cell=True)\n",
    "        df_test = df_test[use_feature + [outcome_def]]#[df_test['valid'] == 1]\n",
    "        df_test = df_test.fillna(df_test.mean())\n",
    "        if len(df_test) > 0:\n",
    "            test_preds = train_reg.test_reg(df_test, m['model'], feat_names=use_feature, outcome_def=outcome_def)\n",
    "        #print(f\"R^2 with features: {test_preds['r2']}\")\n",
    "        #print(f\"corr with features: {test_preds['pearsonr']}\")\n",
    "        for metric in ['r2', 'pearsonr', 'kendalltau']:\n",
    "            if metric == 'r2':\n",
    "                res[f'{feat}_{metric}'].append(test_preds[metric])\n",
    "            else:\n",
    "                res[f'{feat}_{metric}'].append(test_preds[metric][0])"
   ]
  },
  {
   "cell_type": "code",
   "execution_count": 269,
   "metadata": {},
   "outputs": [
    {
     "data": {
      "text/plain": [
       "array(['fall_extended', 'X_mean', 'mean_square_displacement', 'fall',\n",
       "       'mean_total_displacement', 'X_max', 'lifetime',\n",
       "       'lifetime_extended', 'rise_slope', 'rise_extended', 'min_diff',\n",
       "       'X_min', 'max_diff', 'fall_slope', 'fall_local_3', 'X_std',\n",
       "       'fall_late_extended', 'rise_local_3', 'X_peak_time_frac',\n",
       "       'rise_local_11', 'rise', 'fall_local_11', 'X_max_extended',\n",
       "       'X_peak_last_15', 'X_peak_last_5'], dtype='<U24')"
      ]
     },
     "execution_count": 269,
     "metadata": {},
     "output_type": "execute_result"
    }
   ],
   "source": [
    "np.array(feat_names)[np.argsort(m['model'].feature_importances_)[::-1]]"
   ]
  },
  {
   "cell_type": "code",
   "execution_count": 315,
   "metadata": {},
   "outputs": [
    {
     "data": {
      "text/html": [
       "<div>\n",
       "<style scoped>\n",
       "    .dataframe tbody tr th:only-of-type {\n",
       "        vertical-align: middle;\n",
       "    }\n",
       "\n",
       "    .dataframe tbody tr th {\n",
       "        vertical-align: top;\n",
       "    }\n",
       "\n",
       "    .dataframe thead th {\n",
       "        text-align: right;\n",
       "    }\n",
       "</style>\n",
       "<table border=\"1\" class=\"dataframe\">\n",
       "  <thead>\n",
       "    <tr style=\"text-align: right;\">\n",
       "      <th></th>\n",
       "      <th>dasc_r2</th>\n",
       "      <th>dasc_pearsonr</th>\n",
       "      <th>dasc_kendalltau</th>\n",
       "      <th>basic_r2</th>\n",
       "      <th>basic_pearsonr</th>\n",
       "      <th>basic_kendalltau</th>\n",
       "      <th>combined_r2</th>\n",
       "      <th>combined_pearsonr</th>\n",
       "      <th>combined_kendalltau</th>\n",
       "    </tr>\n",
       "  </thead>\n",
       "  <tbody>\n",
       "    <tr>\n",
       "      <th>clath_aux+gak_a7d2</th>\n",
       "      <td>0.168999</td>\n",
       "      <td>0.478137</td>\n",
       "      <td>0.365456</td>\n",
       "      <td>0.326925</td>\n",
       "      <td>0.631894</td>\n",
       "      <td>0.469760</td>\n",
       "      <td>0.339386</td>\n",
       "      <td>0.634944</td>\n",
       "      <td>0.471874</td>\n",
       "    </tr>\n",
       "    <tr>\n",
       "      <th>clath_aux+gak_a7d2_new</th>\n",
       "      <td>0.009576</td>\n",
       "      <td>0.161076</td>\n",
       "      <td>0.076217</td>\n",
       "      <td>0.110948</td>\n",
       "      <td>0.459541</td>\n",
       "      <td>0.244353</td>\n",
       "      <td>0.113495</td>\n",
       "      <td>0.470826</td>\n",
       "      <td>0.268349</td>\n",
       "    </tr>\n",
       "    <tr>\n",
       "      <th>clath_aux+gak_new</th>\n",
       "      <td>0.073963</td>\n",
       "      <td>0.288193</td>\n",
       "      <td>0.195740</td>\n",
       "      <td>0.217620</td>\n",
       "      <td>0.485779</td>\n",
       "      <td>0.304375</td>\n",
       "      <td>0.223403</td>\n",
       "      <td>0.491643</td>\n",
       "      <td>0.316647</td>\n",
       "    </tr>\n",
       "    <tr>\n",
       "      <th>clath_gak</th>\n",
       "      <td>-0.132353</td>\n",
       "      <td>0.219192</td>\n",
       "      <td>0.174033</td>\n",
       "      <td>0.095853</td>\n",
       "      <td>0.457564</td>\n",
       "      <td>0.344754</td>\n",
       "      <td>0.106482</td>\n",
       "      <td>0.461258</td>\n",
       "      <td>0.354777</td>\n",
       "    </tr>\n",
       "  </tbody>\n",
       "</table>\n",
       "</div>"
      ],
      "text/plain": [
       "                         dasc_r2  dasc_pearsonr  dasc_kendalltau  basic_r2  \\\n",
       "clath_aux+gak_a7d2      0.168999       0.478137         0.365456  0.326925   \n",
       "clath_aux+gak_a7d2_new  0.009576       0.161076         0.076217  0.110948   \n",
       "clath_aux+gak_new       0.073963       0.288193         0.195740  0.217620   \n",
       "clath_gak              -0.132353       0.219192         0.174033  0.095853   \n",
       "\n",
       "                        basic_pearsonr  basic_kendalltau  combined_r2  \\\n",
       "clath_aux+gak_a7d2            0.631894          0.469760     0.339386   \n",
       "clath_aux+gak_a7d2_new        0.459541          0.244353     0.113495   \n",
       "clath_aux+gak_new             0.485779          0.304375     0.223403   \n",
       "clath_gak                     0.457564          0.344754     0.106482   \n",
       "\n",
       "                        combined_pearsonr  combined_kendalltau  \n",
       "clath_aux+gak_a7d2               0.634944             0.471874  \n",
       "clath_aux+gak_a7d2_new           0.470826             0.268349  \n",
       "clath_aux+gak_new                0.491643             0.316647  \n",
       "clath_gak                        0.461258             0.354777  "
      ]
     },
     "execution_count": 315,
     "metadata": {},
     "output_type": "execute_result"
    }
   ],
   "source": [
    "pd.read_pickle('results/regression/regression_results.pkl')"
   ]
  },
  {
   "cell_type": "code",
   "execution_count": 290,
   "metadata": {},
   "outputs": [
    {
     "data": {
      "text/plain": [
       "dict_keys(['clath_aux+gak_a7d2', 'clath_aux+gak_a7d2_new', 'clath_aux_dynamin', 'clath_aux+gak_new', 'clath_gak'])"
      ]
     },
     "execution_count": 290,
     "metadata": {},
     "output_type": "execute_result"
    }
   ],
   "source": [
    "all_data.keys()"
   ]
  },
  {
   "cell_type": "code",
   "execution_count": 310,
   "metadata": {},
   "outputs": [
    {
     "data": {
      "text/plain": [
       "'\\\\begin{tabular}{lrrrrrrrrr}\\n\\\\toprule\\n{} &  dasc\\\\_r2 &  dasc\\\\_pearsonr &  dasc\\\\_kendalltau &  basic\\\\_r2 &  basic\\\\_pearsonr &  basic\\\\_kendalltau &  combined\\\\_r2 &  combined\\\\_pearsonr &  combined\\\\_kendalltau \\\\\\\\\\n\\\\midrule\\nclath\\\\_aux+gak\\\\_a7d2     &    0.169 &          0.478 &            0.365 &     0.327 &           0.632 &             0.470 &        0.339 &              0.635 &                0.472 \\\\\\\\\\nclath\\\\_aux+gak\\\\_a7d2\\\\_new &    0.010 &          0.161 &            0.076 &     0.111 &           0.460 &             0.244 &        0.113 &              0.471 &                0.268 \\\\\\\\\\nclath\\\\_aux+gak\\\\_new      &    0.074 &          0.288 &            0.196 &     0.218 &           0.486 &             0.304 &        0.223 &              0.492 &                0.317 \\\\\\\\\\nclath\\\\_gak              &   -0.132 &          0.219 &            0.174 &     0.096 &           0.458 &             0.345 &        0.106 &              0.461 &                0.355 \\\\\\\\\\n\\\\bottomrule\\n\\\\end{tabular}\\n'"
      ]
     },
     "execution_count": 310,
     "metadata": {},
     "output_type": "execute_result"
    }
   ],
   "source": [
    "pd.DataFrame(res, index=['clath_aux+gak_a7d2', 'clath_aux+gak_a7d2_new', 'clath_aux+gak_new', 'clath_gak']).round(3).to_latex()"
   ]
  },
  {
   "cell_type": "markdown",
   "metadata": {},
   "source": [
    "## compare with DASC"
   ]
  },
  {
   "cell_type": "code",
   "execution_count": 311,
   "metadata": {},
   "outputs": [
    {
     "name": "stderr",
     "output_type": "stream",
     "text": [
      "100%|██████████| 4/4 [00:18<00:00,  4.53s/it]\n"
     ]
    }
   ],
   "source": [
    "#df_train = df_train.dropna()\n",
    "for features in [#'dasc', \n",
    "                 #'basic', \n",
    "                 #'combined'，\n",
    "                 'sparse'\n",
    "                ]:\n",
    "    if features == 'dasc':\n",
    "        use_feature = ['X_d1', 'X_d2', 'X_d3']\n",
    "    elif features == 'sparse':\n",
    "        use_feature = ['mean_square_displacement',\n",
    "              'mean_total_displacement',\n",
    "              'X_max',\n",
    "              'X_mean',\n",
    "              'X_std',\n",
    "              'lifetime']\n",
    "    elif features == 'basic':\n",
    "        use_feature = feat_names\n",
    "    else:\n",
    "        use_feature = feat_names + ['X_d1', 'X_d2', 'X_d3']\n",
    "    #df_train = df[df.cell_num.isin(config.DSETS[dset]['train'])] \n",
    "    outcome_def = 'Y_sig_mean'\n",
    "    out_dir = f'results/regression/Nov23_{dset}_Y_{features}_{outcome_def}'\n",
    "    os.makedirs(out_dir, exist_ok=True)\n",
    "    for model_type in tqdm(['linear', 'gb', 'rf', 'ridge']):\n",
    "        out_name = f'{model_type}'\n",
    "                            #print(out_name)\n",
    "        # if use_processed and os.path.exists(f'{out_dir}/{out_name}.pkl'):\n",
    "        #    continue\n",
    "        train_reg.train_reg(df_train, feat_names=use_feature, model_type=model_type, \n",
    "                         outcome_def=outcome_def,\n",
    "                         out_name=f'{out_dir}/{out_name}.pkl') "
   ]
  },
  {
   "cell_type": "code",
   "execution_count": 314,
   "metadata": {},
   "outputs": [
    {
     "data": {
      "text/plain": [
       "model_type\n",
       "linear    0.153\n",
       "ridge     0.153\n",
       "gb        0.193\n",
       "rf        0.165\n",
       "Name: r2, dtype: float64"
      ]
     },
     "execution_count": 314,
     "metadata": {},
     "output_type": "execute_result"
    }
   ],
   "source": [
    "out_dir = f'results/regression/Nov23_{dset}_Y_sparse_{outcome_def}'\n",
    "results = train_reg.load_results(out_dir)\n",
    "r = results\n",
    "r = r[[k for k in r if not 'std' in k]]\n",
    "r = r[[k for k in r if not '_f' in k]]\n",
    "# r = r[r.index.str.contains('ros')] # only use random sampling\n",
    "r['r2']"
   ]
  },
  {
   "cell_type": "code",
   "execution_count": 257,
   "metadata": {},
   "outputs": [
    {
     "name": "stdout",
     "output_type": "stream",
     "text": [
      "R^2 with combined features: 0.34959947930075563\n"
     ]
    }
   ],
   "source": [
    "for features in [#'dasc', \n",
    "                 #'basic', \n",
    "                'combined'\n",
    "                ]:\n",
    "    if features == 'dasc':\n",
    "        use_feature = feat_names[6:]\n",
    "    elif features == 'basic':\n",
    "        use_feature = feat_names[:6]\n",
    "    else:\n",
    "        use_feature = feat_names\n",
    "    m = pd.read_pickle(f'{out_dir}/rf.pkl')\n",
    "    df_test = df[df.cell_num.isin(config.DSETS[dset]['test'])] \n",
    "    #df_test = df_test.dropna()\n",
    "    test_preds = train_reg.test_reg(df_test, m['model'], feat_names=use_feature, outcome_def=outcome_def)\n",
    "    print(f\"R^2 with {features} features: {test_preds['r2']}\")"
   ]
  },
  {
   "cell_type": "code",
   "execution_count": 162,
   "metadata": {},
   "outputs": [
    {
     "data": {
      "image/png": "[encoded data removed]",
      "text/plain": [
       "<Figure size 432x288 with 1 Axes>"
      ]
     },
     "metadata": {},
     "output_type": "display_data"
    }
   ],
   "source": [
    "#df_train = df[df.cell_num.isin(config.DSETS[dset]['train'])] \n",
    "plt.hist(df_train['Y_sig_mean'], bins=100)\n",
    "plt.show()"
   ]
  },
  {
   "cell_type": "code",
   "execution_count": 158,
   "metadata": {},
   "outputs": [
    {
     "data": {
      "text/plain": [
       "<matplotlib.axes._subplots.AxesSubplot at 0x7f4d3a915a90>"
      ]
     },
     "execution_count": 158,
     "metadata": {},
     "output_type": "execute_result"
    },
    {
     "data": {
      "image/png": "[encoded data removed]",
      "text/plain": [
       "<Figure size 432x288 with 2 Axes>"
      ]
     },
     "metadata": {},
     "output_type": "display_data"
    }
   ],
   "source": [
    "ax = sns.distplot(df_train[outcome_def], kde=False)\n",
    "ax2 = ax.twinx()\n",
    "sns.distplot(df_train[outcome_def], ax=ax2, hist=True, kde=True, \n",
    "             bins=int(180/5), color='red', label='training data')"
   ]
  },
  {
   "cell_type": "code",
   "execution_count": 172,
   "metadata": {},
   "outputs": [
    {
     "data": {
      "image/png": "[encoded data removed]",
      "text/plain": [
       "<Figure size 2000x600 with 3 Axes>"
      ]
     },
     "metadata": {},
     "output_type": "display_data"
    }
   ],
   "source": [
    "#plt.hist()\n",
    "plt.figure(figsize=(10, 3), dpi=200)\n",
    "ax = plt.subplot(1, 3, 1)\n",
    "ax.grid(False)\n",
    "ax.spines[\"top\"].set_visible(False)\n",
    "ax.spines[\"right\"].set_visible(False)\n",
    "plt.hist(df_train['X_d1'].values[np.where(df_train['y_consec_thresh'] == True)[0]], bins=50, alpha=.8, label='Aux +')\n",
    "plt.hist(df_train['X_d1'].values[np.where(df_train['y_consec_thresh'] == False)[0]], bins=50, alpha=.8, label='Aux -')\n",
    "plt.legend()\n",
    "plt.xlabel(\"First DASC feature\")\n",
    "plt.ylabel(\"Count\")\n",
    "\n",
    "ax = plt.subplot(1, 3, 2)\n",
    "ax.grid(False)\n",
    "ax.spines[\"top\"].set_visible(False)\n",
    "ax.spines[\"right\"].set_visible(False)\n",
    "plt.hist(df_train['X_d2'].values[np.where(df_train['y_consec_thresh'] == True)[0]], bins=50, alpha=.8, label='Aux +')\n",
    "plt.hist(df_train['X_d2'].values[np.where(df_train['y_consec_thresh'] == False)[0]], bins=50, alpha=.8, label='Aux -')\n",
    "plt.legend()\n",
    "plt.xlabel(\"Second DASC feature\")\n",
    "plt.ylabel(\"Count\")\n",
    "\n",
    "ax = plt.subplot(1, 3, 3)\n",
    "ax.grid(False)\n",
    "ax.spines[\"top\"].set_visible(False)\n",
    "ax.spines[\"right\"].set_visible(False)\n",
    "plt.hist(df_train['X_max'].values[np.where(df_train['y_consec_thresh'] == True)[0]], bins=50, alpha=.8, label='Aux +')\n",
    "plt.hist(df_train['X_max'].values[np.where(df_train['y_consec_thresh'] == False)[0]], bins=50, alpha=.8, label='Aux -')\n",
    "plt.legend()\n",
    "plt.xlabel(\"X_max\")\n",
    "plt.ylabel(\"Count\")\n",
    "\n",
    "plt.tight_layout()\n",
    "#plt.xlim((0, 3000))\n",
    "plt.show()"
   ]
  },
  {
   "cell_type": "code",
   "execution_count": 86,
   "metadata": {},
   "outputs": [
    {
     "data": {
      "text/plain": [
       "0.9096555618294748"
      ]
     },
     "execution_count": 86,
     "metadata": {},
     "output_type": "execute_result"
    }
   ],
   "source": [
    "np.mean(df_train['y_consec_thresh'])"
   ]
  },
  {
   "cell_type": "code",
   "execution_count": 74,
   "metadata": {},
   "outputs": [
    {
     "data": {
      "text/plain": [
       "0.6498346859032161"
      ]
     },
     "execution_count": 74,
     "metadata": {},
     "output_type": "execute_result"
    }
   ],
   "source": [
    "np.mean((df_train['X_d2'] < -2.8) == df_train['y_consec_thresh'])"
   ]
  },
  {
   "cell_type": "code",
   "execution_count": 31,
   "metadata": {},
   "outputs": [],
   "source": [
    "df_train = outcomes.add_outcomes(df_train)"
   ]
  },
  {
   "cell_type": "code",
   "execution_count": 135,
   "metadata": {},
   "outputs": [
    {
     "data": {
      "text/plain": [
       "819"
      ]
     },
     "execution_count": 135,
     "metadata": {},
     "output_type": "execute_result"
    }
   ],
   "source": [
    "len(df_test[df_test[outcome_def] > 0])"
   ]
  },
  {
   "cell_type": "code",
   "execution_count": 25,
   "metadata": {},
   "outputs": [
    {
     "data": {
      "image/png": "[encoded data removed]",
      "text/plain": [
       "<Figure size 432x288 with 1 Axes>"
      ]
     },
     "metadata": {
      "needs_background": "light"
     },
     "output_type": "display_data"
    }
   ],
   "source": [
    "plt.hist(df_train['X_max'], bins=100)\n",
    "plt.show()"
   ]
  },
  {
   "cell_type": "markdown",
   "metadata": {},
   "source": [
    "### Max strength prediction"
   ]
  },
  {
   "cell_type": "code",
   "execution_count": 91,
   "metadata": {},
   "outputs": [
    {
     "name": "stderr",
     "output_type": "stream",
     "text": [
      "/accounts/grad/xsli/.local/lib/python3.7/site-packages/pandas/core/series.py:679: RuntimeWarning: invalid value encountered in log\n",
      "  result = getattr(ufunc, method)(*inputs, **kwargs)\n",
      "../src/train_reg.py:81: RuntimeWarning: invalid value encountered in less\n",
      "  sigs = np.array(r[f'{track}_pvals']) < 0.05\n",
      "100%|██████████| 5/5 [16:28<00:00, 182.89s/it]\n"
     ]
    }
   ],
   "source": [
    "train_reg.load_and_train(dset, outcome_def, out_dir, feat_names=feat_names)"
   ]
  },
  {
   "cell_type": "code",
   "execution_count": 14,
   "metadata": {},
   "outputs": [
    {
     "name": "stderr",
     "output_type": "stream",
     "text": [
      "../src/train_reg.py:77: RuntimeWarning: invalid value encountered in less\n",
      "  sig_mean.append(0)\n"
     ]
    }
   ],
   "source": [
    "df = train_reg.add_sig_mean(df)"
   ]
  },
  {
   "cell_type": "code",
   "execution_count": 7,
   "metadata": {},
   "outputs": [],
   "source": [
    "df = df[df.catIdx.isin([1, 2])]\n",
    "df = df[df.lifetime > 15]"
   ]
  },
  {
   "cell_type": "code",
   "execution_count": 12,
   "metadata": {},
   "outputs": [],
   "source": [
    "df = features.add_basic_features(df)\n",
    "df_train = df[df.cell_num.isin(config.DSETS[dset]['train'])] \n",
    "df_test = df[df.cell_num.isin(config.DSETS[dset]['test'])] "
   ]
  },
  {
   "cell_type": "code",
   "execution_count": 258,
   "metadata": {},
   "outputs": [
    {
     "data": {
      "text/plain": [
       "model_type\n",
       "rf        0.322\n",
       "ridge     0.258\n",
       "linear    0.258\n",
       "gb        0.316\n",
       "Name: r2, dtype: float64"
      ]
     },
     "execution_count": 258,
     "metadata": {},
     "output_type": "execute_result"
    }
   ],
   "source": [
    "results = train_reg.load_results(out_dir)\n",
    "r = results\n",
    "r = r[[k for k in r if not 'std' in k]]\n",
    "r = r[[k for k in r if not '_f' in k]]\n",
    "# r = r[r.index.str.contains('ros')] # only use random sampling\n",
    "r['r2']"
   ]
  },
  {
   "cell_type": "code",
   "execution_count": 97,
   "metadata": {},
   "outputs": [],
   "source": [
    "m = pd.read_pickle(f'{out_dir}/gb.pkl')"
   ]
  },
  {
   "cell_type": "code",
   "execution_count": 103,
   "metadata": {},
   "outputs": [],
   "source": [
    "df_test = df_test.dropna()\n",
    "test_preds = train_reg.test_reg(df_test, m['model'], outcome_def=outcome_def)"
   ]
  },
  {
   "cell_type": "code",
   "execution_count": 1,
   "metadata": {},
   "outputs": [
    {
     "ename": "NameError",
     "evalue": "name 'test_preds' is not defined",
     "output_type": "error",
     "traceback": [
      "\u001b[0;31m---------------------------------------------------------------------------\u001b[0m",
      "\u001b[0;31mNameError\u001b[0m                                 Traceback (most recent call last)",
      "\u001b[0;32m<ipython-input-1-1e34ed016a17>\u001b[0m in \u001b[0;36m<module>\u001b[0;34m\u001b[0m\n\u001b[0;32m----> 1\u001b[0;31m \u001b[0mtest_preds\u001b[0m\u001b[0;34m\u001b[0m\u001b[0;34m\u001b[0m\u001b[0m\n\u001b[0m",
      "\u001b[0;31mNameError\u001b[0m: name 'test_preds' is not defined"
     ]
    }
   ],
   "source": [
    "test_preds"
   ]
  },
  {
   "cell_type": "code",
   "execution_count": 3,
   "metadata": {},
   "outputs": [],
   "source": [
    "df = pd.read_pickle('../data/tracks/tracks_clath_aux_dynamin.pkl')"
   ]
  },
  {
   "cell_type": "code",
   "execution_count": 4,
   "metadata": {},
   "outputs": [
    {
     "name": "stderr",
     "output_type": "stream",
     "text": [
      "../src/train_reg.py:82: RuntimeWarning: invalid value encountered in less\n",
      "  sigs = np.array(r[f'{track}_pvals']) < 0.05\n"
     ]
    }
   ],
   "source": [
    "df = train_reg.add_sig_mean(df)"
   ]
  },
  {
   "cell_type": "code",
   "execution_count": 11,
   "metadata": {},
   "outputs": [
    {
     "name": "stderr",
     "output_type": "stream",
     "text": [
      "  0%|          | 1/259739 [00:00<25:07:22,  2.87it/s]/accounts/grad/xsli/.local/lib/python3.7/site-packages/ipykernel_launcher.py:7: RuntimeWarning: invalid value encountered in less\n",
      "  import sys\n",
      "/accounts/grad/xsli/.local/lib/python3.7/site-packages/ipykernel_launcher.py:11: RuntimeWarning: invalid value encountered in less\n",
      "  # This is added back by InteractiveShellApp.init_path()\n",
      "100%|██████████| 259739/259739 [02:52<00:00, 1508.49it/s]\n"
     ]
    },
    {
     "data": {
      "image/png": "[encoded data removed]",
      "text/plain": [
       "<Figure size 576x396 with 1 Axes>"
      ]
     },
     "metadata": {},
     "output_type": "display_data"
    }
   ],
   "source": [
    "df['Z_max'] = [max(z) for z in df['Z']]\n",
    "df['Y_max_sig'] = np.nan\n",
    "df['Z_max_sig'] = np.nan\n",
    "for i in tqdm(range(df.shape[0])):\n",
    "    r = df.iloc[i]\n",
    "    try:\n",
    "        df['Y_max_sig'].iloc[i] = max(np.array(r['Y'])[np.array(r['Y_pvals']) < 0.05])\n",
    "    except:\n",
    "        pass\n",
    "    try:\n",
    "        df['Z_max_sig'].iloc[i] = max(np.array(r['Z'])[np.array(r['Z_pvals']) < 0.05])\n",
    "    except:\n",
    "        pass\n",
    "plt.hist(df['Z_max'], bins=100)\n",
    "plt.axvline(390)\n",
    "plt.show()"
   ]
  },
  {
   "cell_type": "code",
   "execution_count": 168,
   "metadata": {},
   "outputs": [
    {
     "name": "stderr",
     "output_type": "stream",
     "text": [
      "100%|██████████| 43926/43926 [00:20<00:00, 2136.02it/s]\n"
     ]
    }
   ],
   "source": [
    "df = add_dasc_features(df, bins=100, by_cell=True)"
   ]
  },
  {
   "cell_type": "code",
   "execution_count": 178,
   "metadata": {},
   "outputs": [
    {
     "name": "stderr",
     "output_type": "stream",
     "text": [
      "/accounts/grad/xsli/.local/lib/python3.7/site-packages/pandas/core/series.py:679: RuntimeWarning: invalid value encountered in log\n",
      "  result = getattr(ufunc, method)(*inputs, **kwargs)\n",
      "../src/train_reg.py:82: RuntimeWarning: invalid value encountered in less\n",
      "  sigs = np.array(r[f'{track}_pvals']) < 0.05\n"
     ]
    }
   ],
   "source": [
    "df = train_reg.log_transforms(df)\n",
    "df = train_reg.add_sig_mean(df)\n",
    "df_train = df[df.cell_num.isin(config.DSETS[dset]['train'])] \n",
    "df_test = df[df.cell_num.isin(config.DSETS[dset]['test'])] \n",
    "df_train = df_train.dropna()"
   ]
  },
  {
   "cell_type": "code",
   "execution_count": 206,
   "metadata": {},
   "outputs": [],
   "source": [
    "feat_names = ['mean_square_displacement',\n",
    "              'mean_total_displacement',\n",
    "              'X_max',\n",
    "              'X_mean',\n",
    "              'X_std',\n",
    "              'lifetime',\n",
    "              'X_d1',\n",
    "              'X_d2',\n",
    "              'X_d3'\n",
    "             ]"
   ]
  },
  {
   "cell_type": "code",
   "execution_count": 210,
   "metadata": {},
   "outputs": [
    {
     "name": "stderr",
     "output_type": "stream",
     "text": [
      "100%|██████████| 4/4 [08:39<00:00, 101.97s/it]\n"
     ]
    }
   ],
   "source": [
    "out_dir = 'results/regression/Oct14_Z'\n",
    "outcome_def = 'Z_sig_mean'\n",
    "os.makedirs(out_dir, exist_ok=True)\n",
    "for model_type in tqdm(['linear', 'gb', 'rf', 'ridge']):\n",
    "    out_name = f'{model_type}'\n",
    "                        #print(out_name)\n",
    "    #if use_processed and os.path.exists(f'{out_dir}/{out_name}.pkl'):\n",
    "    #    continue\n",
    "    train_reg.train_reg(df_train, feat_names=feat_names, model_type=model_type, \n",
    "                     outcome_def=outcome_def,\n",
    "                     out_name=f'{out_dir}/{out_name}.pkl') "
   ]
  },
  {
   "cell_type": "code",
   "execution_count": 173,
   "metadata": {},
   "outputs": [
    {
     "data": {
      "image/png": "[encoded data removed]",
      "text/plain": [
       "<Figure size 576x396 with 1 Axes>"
      ]
     },
     "metadata": {},
     "output_type": "display_data"
    }
   ],
   "source": [
    "plt.hist(df['X_d1'], bins=50)\n",
    "plt.show()"
   ]
  }
 ],
 "metadata": {
  "kernelspec": {
   "display_name": "Python 3",
   "language": "python",
   "name": "python3"
  },
  "language_info": {
   "codemirror_mode": {
    "name": "ipython",
    "version": 3
   },
   "file_extension": ".py",
   "mimetype": "text/x-python",
   "name": "python",
   "nbconvert_exporter": "python",
   "pygments_lexer": "ipython3",
   "version": "3.7.5"
  },
  "pycharm": {
   "stem_cell": {
    "cell_type": "raw",
    "metadata": {
     "collapsed": false
    },
    "source": []
   }
  }
 },
 "nbformat": 4,
 "nbformat_minor": 4
}
