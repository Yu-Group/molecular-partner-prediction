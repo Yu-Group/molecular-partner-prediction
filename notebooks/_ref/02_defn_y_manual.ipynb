{
 "cells": [
  {
   "cell_type": "code",
   "execution_count": 1,
   "metadata": {},
   "outputs": [],
   "source": [
    "%matplotlib inline\n",
    "%load_ext autoreload\n",
    "%autoreload 2\n",
    "import numpy as np\n",
    "import seaborn as sns\n",
    "from matplotlib import pyplot as plt\n",
    "import sys\n",
    "sys.path.append('../src')\n",
    "plt.style.use('dark_background')\n",
    "import data\n",
    "from viz import *\n",
    "import itertools\n",
    "from sklearn import mixture\n",
    "from matplotlib_venn import venn3\n",
    "import viz\n",
    "outcome_def = 'y_consec_thresh'"
   ]
  },
  {
   "cell_type": "code",
   "execution_count": 2,
   "metadata": {},
   "outputs": [
    {
     "name": "stdout",
     "output_type": "stream",
     "text": [
      "valid:\t\t2066 aux+ / 7594 (0.272)\n",
      "----------------------------------------\n",
      "hotspots:\t 349 aux+ /  349\n",
      "short:\t\t 283 aux+ / 5697 (0.950)\n",
      "long:\t\t 108 aux+ /  113 (0.953)\n",
      "hard:\t\t1482 aux+ / 2936 (0.505)\n",
      "\n",
      "lifetime threshes 15 161\n"
     ]
    }
   ],
   "source": [
    "df = data.get_data()\n",
    "df = df[df['valid'] == 1] # exclude test cells, short/long tracks, hotspots\n",
    "viz.print_metadata()\n",
    "\n",
    "def sort_outcome(df, outcome_def):\n",
    "    outcome_score = df['Y_max'].values\n",
    "    idxs_sort = np.argsort(outcome_score)\n",
    "    return df[outcome_def].values[idxs_sort], df['Y'].values[idxs_sort]\n",
    "\n",
    "outcome_sort, Y_sort = sort_outcome(df, outcome_def)"
   ]
  },
  {
   "cell_type": "markdown",
   "metadata": {},
   "source": [
    "# unsure tracks"
   ]
  },
  {
   "cell_type": "code",
   "execution_count": null,
   "metadata": {},
   "outputs": [],
   "source": [
    "df = data.get_data(dset='orig', use_processed=False,\n",
    "                   use_processed_dicts=True, outcome_def=outcome_def)"
   ]
  },
  {
   "cell_type": "code",
   "execution_count": null,
   "metadata": {},
   "outputs": [],
   "source": [
    "labels_cs = {\n",
    "    'pos': [2321, 11032, 4484, 4750, 8084, 6770, 6624, 2749, 6378, 7833, 4399, 9547, 2253],\n",
    "    'hotspots': [10069, 5485, 3146, 5560, 5600, 5937, 7688, 6055, 5670, 10235, 5583, 6151, 5720, 2553, 6040, 292, 5456, 2437, 5966, 5499, 10043, 10232, 5434, 6224, 5785, 6210, 2761, 6359, 6438, 5423, 5774, 7556, 5766, 7882, 7732, 5798, 2711, 2562, 5939, 2214, 2881, 2588, 10123, 6527, 10309, 2038, 2683, 5617, 2146, 4117, 10821, 2538, 5408, 5527, 6079, 7499, 6641, 2930, 5683, 6353, 5958, 2154, 5835],  # note first were labeled as neg, second were labeled as pos\n",
    "    'neg': [3964, 10054, 735, 846, 1362, 3823, 5389, 8834, 9565, 10882, 11166, 718]\n",
    "}\n",
    "labels_xl = {\n",
    "    'pos': [2321, 10996, 4454, 10431, 11032, 10057, 4484, 8084, 10754, 2382, 938, 2228, 10887, 6770, 10895, 10863, 6624, 10333, 4069, 10113, 4849, 9719, 10116, 245, 10077, 9547, 9557, 10457, 10037, 9900, 10146, 5507, 10517, 2749, 9563, 6378, 2014, 9714, 1353, 10117, 7504, 9724, 3141, 5797, 10508, 10374, 5593, 9932, 4399, 10632, 1039, 9904, 9930, 8505, 429, 10331, 5470, 8557, 7773, 10830, 10749, 2031, 3822, 7833, 5791, 10602, 2203, 542, 10843, 7759, 10483, 4827, 225, 7679, 9617, 2378, 5409, 10142, 9975, 10264, 918, 10148, 10066, 9917, 9485, 6400, 5961, 10023, 10418, 231, 10695, 3065, 6420, 7865, 9813, 10765, 6290, 2270, 729, 2626, 8424, 10199, 2200, 2854, 2253],\n",
    "    'hotspots': [10015, 6339, 3168, 7481, 7779, 646, 4117, 7891, 4324, 2146, 10007, 1162, 10330, 285, 5527, 7616, 5617, 4196, 7771, 2085, 1104, 5512, 8303, 4409, 7343, 2538, 7570, 3977, 2683, 2038, 10250, 2494, 10309, 8423, 2417, 6353, 2564, 685, 6471, 6527, 10123, 2173, 2588, 205, 2881, 5863, 5958, 5408, 2607, 2214, 5939, 2562, 6079, 8208, 2154, 2799, 3909, 5798, 7663, 2574, 7732, 5835, 7882, 5766, 7556, 6438, 6641, 6359, 2761, 6210, 5434, 10232, 10043, 6109, 2323, 9550, 2437, 5456, 2930, 5683, 413, 2553, 7499, 6151, 5583, 10235, 6055, 7688, 5600, 5560, 3146, 5485, 10069, 5423, 5499, 6224, 5937, 292],\n",
    "    'neg': [718, 735, 846, 1362, 3823, 5389, 8834, 9565, 10882, 11166, 10054]\n",
    "}\n",
    "    \n",
    "pos_all = set(labels_cs['pos']).union(set(labels_xl['pos']))\n",
    "pos_int = set(labels_cs['pos']).intersection(set(labels_xl['pos']))\n",
    "pos = pos_all - pos_int\n",
    "\n",
    "hots_all = set(labels_cs['hotspots']).union(set(labels_xl['hotspots']))\n",
    "hots_int = set(labels_cs['hotspots']).intersection(set(labels_xl['hotspots']))\n",
    "hots = hots_all - hots_int\n",
    "\n",
    "neg_all = set(labels_cs['neg']).union(set(labels_xl['neg']))\n",
    "neg_int = set(labels_cs['neg']).intersection(set(labels_xl['neg']))\n",
    "neg = neg_all - neg_int\n",
    "print(len(pos), len(hots), len(neg))\n",
    "print(neg)\n",
    "\n",
    "for k, inds in zip(['pos', 'hots', 'neg'], [pos, hots, neg]):\n",
    "    d = df[df.pid.isin(inds)]\n",
    "    print(k, d.shape)\n",
    "    R, C = 11, 10\n",
    "    plt.figure(figsize=(20, 24)) #, dpi=200)\n",
    "    lifetime_max = np.max(df.lifetime.values[:R*C])\n",
    "    print(lifetime_max)\n",
    "    for i in range(R * C):\n",
    "        if i < d.shape[0]:\n",
    "            plt.subplot(R, C, i + 1)\n",
    "            row = d.iloc[i]\n",
    "            plt.plot(row.X, color='red', label='clathrin')\n",
    "            plt.plot(row.Y, color='green', label='auxilin')\n",
    "            plt.axhline(642.3754691658837, color='gray', alpha=0.5)\n",
    "            plt.xlim([-1, lifetime_max + 1])\n",
    "            plt.title(row.pid)\n",
    "    #         plt.ylim([-10, max(max(df.X_max), max(df.Y_max)) + 1])\n",
    "            plt.axis('off')\n",
    "    plt.savefig(k + '.pdf')\n",
    "    plt.legend()\n",
    "    plt.tight_layout()\n",
    "#     plt.show()"
   ]
  },
  {
   "cell_type": "markdown",
   "metadata": {},
   "source": [
    "# visualize outcomes\n",
    "- take mean, take sigma, define events with a threshold"
   ]
  },
  {
   "cell_type": "code",
   "execution_count": 6,
   "metadata": {},
   "outputs": [
    {
     "data": {
      "image/png": "[encoded data removed]",
      "text/plain": [
       "<Figure size 432x288 with 1 Axes>"
      ]
     },
     "metadata": {},
     "output_type": "display_data"
    }
   ],
   "source": [
    "outcome = df[outcome_def]\n",
    "aux_pos = df['lifetime'][outcome==1] \n",
    "aux_neg = df['lifetime'][outcome==0] \n",
    "plt.hist(aux_pos, label='aux+', alpha=1, color=cb)\n",
    "plt.hist(aux_neg, label='aux-', alpha=0.7, color=cr)\n",
    "plt.xlabel('lifetime')\n",
    "plt.ylabel('count')\n",
    "plt.title(f'aux+: {aux_pos.shape[0]}, aux-: {aux_neg.shape[0]}, tot: {df.shape[0]}')\n",
    "plt.legend()\n",
    "plt.show()"
   ]
  },
  {
   "cell_type": "markdown",
   "metadata": {},
   "source": [
    "# viz curves"
   ]
  },
  {
   "cell_type": "code",
   "execution_count": null,
   "metadata": {},
   "outputs": [],
   "source": [
    "viz.plot_curves(df[df.pid.isin(data.get_labels()['hotspots'])])"
   ]
  },
  {
   "cell_type": "code",
   "execution_count": null,
   "metadata": {},
   "outputs": [],
   "source": [
    "R, C = 4, 5\n",
    "# plt.figure(dpi=200)\n",
    "plt.figure(figsize=(9, 8), dpi=200)\n",
    "n = Y_sort.shape[0]\n",
    "# idxs = list(range(10)) + list(range(n - 10, n)) # let's look at the top / bot\n",
    "idxs = list(range(num_neg - 40, num_neg + 40)) # let's look at ones in the middle\n",
    "for i in range(R * C):\n",
    "    plt.subplot(R, C, i + 1)\n",
    "    idx = idxs[i]\n",
    "    plt.plot(Y_sort[idx], color=cr if outcome_sort[idx] == 0 else cb)\n",
    "#     plt.axis('off')\n",
    "plt.tight_layout()"
   ]
  },
  {
   "cell_type": "markdown",
   "metadata": {},
   "source": [
    "**compare as a func of aux_max**"
   ]
  },
  {
   "cell_type": "code",
   "execution_count": null,
   "metadata": {},
   "outputs": [],
   "source": [
    "R, C = 20, 28\n",
    "# plt.figure(dpi=200)\n",
    "plt.figure(figsize=(28, 20))\n",
    "n = Y_sort.shape[0] # 1434\n",
    "\n",
    "idxs = np.array([np.arange(int(i), int(i) + C) for i in np.linspace(0, n - C, R)]).flatten() #list(range(10)) + list(range(n - 10, n))\n",
    "Ys = Y_sort[idxs]\n",
    "ymin = -200\n",
    "ymax = 4000\n",
    "\n",
    "for i in range(R * C):\n",
    "    plt.subplot(R, C, i + 1)\n",
    "    idx = idxs[i]\n",
    "    plt.plot(Ys[i], color=cr if outcome_sort[idx] == 0 else cb, lw=1)\n",
    "    plt.ylim((ymin - 1, ymax + 1))\n",
    "    plt.xlim((0, 120))\n",
    "    if not i == R * C - C:\n",
    "        plt.yticks([])\n",
    "        plt.xticks([])\n",
    "    if i % C == 0:\n",
    "        plt.ylabel(f'{np.max(Ys[i]):.0f}')\n",
    "#     plt.axis('off')\n",
    "plt.tight_layout()\n",
    "plt.subplots_adjust(hspace=0, wspace=0)\n",
    "plt.savefig('figs/aux_max.pdf')"
   ]
  },
  {
   "cell_type": "code",
   "execution_count": 10,
   "metadata": {},
   "outputs": [
    {
     "data": {
      "image/png": "[encoded data removed]",
      "text/plain": [
       "<Figure size 432x288 with 1 Axes>"
      ]
     },
     "metadata": {
      "needs_background": "dark"
     },
     "output_type": "display_data"
    }
   ],
   "source": [
    "aux_plus = df[outcome_def] == 1\n",
    "plt.hist(df[aux_plus]['Y_max'], color=cb, label='aux+', bins=100)\n",
    "plt.hist(df[~aux_plus]['Y_max'], color=cr, label='aux-', alpha=0.7, bins=100)\n",
    "plt.xlabel('aux_max')\n",
    "plt.ylabel('count')\n",
    "plt.legend()\n",
    "plt.show()"
   ]
  },
  {
   "cell_type": "code",
   "execution_count": 30,
   "metadata": {},
   "outputs": [
    {
     "name": "stdout",
     "output_type": "stream",
     "text": [
      "num pts classified w/ 95% 193\n"
     ]
    },
    {
     "data": {
      "image/png": "[encoded data removed]",
      "text/plain": [
       "<Figure size 576x216 with 2 Axes>"
      ]
     },
     "metadata": {
      "needs_background": "dark"
     },
     "output_type": "display_data"
    }
   ],
   "source": [
    "key = 'X_max'\n",
    "R, C = 1, 2\n",
    "plt.figure(figsize=(8, 3))\n",
    "plt.subplot(R, C, 1)\n",
    "aux_plus = df[outcome_def] == 1\n",
    "plt.hist(df[aux_plus][key], color=cb, label='aux+', bins=100)\n",
    "plt.hist(df[~aux_plus][key], color=cr, label='aux-', alpha=0.7, bins=100)\n",
    "accs_cum_lower = np.array([1 - np.mean(df[outcome_def][df[key] <= l])\n",
    "                           for l in sorted(df[key])])\n",
    "plt.legend()\n",
    "print('num pts classified w/ 95%', np.sum(accs_cum_lower > 0.95))\n",
    "plt.subplot(R, C, 2)\n",
    "plt.plot(accs_cum_lower)\n",
    "plt.xlabel(key)\n",
    "plt.ylabel('count')\n",
    "plt.show()"
   ]
  },
  {
   "cell_type": "markdown",
   "metadata": {},
   "source": [
    "# look at hotspots"
   ]
  },
  {
   "cell_type": "code",
   "execution_count": 16,
   "metadata": {},
   "outputs": [
    {
     "name": "stdout",
     "output_type": "stream",
     "text": [
      "loading + preprocessing data...\n",
      "\tloading tracks...\n",
      "\tpreprocessing data...\n",
      "\tadding features...\n",
      "dict features not added!\n"
     ]
    }
   ],
   "source": [
    "dfh = data.get_data(use_processed=True, remove_hotspots=False,\n",
    "                         processed_file='processed/df_with_hotspots.pkl', metadata_file='processed/metadata_with_hotspots.pkl',)"
   ]
  },
  {
   "cell_type": "code",
   "execution_count": null,
   "metadata": {},
   "outputs": [],
   "source": [
    "dh = dfh[df.hotspots==1]\n",
    "R = int(np.sqrt(dh.shape[0]))\n",
    "C = (dh.shape[0] // R) + 1\n",
    "plt.figure(figsize=(C, R), dpi=200)\n",
    "\n",
    "for i in range(R * C):\n",
    "    if i < dh.shape[0]:\n",
    "        ax = plt.subplot(R, C, i + 1)\n",
    "        row = dh.iloc[i]\n",
    "        plt.axis('off')\n",
    "        Y = np.array(row['Y'])\n",
    "        ts = np.arange(Y.size)\n",
    "        plt.plot(ts, np.array(row['X']), color=cr, lw=1)\n",
    "        plt.plot(ts, Y, color='green', lw=1)\n",
    "        plt.plot(ts[row['sig_idxs']==True], Y[row['sig_idxs']], 'o', color='white', ms=1, alpha=0.5)\n",
    "\n",
    "    #     plt.plot(dh.iloc[i]['X'], color='red')\n",
    "        ax.text(.5, .9, f'{i}',\n",
    "                         horizontalalignment='right',\n",
    "                         transform=ax.transAxes)\n",
    "\n",
    "\n",
    "        plt.ylim((-1000, 4000))\n",
    "        plt.xlim((0, 120))\n",
    "\n",
    "# plt.suptitle(f'clath divided by 2 to fit on same scale xscale is 120')\n",
    "plt.tight_layout()\n",
    "plt.savefig('hotspots.pdf')\n",
    "plt.show()"
   ]
  },
  {
   "cell_type": "markdown",
   "metadata": {},
   "source": [
    "# compare different outcome defs"
   ]
  },
  {
   "cell_type": "code",
   "execution_count": null,
   "metadata": {},
   "outputs": [],
   "source": [
    "keys = ['y_thresh', 'y_single_sig', 'y_double_sig', 'y_consec_sig', 'y']\n",
    "mat = df[keys] #.corr()# make fig\n",
    "# plt.figure(dpi=200)\n",
    "# sns.heatmap(mat.corr(method='spearman'), annot=True,\n",
    "#             cmap=sns.diverging_palette(10, 240, as_cmap=True, center='light'), vmin=-1, vmax=1)\n",
    "# plt.show()\n",
    "\n",
    "plt.figure(dpi=200)\n",
    "sns.barplot(x=keys, y=mat.sum(), color=cb, alpha=1)\n",
    "plt.ylabel('num aux+')\n",
    "plt.xlabel('aux+ definition')"
   ]
  },
  {
   "cell_type": "code",
   "execution_count": null,
   "metadata": {},
   "outputs": [],
   "source": [
    "plt.figure(dpi=200)\n",
    "idxs = np.arange(df.shape[0])\n",
    "keys = ['y_thresh', 'y_single_sig', 'y_consec_sig']\n",
    "venn3([set(idxs[df[keys[0]] == 1]), set(idxs[df[keys[1]] == 1]), set(idxs[df[keys[2]] == 1])], keys)\n",
    "plt.show()"
   ]
  },
  {
   "cell_type": "markdown",
   "metadata": {},
   "source": [
    "# analyze aux+ p-value / amplitude defs"
   ]
  },
  {
   "cell_type": "code",
   "execution_count": 4,
   "metadata": {},
   "outputs": [],
   "source": [
    "aux = df.Y\n",
    "aux_p = df.Y_pvals\n",
    "\n",
    "ys = np.array(list(itertools.chain.from_iterable(aux)))\n",
    "ps = np.array(list(itertools.chain.from_iterable(aux_p.values)))\n",
    "\n",
    "ps_sig = ps < 0.05"
   ]
  },
  {
   "cell_type": "code",
   "execution_count": null,
   "metadata": {},
   "outputs": [],
   "source": [
    "R = 1\n",
    "C = 2\n",
    "plt.figure(figsize=(8, 4), dpi=200)\n",
    "plt.subplot(R, C, 1)\n",
    "plt.hist(ps, bins=100, color=cb) #ps[(ps < 0.5) * (ps > 0.01)])\n",
    "plt.yscale('log')\n",
    "plt.axvline(0.05, color=cr)\n",
    "plt.xlabel('auxilin p-value')\n",
    "plt.ylabel('count (log-scale)')\n",
    "# plt.xscale('log')\n",
    "# plt.ylabel()\n",
    "# plt.xlim((0, 0.1))\n",
    "print(f'num sig {np.sum(ps_sig):,d}')\n",
    "print(f'num nonsig {np.sum(~ps_sig):,d}')\n",
    "\n",
    "plt.subplot(R, C, 2)\n",
    "ys_sig = ys[ps_sig]\n",
    "(counts, bins, _) = plt.hist(ys_sig, bins=180, color=cb) #ps[(ps < 0.5) * (ps > 0.01)])\n",
    "idx_max = np.argmax(counts)\n",
    "aux_max = bins[idx_max]\n",
    "plt.axvline(aux_max, color=cr)\n",
    "plt.xlabel('auxilin amplitude')\n",
    "plt.ylabel('count')\n",
    "plt.tight_layout()\n",
    "plt.show()\n",
    "\n",
    "print('aux_max', aux_max)"
   ]
  },
  {
   "cell_type": "code",
   "execution_count": null,
   "metadata": {},
   "outputs": [],
   "source": [
    "ys_sig = ys_sig.reshape(-1, 1)\n",
    "mog = mixture.GaussianMixture(n_components=3)\n",
    "mog.fit(ys_sig.reshape(-1, 1))\n",
    "preds = mog.predict(ys_sig.reshape(-1, 1))\n",
    "\n",
    "# plot hist\n",
    "plt.figure(dpi=200)\n",
    "plt.hist(ys_sig, bins=bins, alpha=1, color=cb) #ps[(ps < 0.5) * (ps > 0.01)])\n",
    "samples, comps = mog.sample(n_samples=ys_sig.size) \n",
    "for i in [0, 2, 1]:\n",
    "    idxs = comps==i\n",
    "    plt.hist(samples[idxs], bins=bins, alpha=0.75, label=f'{mog.means_[i, 0]}')\n",
    "plt.axvline(aux_max, color='white')\n",
    "# plt.legend()\n",
    "\n",
    "plt.xlabel('auxilin amplitude (significant only)')\n",
    "plt.ylabel('count')\n",
    "plt.show()"
   ]
  },
  {
   "cell_type": "markdown",
   "metadata": {},
   "source": [
    "# label checking"
   ]
  },
  {
   "cell_type": "code",
   "execution_count": 20,
   "metadata": {},
   "outputs": [
    {
     "name": "stdout",
     "output_type": "stream",
     "text": [
      "26 52\n"
     ]
    }
   ],
   "source": [
    "neg = [221, 248, 255, 274, 291, 294, 350, 358, 364, 384, 434, 481, 518, 535, 588, 590, 602, 604, 638, 668, 675, 708, 752, 778, 808, 827]\n",
    "pos = [3982, 8243, 777, 3940, 7559, 2455, 4748, 633, 2177, 1205, 603, 7972, 8458, 3041, 924, 8786, 4116, 885, 6298, 4658, 7889, 982, 829, 1210, 3054, 504]\n",
    "\n",
    "n1 = len(neg)\n",
    "\n",
    "full = np.array(neg + pos)\n",
    "n2 = len(full)\n",
    "print(n1, n2)"
   ]
  },
  {
   "cell_type": "code",
   "execution_count": 23,
   "metadata": {},
   "outputs": [],
   "source": [
    "import random\n",
    "random.seed(15)\n",
    "samps = np.array(random.sample(range(n2), 36))\n",
    "pids = full[samps]\n",
    "labs = samps >= n1"
   ]
  },
  {
   "cell_type": "code",
   "execution_count": null,
   "metadata": {},
   "outputs": [],
   "source": [
    "viz.plot_curves(df[df.pid.isin(pids)]) #, extra_key='X_smooth_spl')"
   ]
  }
 ],
 "metadata": {
  "kernelspec": {
   "display_name": "Python 3",
   "language": "python",
   "name": "python3"
  },
  "language_info": {
   "codemirror_mode": {
    "name": "ipython",
    "version": 3
   },
   "file_extension": ".py",
   "mimetype": "text/x-python",
   "name": "python",
   "nbconvert_exporter": "python",
   "pygments_lexer": "ipython3",
   "version": "3.7.5"
  },
  "pycharm": {
   "stem_cell": {
    "cell_type": "raw",
    "metadata": {
     "collapsed": false
    },
    "source": []
   }
  }
 },
 "nbformat": 4,
 "nbformat_minor": 4
}
