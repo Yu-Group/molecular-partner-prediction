{
 "cells": [
  {
   "cell_type": "code",
   "execution_count": 1,
   "metadata": {},
   "outputs": [],
   "source": [
    "%matplotlib inline\n",
    "%load_ext autoreload\n",
    "%autoreload 2\n",
    "import numpy as np\n",
    "import seaborn as sns\n",
    "from matplotlib import pyplot as plt\n",
    "import sys\n",
    "sys.path.append('../src')\n",
    "# plt.style.use('dark_background')\n",
    "import data\n",
    "from viz import *\n",
    "import itertools\n",
    "from sklearn import mixture\n",
    "from matplotlib_venn import venn3\n",
    "import viz\n",
    "outcome_def = 'y_consec_thresh'"
   ]
  },
  {
   "cell_type": "markdown",
   "metadata": {},
   "source": [
    "# process original data"
   ]
  },
  {
   "cell_type": "code",
   "execution_count": 2,
   "metadata": {},
   "outputs": [
    {
     "name": "stdout",
     "output_type": "stream",
     "text": [
      "loading + preprocessing data...\n",
      "\tloading tracks...\n",
      "\t /accounts/projects/vision/chandan/auxilin-prediction/src/../data/tracks/tracks_clath_aux+gak_a7d2.pkl /scratch/users/vision/data/abc_data/auxilin_data_tracked\n",
      "\tpreprocessing data...\n",
      "\tadding features...\n"
     ]
    },
    {
     "name": "stderr",
     "output_type": "stream",
     "text": [
      "/accounts/projects/vision/.local/lib/python3.7/site-packages/numpy/core/fromnumeric.py:3118: RuntimeWarning: Mean of empty slice.\n",
      "  out=out, **kwargs)\n",
      "/accounts/projects/vision/.local/lib/python3.7/site-packages/numpy/core/_methods.py:85: RuntimeWarning: invalid value encountered in double_scalars\n",
      "  ret = ret.dtype.type(ret / rcount)\n"
     ]
    },
    {
     "name": "stdout",
     "output_type": "stream",
     "text": [
      "\tsaving...\n"
     ]
    }
   ],
   "source": [
    "dset_orig = 'clath_aux+gak_a7d2'\n",
    "df_orig = data.get_data(dset=dset_orig)  # save out orig"
   ]
  },
  {
   "cell_type": "code",
   "execution_count": 3,
   "metadata": {},
   "outputs": [
    {
     "name": "stdout",
     "output_type": "stream",
     "text": [
      "num feats 17\n",
      "['mean_total_displacement', 'mean_square_displacement', 'lifetime', 'X_max', 'X_min', 'X_mean', 'X_std', 'X_peak_time_frac', 'rise', 'fall', 'rise_slope', 'fall_slope', 'max_diff', 'min_diff', 'X_d1', 'X_d2', 'X_d3']\n"
     ]
    }
   ],
   "source": [
    "df_orig = df_orig[df_orig['valid']] # exclude test cells, short/long tracks, hotspots\n",
    "feat_names = data.get_feature_names(df_orig)\n",
    "feat_names = data.select_final_feats(feat_names)\n",
    "print('num feats', len(feat_names))\n",
    "print(feat_names)"
   ]
  },
  {
   "cell_type": "markdown",
   "metadata": {},
   "source": [
    "# process new data"
   ]
  },
  {
   "cell_type": "code",
   "execution_count": 4,
   "metadata": {},
   "outputs": [
    {
     "name": "stdout",
     "output_type": "stream",
     "text": [
      "\tadding features...\n"
     ]
    },
    {
     "name": "stderr",
     "output_type": "stream",
     "text": [
      "/accounts/projects/vision/.local/lib/python3.7/site-packages/numpy/core/fromnumeric.py:3118: RuntimeWarning: Mean of empty slice.\n",
      "  out=out, **kwargs)\n",
      "/accounts/projects/vision/.local/lib/python3.7/site-packages/numpy/core/_methods.py:85: RuntimeWarning: invalid value encountered in double_scalars\n",
      "  ret = ret.dtype.type(ret / rcount)\n"
     ]
    },
    {
     "name": "stdout",
     "output_type": "stream",
     "text": [
      "\tsaving...\n",
      "ap2_pi4p num cells 9 num tracks 11622 num aux+ 5928 aux+ fraction 0.51 valid 1347 valid aux+ 961 valid aux+ fraction 0.713\n"
     ]
    }
   ],
   "source": [
    "# process new data (using lifetime thresholds from original data)\n",
    "outcome_def = 'y_consec_sig'\n",
    "dfs = []\n",
    "# for dset in ['clath_aux_dynamin']:\n",
    "for dset in [d in config.DSETS.keys() if not 'pi4p' in d]: #['clath_aux+gak']: #\n",
    "    try:\n",
    "#         df = data.get_data(dset=dset, previous_meta_file=None, use_processed=False)\n",
    "        df = data.get_data(dset=dset, previous_meta_file=f'{config.DIR_PROCESSED}/metadata_{dset_orig}.pkl')\n",
    "        print(dset, 'num cells', len(df['cell_num'].unique()), 'num tracks', df.shape[0], 'num aux+',\n",
    "              df[outcome_def].sum(), 'aux+ fraction', (df[outcome_def].sum() / df.shape[0]).round(3),\n",
    "              'valid', df.valid.sum(), 'valid aux+', df[df.valid][outcome_def].sum(), 'valid aux+ fraction',\n",
    "              (df[df.valid][outcome_def].sum() / df.valid.sum()).round(3))\n",
    "        dfs.append(df)\n",
    "    except:\n",
    "        print('failed', dset)"
   ]
  },
  {
   "cell_type": "markdown",
   "metadata": {},
   "source": [
    "# check data stats"
   ]
  },
  {
   "cell_type": "code",
   "execution_count": 7,
   "metadata": {},
   "outputs": [
    {
     "name": "stdout",
     "output_type": "stream",
     "text": [
      "clath_aux+gak_a7d2 num cells 8 num tracks 10091 num aux+ 2225 aux+ fraction 0.22 valid 2936 valid aux+ 1193 valid aux+ fraction 0.406\n",
      "clath_aux+gak num cells 8 num tracks 7649 num aux+ 1947 aux+ fraction 0.255 valid 1721 valid aux+ 953 valid aux+ fraction 0.554\n",
      "clath_aux+gak_a7d2_new num cells 10 num tracks 67729 num aux+ 8770 aux+ fraction 0.129 valid 7010 valid aux+ 3147 valid aux+ fraction 0.449\n",
      "clath_aux_dynamin num cells 30 num tracks 210587 num aux+ 18001 aux+ fraction 0.085 valid 31762 valid aux+ 7679 valid aux+ fraction 0.242\n",
      "clath_aux+gak_new num cells 10 num tracks 20833 num aux+ 3053 aux+ fraction 0.147 valid 2899 valid aux+ 1322 valid aux+ fraction 0.456\n",
      "clath_gak num cells 9 num tracks 18645 num aux+ 3210 aux+ fraction 0.172 valid 3132 valid aux+ 1191 valid aux+ fraction 0.38\n",
      "clath_pi4p_notreatment num cells 4 num tracks 12374 num aux+ 5765 aux+ fraction 0.466 valid 924 valid aux+ 742 valid aux+ fraction 0.803\n",
      "ap2_pi4p num cells 9 num tracks 11622 num aux+ 5928 aux+ fraction 0.51 valid 1347 valid aux+ 961 valid aux+ fraction 0.713\n"
     ]
    }
   ],
   "source": [
    "for dset in config.DSETS.keys(): #['clath_aux+gak']: #\n",
    "    df = data.get_data(dset=dset)\n",
    "    print(dset, 'num cells', len(df['cell_num'].unique()), 'num tracks', df.shape[0], 'num aux+',\n",
    "              df[outcome_def].sum(), 'aux+ fraction', (df[outcome_def].sum() / df.shape[0]).round(3),\n",
    "              'valid', df.valid.sum(), 'valid aux+', df[df.valid][outcome_def].sum(), 'valid aux+ fraction',\n",
    "              (df[df.valid][outcome_def].sum() / df.valid.sum()).round(3))"
   ]
  },
  {
   "cell_type": "markdown",
   "metadata": {},
   "source": [
    "# visualize differences"
   ]
  },
  {
   "cell_type": "code",
   "execution_count": 6,
   "metadata": {},
   "outputs": [
    {
     "data": {
      "image/png": "[encoded data removed]",
      "text/plain": [
       "<Figure size 432x288 with 1 Axes>"
      ]
     },
     "metadata": {
      "needs_background": "light"
     },
     "output_type": "display_data"
    }
   ],
   "source": [
    "plt.hist(df_orig.lifetime, alpha=1, density=True, bins=30)\n",
    "for df in dfs:\n",
    "    plt.hist(df.lifetime, density=True, bins=30, alpha=0.1)"
   ]
  },
  {
   "cell_type": "code",
   "execution_count": null,
   "metadata": {},
   "outputs": [],
   "source": []
  }
 ],
 "metadata": {
  "kernelspec": {
   "display_name": "Python 3",
   "language": "python",
   "name": "python3"
  },
  "language_info": {
   "codemirror_mode": {
    "name": "ipython",
    "version": 3
   },
   "file_extension": ".py",
   "mimetype": "text/x-python",
   "name": "python",
   "nbconvert_exporter": "python",
   "pygments_lexer": "ipython3",
   "version": "3.7.5"
  },
  "pycharm": {
   "stem_cell": {
    "cell_type": "raw",
    "metadata": {
     "collapsed": false
    },
    "source": []
   }
  }
 },
 "nbformat": 4,
 "nbformat_minor": 4
}
