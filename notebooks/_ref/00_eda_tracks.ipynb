{
 "cells": [
  {
   "cell_type": "code",
   "execution_count": 1,
   "metadata": {},
   "outputs": [],
   "source": [
    "%matplotlib inline\n",
    "%load_ext autoreload\n",
    "%autoreload 2\n",
    "import os\n",
    "from copy import deepcopy\n",
    "import sys\n",
    "sys.path.append('../src')\n",
    "import numpy as np\n",
    "import seaborn as sns\n",
    "from matplotlib import pyplot as plt\n",
    "# plt.style.use('dark_background')\n",
    "import mat4py\n",
    "import data\n",
    "import pickle as pkl\n",
    "from viz import *\n",
    "import viz\n",
    "import trend_filtering"
   ]
  },
  {
   "cell_type": "code",
   "execution_count": 2,
   "metadata": {},
   "outputs": [],
   "source": [
    "df = data.get_data(use_processed=True) # all_data=True\n",
    "df = df[df['valid'] == 1] # exclude test cells, short/long tracks, hotspots\n",
    "outcome = 'y_consec_thresh'"
   ]
  },
  {
   "cell_type": "markdown",
   "metadata": {},
   "source": [
    "# look at tracks themselves"
   ]
  },
  {
   "cell_type": "code",
   "execution_count": 18,
   "metadata": {},
   "outputs": [],
   "source": [
    "auxilin_dir = '/scratch/users/vision/data/abc_data/auxilin_data_tracked'\n",
    "\n",
    "# 8 cell folders [1, 2, 3, ..., 8]\n",
    "cell_num = 1\n",
    "fname = f'{auxilin_dir}/A7D2/Cell{cell_num}_1s/TagRFP/Tracking/ProcessedTracks.mat'\n",
    "# cla, aux = get_images(f'Cell{cell_num}_1s', auxilin_dir=auxilin_dir)\n",
    "# fname_image = data_dir = oj(auxilin_dir, 'A7D2', f'Cell{cell_num}_1s')\n",
    "mat = mat4py.loadmat(fname)\n",
    "tracks = mat['tracks']"
   ]
  },
  {
   "cell_type": "code",
   "execution_count": 19,
   "metadata": {},
   "outputs": [
    {
     "data": {
      "text/plain": [
       "dict_keys(['t', 'f', 'x', 'y', 'A', 'c', 'x_pstd', 'y_pstd', 'A_pstd', 'c_pstd', 'sigma_r', 'SE_sigma_r', 'pval_Ar', 'isPSF', 'tracksFeatIndxCG', 'gapVect', 'gapStatus', 'gapIdx', 'seqOfEvents', 'nSeg', 'visibility', 'lifetime_s', 'start', 'end', 'startBuffer', 'endBuffer', 'MotionAnalysis', 'maskA', 'maskN', 'RSS', 'mask_Ar', 'hval_Ar', 'hval_AD', 'catIdx', 'isCCP', 'significantMaster', 'significantVsBackground', 'significantSlave'])"
      ]
     },
     "execution_count": 19,
     "metadata": {},
     "output_type": "execute_result"
    }
   ],
   "source": [
    "tracks.keys()"
   ]
  },
  {
   "cell_type": "markdown",
   "metadata": {},
   "source": [
    "# visualize a single example"
   ]
  },
  {
   "cell_type": "code",
   "execution_count": null,
   "metadata": {},
   "outputs": [],
   "source": [
    "# pick a single interesting example\n",
    "# ex = df[df.lifetime > 250].iloc[0]\n",
    "ex = df[(df.lifetime > 30) * (df[outcome] == 1)]\n",
    "ex = ex.sort_values(by='Y_max')\n",
    "# .iloc[5]\n",
    "ex = ex.iloc[-5]\n",
    "viz.plot_example(ex)"
   ]
  },
  {
   "cell_type": "markdown",
   "metadata": {},
   "source": [
    "# basic eda"
   ]
  },
  {
   "cell_type": "code",
   "execution_count": null,
   "metadata": {},
   "outputs": [],
   "source": [
    "viz.plot_curves(df, hline=False)"
   ]
  },
  {
   "cell_type": "code",
   "execution_count": null,
   "metadata": {},
   "outputs": [],
   "source": [
    "plt.plot(df['x_pos'], df['y_pos'], 'o', alpha=0.1)"
   ]
  },
  {
   "cell_type": "markdown",
   "metadata": {},
   "source": [
    "# look at displacement features"
   ]
  },
  {
   "cell_type": "code",
   "execution_count": 3,
   "metadata": {},
   "outputs": [],
   "source": [
    "# functions to compute msd of track over time\n",
    "def rmsd(a, b):\n",
    "    '''msd\n",
    "    '''\n",
    "    da = np.diff(a)\n",
    "    db = np.diff(b)\n",
    "    return np.sum(np.sqrt(np.square(da) + np.square(db)))\n",
    "\n",
    "def rmsd_end(a, b):\n",
    "    '''msd at end\n",
    "    '''\n",
    "    l = int(len(a) * 0.25 + 5)\n",
    "    da = np.diff(a)[-l:]\n",
    "    db = np.diff(b)[-l:]\n",
    "    return np.sum(np.sqrt(np.square(da) + np.square(db)))\n",
    "\n",
    "def rmsd_curve(a, b):\n",
    "    '''curve of sd\n",
    "    '''\n",
    "    da = np.diff(a)\n",
    "    db = np.diff(b)\n",
    "    return np.sqrt(np.square(da) + np.square(db))\n",
    "\n",
    "x = df['x_pos_seq'].values\n",
    "y = df['y_pos_seq'].values\n",
    "msd_tot = [rmsd_curve(a, b) for a, b in zip(x, y)]\n",
    "df['msd_alt'] = msd_tot"
   ]
  },
  {
   "cell_type": "code",
   "execution_count": null,
   "metadata": {},
   "outputs": [],
   "source": [
    "R, C = 2, 1\n",
    "d = df[df[outcome]==1]\n",
    "plt.figure(figsize=(8, 4), dpi=300)\n",
    "plt.subplot(R, C, 1)\n",
    "means_last_20 = 0\n",
    "N = 50\n",
    "for i in range(N):\n",
    "    r = d.iloc[i]\n",
    "    y_max_idx = r['Y_peak_idx']\n",
    "#     y_max_idx = r.lifetime\n",
    "#     xs = np.arange(r.lifetime - 1) / (r.lifetime - 1)\n",
    "    xs = np.arange(y_max_idx) / (y_max_idx - 1)\n",
    "    ys = np.cumsum(r['msd_alt'])\n",
    "    ys = r['msd_alt']\n",
    "    plt.plot(xs, ys[:y_max_idx], alpha=0.2, color=cb)\n",
    "    means_last_20 += np.mean(ys[int(y_max_idx * 0.8):])\n",
    "plt.xticks([])\n",
    "plt.ylim(0, 4)\n",
    "plt.ylabel('aux+\\ndisplacement')\n",
    "\n",
    "means_last_20_neg = 0\n",
    "plt.subplot(R, C, 2)    \n",
    "d = df[(df[outcome]==0) & (df.lifetime > 30)]\n",
    "for i in range(N):\n",
    "    r = d.iloc[i]\n",
    "    y_max_idx = r['Y_peak_idx']\n",
    "#     y_max_idx = r.lifetime\n",
    "    xs = np.arange(y_max_idx) / (y_max_idx - 1)\n",
    "    ys = np.cumsum(r['msd_alt'])\n",
    "    ys = r['msd_alt']\n",
    "    plt.plot(xs, ys[:y_max_idx], alpha=0.2, color=cr)    \n",
    "    means_last_20_neg += np.mean(ys[int(y_max_idx * 0.8):])\n",
    "print('means', means_last_20, means_last_20_neg)\n",
    "plt.ylim(0, 4)    \n",
    "plt.xlabel('time to aux peak (frac)')\n",
    "plt.ylabel('aux- \\ndisplacement')    \n",
    "plt.show()"
   ]
  },
  {
   "cell_type": "code",
   "execution_count": null,
   "metadata": {},
   "outputs": [],
   "source": [
    "viz.jointplot_grouped('msd_alt', 'fall', 'y_consec_thresh', df, scatter_alpha=0.1)\n",
    "plt.savefig('msd_alt_fall.png', dpi=400)"
   ]
  },
  {
   "cell_type": "code",
   "execution_count": null,
   "metadata": {},
   "outputs": [],
   "source": [
    "# plt.plot(df['msd_tot'], df['Y_max'], 'o', alpha=0.1)\n",
    "# sns.lmplot('msd_tot', 'Y_max', data=df)\n",
    "sns.jointplot('msd_alt', 'Y_max', data=df, kind='reg')\n",
    "plt.ylabel('aux max')\n",
    "plt.savefig('msd_alt.png', dpi=400)\n",
    "# sns.jointplot(x, y, kind=\"reg\", stat_func=r2)"
   ]
  },
  {
   "cell_type": "markdown",
   "metadata": {},
   "source": [
    "# look at learned dictionaries"
   ]
  },
  {
   "cell_type": "code",
   "execution_count": null,
   "metadata": {},
   "outputs": [],
   "source": [
    "# df = data.get_data(use_processed=False, compute_dictionary_learning=True) # all_data=True\n",
    "print(os.listdir('processed/dictionaries'))\n",
    "d = pkl.load(open(f'processed/dictionaries/' + 'sc_12_alpha=1.pkl', 'rb'))\n",
    "# d = pkl.load(open(f'processed/dictionaries/' + 'nmf_12.pkl', 'rb'))\n",
    "R, C = 3, 4\n",
    "i = 0\n",
    "plt.figure(dpi=200)\n",
    "vmin = d.components_.min()\n",
    "vmax = d.components_.max()\n",
    "# print('err', d.reconstruction_err_ / np.linalg.norm(X_mat, ord='fro'))\n",
    "for r in range(R):\n",
    "    for c in range(C):\n",
    "        plt.subplot(R, C, i + 1)\n",
    "        plt.plot(d.components_[i], color=cr)\n",
    "        i += 1\n",
    "        plt.ylim((vmin, vmax))\n",
    "        if r < R-1:\n",
    "            plt.xticks([])\n",
    "        if c > 0:\n",
    "            plt.yticks([])\n",
    "plt.tight_layout()\n",
    "# viz.savefig('nmf')\n",
    "viz.savefig('sparse_coding')\n",
    "plt.show()"
   ]
  },
  {
   "cell_type": "markdown",
   "metadata": {},
   "source": [
    "# viz tracks where auxilin peaks first"
   ]
  },
  {
   "cell_type": "code",
   "execution_count": null,
   "metadata": {},
   "outputs": [],
   "source": [
    "outcomes = ['y_thresh', 'y_consec_sig', 'y_consec_thresh']\n",
    "for outcome in outcomes:\n",
    "    X_peak_idx = np.array([np.argmax(x) for x in df.X])\n",
    "    Y_peak_idx = np.array([np.argmax(y) for y in df.Y])\n",
    "    idxs_err = Y_peak_idx < X_peak_idx\n",
    "    df_err = df[idxs_err]\n",
    "    df_err_pos = df_err[df_err[outcome] == 1]\n",
    "    num_pos = df[df[outcome] == 1].shape[0]\n",
    "    num_pos_err = df_err_pos.shape[0] \n",
    "    frac_pos_err = num_pos_err / num_pos\n",
    "    print('num tot', df.shape[0], 'num aux peaks first', df_err.shape[0], f'frac pos aux peaks first {frac_pos_err:0.3f}')\n",
    "    viz.plot_curves(df_err_pos)"
   ]
  },
  {
   "cell_type": "code",
   "execution_count": null,
   "metadata": {},
   "outputs": [],
   "source": [
    "plt.figure(dpi=300)\n",
    "plt.hist(df_err_pos.lifetime, bins=20, color=cb)\n",
    "plt.xlabel('lifetime')\n",
    "plt.ylabel('count')\n",
    "plt.title('aux+ with auxilin peaking first')\n",
    "plt.show()"
   ]
  },
  {
   "cell_type": "code",
   "execution_count": null,
   "metadata": {},
   "outputs": [],
   "source": [
    "R, C = 2, 1\n",
    "plt.figure(dpi=200)\n",
    "plt.subplot(R, C, 1)\n",
    "plt.hist(X_peak_idx[idxs_err], color=cr)\n",
    "plt.xlabel('Clathrin peak time')\n",
    "plt.ylabel('Count')\n",
    "plt.subplot(R, C, 2)\n",
    "plt.hist(Y_peak_idx[idxs_err], color=cr)\n",
    "plt.xlabel('Auxilin peak time')\n",
    "plt.ylabel('Count')\n",
    "plt.tight_layout()"
   ]
  },
  {
   "cell_type": "markdown",
   "metadata": {},
   "source": [
    "# visualize splines"
   ]
  },
  {
   "cell_type": "code",
   "execution_count": null,
   "metadata": {},
   "outputs": [],
   "source": [
    "viz.plot_curves(df_err, extra_key='X_smooth_spl')"
   ]
  },
  {
   "cell_type": "markdown",
   "metadata": {},
   "source": [
    "# feats centered around peak\n",
    "**gets the clathrin traces aligned by their maximum, padded by zeros when necessary**"
   ]
  },
  {
   "cell_type": "code",
   "execution_count": 75,
   "metadata": {},
   "outputs": [],
   "source": [
    "def get_peak(row, num=21):\n",
    "    vals = np.empty(2 * num + 1) * np.nan \n",
    "    # vals = np.zeros(2 * num + 1)\n",
    "    x = row['X']\n",
    "    peak_idx = row['X_peak_idx']\n",
    "    x_before = x[max(0,  peak_idx - num): peak_idx]\n",
    "    \n",
    "    vals[num - len(x_before): num] = x_before\n",
    "    vals[num] = x[peak_idx]\n",
    "    \n",
    "    x_after = x[peak_idx + 1: peak_idx + num + 1]\n",
    "    vals[num + 1: num + 1 + len(x_after)] = x_after\n",
    "    return vals\n",
    "mat = np.vstack(df.apply(get_peak, axis=1).values)\n",
    "window_size = mat[0].size\n",
    "mid = (window_size // 2)"
   ]
  },
  {
   "cell_type": "code",
   "execution_count": null,
   "metadata": {},
   "outputs": [],
   "source": [
    "outcome_def = 'y_consec_thresh'\n",
    "R, C = 8, 8\n",
    "i = 0\n",
    "plt.figure(figsize=(C, R), dpi=200)\n",
    "vmin = np.nanmin(mat)\n",
    "vmax = np.nanmax(mat)\n",
    "# print('err', d.reconstruction_err_ / np.linalg.norm(X_mat, ord='fro'))\n",
    "\n",
    "pos = df[outcome_def]==1\n",
    "args = np.argsort(df[pos]['fall_local_11'].values)\n",
    "mat_pos = mat[pos][args]\n",
    "falls = df['fall_local_11'][pos].iloc[args].values\n",
    "\n",
    "for r in range(R):\n",
    "    for c in range(C):\n",
    "        plt.subplot(R, C, i + 1)\n",
    "        plt.title(f'{falls[i]:.2e}')\n",
    "        plt.plot(mat_pos[i * 8], color=cb, lw=1)\n",
    "        plt.plot(mid, mat_pos[i * 8][mid], 'o', color='white', ms=2)\n",
    "        \n",
    "        \n",
    "        plt.ylim((vmin, vmax))\n",
    "        if r < R-1:\n",
    "            plt.xticks([])\n",
    "        if c > 0:\n",
    "            plt.yticks([])\n",
    "            \n",
    "        i += 1\n",
    "plt.tight_layout()\n",
    "# plt.savefig('peak_aligned.pdf')\n",
    "plt.show()"
   ]
  },
  {
   "cell_type": "markdown",
   "metadata": {},
   "source": [
    "# pairplot of most relevant feats"
   ]
  },
  {
   "cell_type": "code",
   "execution_count": null,
   "metadata": {},
   "outputs": [],
   "source": [
    "d = df[['fall', 'X_max', 'rise', 'slope_end', outcome]]\n",
    "sns.pairplot(d, hue=outcome)\n",
    "plt.savefig('out.pdf')\n",
    "plt.show()"
   ]
  },
  {
   "cell_type": "code",
   "execution_count": null,
   "metadata": {},
   "outputs": [],
   "source": [
    "d = df[['fall', 'fall_extended', 'fall_late_extended'] + [outcome]]\n",
    "sns.pairplot(d, hue=outcome)\n",
    "plt.show()"
   ]
  },
  {
   "cell_type": "markdown",
   "metadata": {},
   "source": [
    "# spike-times plot"
   ]
  },
  {
   "cell_type": "code",
   "execution_count": null,
   "metadata": {},
   "outputs": [],
   "source": [
    "plt.figure(dpi=300)\n",
    "plt.hist(df['Y_peak_idx'] - df['X_peak_idx'], bins=20)\n",
    "plt.xlabel('aux peak time - clath peak time')\n",
    "plt.ylabel('count')\n",
    "plt.show()"
   ]
  },
  {
   "cell_type": "markdown",
   "metadata": {},
   "source": [
    "# spike magnitude plot"
   ]
  },
  {
   "cell_type": "code",
   "execution_count": null,
   "metadata": {},
   "outputs": [],
   "source": [
    "plt.figure(dpi=300)\n",
    "plt.scatter(df['X_max'], df['fall'], c=df['Y_max'], alpha=0.5, marker='.')\n",
    "plt.colorbar()\n",
    "plt.xlabel('clath max')\n",
    "plt.ylabel('fall')\n",
    "plt.show()"
   ]
  },
  {
   "cell_type": "markdown",
   "metadata": {},
   "source": [
    "### Random projections"
   ]
  },
  {
   "cell_type": "code",
   "execution_count": 118,
   "metadata": {},
   "outputs": [],
   "source": [
    "from sklearn.random_projection import GaussianRandomProjection as GRP\n",
    "\n",
    "df = data.get_data(use_processed=True) \n",
    "feat_names = data.get_feature_names(df)\n",
    "\n",
    "# don't use dict_feats\n",
    "feat_names = [x for x in feat_names \n",
    "              if not x.startswith('sc_') \n",
    "              and not x.startswith('nmf_')\n",
    "              and not x in ['center_max', 'left_max', 'right_max', 'up_max', 'down_max', \n",
    "                            'X_max_around_Y_peak', 'X_max_after_Y_peak', 'X_max_diff_after_Y_peak',\n",
    "                           'X_peak_last_15', 'X_peak_last_5', 'X_peak_time_frac', \n",
    "                           'rise_extended', 'fall_extended', 'fall_late_extended', 'lifetime_extended']\n",
    "              and not x.startswith('pc_')\n",
    "#               and not 'local' in x\n",
    "#               and not 'X_peak' in x\n",
    "#               and not 'slope' in x\n",
    "#               and not x in ['fall_final', 'fall_slope', 'fall_imp', 'fall']\n",
    "             ]"
   ]
  },
  {
   "cell_type": "code",
   "execution_count": null,
   "metadata": {},
   "outputs": [],
   "source": [
    "feat_names"
   ]
  },
  {
   "cell_type": "code",
   "execution_count": 131,
   "metadata": {},
   "outputs": [],
   "source": [
    "feat_names = feat_names[:12]\n",
    "for name in feat_names:\n",
    "    #if 'peak' not in name:\n",
    "    df[name] = boxcox(df[name] - df[name].min() + 1)[0]\n",
    "\n",
    "X = df[feat_names]\n",
    "X = (X - X.mean()) / X.std()"
   ]
  },
  {
   "cell_type": "code",
   "execution_count": 132,
   "metadata": {},
   "outputs": [],
   "source": [
    "from sklearn.decomposition import PCA\n",
    "pca = PCA(n_components=10)\n",
    "X_new_pca = pca.fit_transform(X)"
   ]
  },
  {
   "cell_type": "code",
   "execution_count": 153,
   "metadata": {},
   "outputs": [],
   "source": [
    "grp = GRP(n_components=2)\n",
    "X_new = grp.fit_transform(X)"
   ]
  },
  {
   "cell_type": "code",
   "execution_count": 156,
   "metadata": {},
   "outputs": [
    {
     "data": {
      "image/png": "[encoded data removed]",
      "text/plain": [
       "<Figure size 432x288 with 1 Axes>"
      ]
     },
     "metadata": {},
     "output_type": "display_data"
    }
   ],
   "source": [
    "\n",
    "import pylab \n",
    "import scipy.stats as stats\n",
    "\n",
    "#X_trans = boxcox(df['X_max'])\n",
    "stats.probplot(X_new[:, 0], dist=\"norm\", plot=pylab)\n",
    "#stats.probplot(X_new[:, 1], dist=\"norm\", plot=pylab)\n",
    "pylab.show()\n"
   ]
  },
  {
   "cell_type": "code",
   "execution_count": 12,
   "metadata": {},
   "outputs": [],
   "source": [
    "df_tf = deepcopy(df)\n",
    "for i in range(len(df)):\n",
    "    df_tf['X'].iloc[i] = trend_filtering.trend_filtering(y=df['X'].iloc[i], vlambda=len(df['X'].iloc[i])*2, order=3) \n",
    "#df_tf = preprocess(df_tf)"
   ]
  },
  {
   "cell_type": "code",
   "execution_count": 13,
   "metadata": {},
   "outputs": [
    {
     "data": {
      "text/plain": [
       "Text(0.5, 1.0, 'order 3 trend filtering')"
      ]
     },
     "execution_count": 13,
     "metadata": {},
     "output_type": "execute_result"
    },
    {
     "data": {
      "image/png": "[encoded data removed]",
      "text/plain": [
       "<Figure size 432x288 with 1 Axes>"
      ]
     },
     "metadata": {},
     "output_type": "display_data"
    }
   ],
   "source": [
    "plt.plot(df['X'].iloc[2], color='red')\n",
    "plt.plot(df_tf['X'].iloc[2], color='blue')\n",
    "plt.title(\"order 3 trend filtering\")"
   ]
  }
 ],
 "metadata": {
  "kernelspec": {
   "display_name": "Python 3",
   "language": "python",
   "name": "python3"
  },
  "language_info": {
   "codemirror_mode": {
    "name": "ipython",
    "version": 3
   },
   "file_extension": ".py",
   "mimetype": "text/x-python",
   "name": "python",
   "nbconvert_exporter": "python",
   "pygments_lexer": "ipython3",
   "version": "3.7.5"
  },
  "pycharm": {
   "stem_cell": {
    "cell_type": "raw",
    "metadata": {
     "collapsed": false
    },
    "source": []
   }
  }
 },
 "nbformat": 4,
 "nbformat_minor": 4
}
