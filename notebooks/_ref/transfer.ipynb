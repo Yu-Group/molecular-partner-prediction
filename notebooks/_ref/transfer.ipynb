{
 "cells": [
  {
   "cell_type": "code",
   "execution_count": null,
   "metadata": {},
   "outputs": [],
   "source": [
    "%matplotlib inline\n",
    "%load_ext autoreload\n",
    "%autoreload 2\n",
    "from matplotlib import pyplot as plt\n",
    "from os.path import join as oj\n",
    "import numpy as np\n",
    "from copy import deepcopy\n",
    "# plt.style.use('dark_background')\n",
    "import sys\n",
    "sys.path.append('../src')\n",
    "import data\n",
    "import pickle as pkl\n",
    "import viz\n",
    "from viz import *\n",
    "import analyze_helper, train\n",
    "from sklearn import metrics\n",
    "from config import *\n",
    "import pandas as pd\n",
    "from tqdm import tqdm\n",
    "\n",
    "# select model directory + model name\n",
    "# out_dir = oj(DIR_RESULTS, 'may7_1') # mar7_2 is 0.95, mar8_1 is 0.96\n",
    "# out_dir = oj(DIR_RESULTS, 'nov16') # mar7_2 is 0.95, mar8_1 is 0.96\n",
    "out_dir = '../models'\n",
    "r = analyze_helper.load_results(out_dir)\n",
    "r = r.sort_values('accuracy', ascending=False)\n",
    "idx = np.array(r.index)\n",
    "accs = np.array(r.accuracy)\n",
    "model_name = idx[0]\n",
    "# model_name = 'mlp2_17_select_lasso=7_ros=1_h=0_cal=True'\n",
    "\n",
    "# print accs\n",
    "print('using model', model_name)\n",
    "for i in range(min(accs.size, 5)):\n",
    "    print(f'\\t{accs[i]:.3f}', idx[i])\n",
    "\n",
    "# get data\n",
    "outcome_def = 'y_consec_thresh'\n",
    "df = data.get_data()\n",
    "n = df.shape[0]\n",
    "df_cv = df[df.valid == 1] # exclude test cells, short/long tracks, hotspots\n",
    "X, y, norms = analyze_helper.normalize(df_cv, outcome_def)\n",
    "\n",
    "# load model + preds\n",
    "d_full_cv, idxs_cv = analyze_helper.get_data_over_folds(model_name, out_dir, df_cv.cell_num, X, y)\n",
    "y_full_cv = df_cv[outcome_def].iloc[idxs_cv].values.astype(np.int)\n",
    "preds_cv = d_full_cv[model_name].values\n",
    "preds_proba_cv = d_full_cv[model_name + '_proba'].values\n",
    "\n",
    "results_individual = pkl.load(open(oj(out_dir, f'{model_name}.pkl'), 'rb'))\n",
    "assert np.sum(idxs_cv == np.arange(idxs_cv.size)) == idxs_cv.size, \\\n",
    "       'points not in same order'\n",
    "assert np.mean(preds_cv==y_full_cv) == np.average(results_individual['cv']['accuracy'], \n",
    "                                               weights=results_individual['num_pts_by_fold_cv']), \\\n",
    "        'did not properly load model/data'\n",
    "tp, tn, fp, fn = analyze_helper.calc_errs(preds_cv, y_full_cv)\n",
    "print('succesfully loaded!')"
   ]
  },
  {
   "cell_type": "markdown",
   "metadata": {},
   "source": [
    "# accuracies on different test datasets"
   ]
  },
  {
   "cell_type": "markdown",
   "metadata": {},
   "source": [
    "**calculate predictions on diff datasets**"
   ]
  },
  {
   "cell_type": "code",
   "execution_count": 2,
   "metadata": {},
   "outputs": [
    {
     "name": "stderr",
     "output_type": "stream",
     "text": [
      "100%|██████████| 5/5 [00:16<00:00,  2.67s/it]\n"
     ]
    }
   ],
   "source": [
    "normalize_by_train = False\n",
    "exclude_easy_tracks = True\n",
    "orig_dset = 'clath_aux+gak_a7d2'\n",
    "\n",
    "df = data.get_data()\n",
    "\n",
    "# training data\n",
    "CELLS_TRAIN = config.DSETS[orig_dset]['train']\n",
    "df_train = df[df.cell_num.isin(CELLS_TRAIN)]\n",
    "X_train = df_train[data.get_feature_names(df_train)]\n",
    "X_mean_train = X_train.mean()\n",
    "X_std_train = X_train.std()\n",
    "\n",
    "# testing data\n",
    "CELLS_TEST = config.DSETS[orig_dset]['test']\n",
    "df_test = df[df.cell_num.isin(CELLS_TEST)]\n",
    "if exclude_easy_tracks:\n",
    "    df_test = df_test[~df_test.short & ~df_test.long]\n",
    "X_test = df_test[data.get_feature_names(df_test)]\n",
    "if normalize_by_train:\n",
    "    X_test = (X_test - X_mean_train) / X_std_train\n",
    "else:\n",
    "    X_test = (X_test - X_test.mean()) / X_test.std()\n",
    "y_test = df_test[outcome_def].values\n",
    "\n",
    "# get model\n",
    "m0 = results_individual['imps']['model'][0]\n",
    "feat_names_selected = results_individual['feat_names_selected']\n",
    "preds_test = m0.predict(X_test[feat_names_selected]) \n",
    "preds_proba_test = m0.predict_proba(X_test[feat_names_selected]) [:, 1]\n",
    "\n",
    "# set up lists\n",
    "dsets = ['validation', 'test']\n",
    "ys_list = [y_full_cv, y_test]\n",
    "preds_list = [preds_cv, preds_test]\n",
    "preds_proba_list = [preds_proba_cv, preds_proba_test]\n",
    "Y_max_list = [df_cv['Y_max'], df_test['Y_max']]\n",
    "\n",
    "# loop over new datasets\n",
    "outcome_def = 'y_consec_thresh'\n",
    "# outcome_def = 'y_rule_based'\n",
    "dset_names = [k for k in config.DSETS.keys()\n",
    "              if not k == orig_dset\n",
    "              and not 'pi4p' in k]\n",
    "for dset_name in tqdm(dset_names):\n",
    "    _, y_new, preds_new, preds_proba_new, Y_maxes = analyze_helper.normalize_and_predict(m0, feat_names_selected, dset_name,\n",
    "                                                                                         normalize_by_train,\n",
    "                                                                                         exclude_easy_tracks=exclude_easy_tracks)\n",
    "    dsets.append(dset_name)\n",
    "    ys_list.append(deepcopy(y_new))\n",
    "    preds_list.append(deepcopy(preds_new))\n",
    "    preds_proba_list.append(deepcopy(preds_proba_new))\n",
    "    Y_max_list.append(Y_maxes)"
   ]
  },
  {
   "cell_type": "markdown",
   "metadata": {},
   "source": [
    "**show metrics on different dsets**"
   ]
  },
  {
   "cell_type": "code",
   "execution_count": 5,
   "metadata": {},
   "outputs": [
    {
     "name": "stdout",
     "output_type": "stream",
     "text": [
      "if exclude_easy_tracks, this is just for hard tracks\n",
      "\\begin{tabular}{lrrr}\n",
      "\\toprule\n",
      "{} &  Accuracy &  Roc auc &  Balanced accuracy \\\\\n",
      "\\midrule\n",
      "Validation        &      0.74 &     0.81 &               0.74 \\\\\n",
      "Test              &      0.73 &     0.80 &               0.73 \\\\\n",
      "Clath\\_aux+gak     &      0.75 &     0.81 &               0.75 \\\\\n",
      "Clath\\_aux+gak\\_new &      0.76 &     0.83 &               0.76 \\\\\n",
      "\\bottomrule\n",
      "\\end{tabular}\n",
      "\n"
     ]
    }
   ],
   "source": [
    "def roundd(x):\n",
    "    try:\n",
    "        return x.round(2)\n",
    "    except:\n",
    "        return [y.round(2) for y in x]\n",
    "    \n",
    "def mean_diff(vals, preds):\n",
    "    return np.mean(vals[preds==1]) - np.mean(vals[preds==0])\n",
    "\n",
    "r_long = {}\n",
    "n = len(dsets)\n",
    "for s in train.scorers:\n",
    "    if s == 'roc_auc':\n",
    "        r_long[s] = [roundd(metrics.roc_auc_score(ys_list[i],\n",
    "                                                  preds_proba_list[i])) for i in range(n)]\n",
    "    elif 'curve' not in s and 'acc' in s:\n",
    "        r_long[s] = [roundd(train.scorers[s](ys_list[i], preds_list[i])) for i in range(n)]        \n",
    "r_long['diff_aux_max_by_class'] = [mean_diff(Y_max_list[i], preds_list[i]) for i in range(n)]\n",
    "r_long['aux+ ratio'] = [np.mean(ys_list[i]) for i in range(n)]\n",
    "\n",
    "print('if exclude_easy_tracks, this is just for hard tracks')\n",
    "r = pd.DataFrame.from_dict(r_long).transpose()\n",
    "r.columns = dsets\n",
    "r.round(2)\n",
    "\n",
    "# style results\n",
    "r = r[['validation', 'test', 'clath_aux+gak', 'clath_aux+gak_new']].round(2)\n",
    "r.columns = r.columns.map(str.capitalize)\n",
    "r = r.loc[['accuracy', 'roc_auc', 'balanced_accuracy']] # reorder rows\n",
    "r.index = r.index.map(str.capitalize)\n",
    "r.index = r.index.map(lambda s: str.replace(s, '_', ' '))\n",
    "r\n",
    "print(r.transpose().to_latex())"
   ]
  },
  {
   "cell_type": "markdown",
   "metadata": {},
   "source": [
    "# diff dataset summaries"
   ]
  },
  {
   "cell_type": "code",
   "execution_count": 4,
   "metadata": {},
   "outputs": [
    {
     "name": "stderr",
     "output_type": "stream",
     "text": [
      "100%|██████████| 6/6 [00:09<00:00,  1.84s/it]\n"
     ]
    }
   ],
   "source": [
    "# process original data (and save out lifetime thresholds)\n",
    "dset_names = [k for k in sorted(config.DSETS.keys()) if not 'pi4p' in k]\n",
    "# dsets = ['clath_aux', 'orig_gak', 'clath_aux_no_a7d2', 'clath_aux_a8', 'clath_pi4p_notreatment']\n",
    "\n",
    "NUM_DSETS = len(dset_names)\n",
    "rs = {\n",
    "    k: [] for k in ['X_mean', 'Y_max']\n",
    "}\n",
    "ds = {\n",
    "    k: [] for k in ['lifetime', 'Y_max']\n",
    "}\n",
    "for dset in tqdm(dset_names):\n",
    "    # process new data (using lifetime thresholds from original data)\n",
    "    df = data.get_data(dset=dset,\n",
    "                  previous_meta_file='processed/metadata_orig.pkl')\n",
    "    for k in rs.keys():\n",
    "        rs[k].append(df[k].mean())\n",
    "    for k in ds.keys():\n",
    "        ds[k].append(df[k])"
   ]
  },
  {
   "cell_type": "markdown",
   "metadata": {},
   "source": [
    "**means of some features**"
   ]
  },
  {
   "cell_type": "code",
   "execution_count": null,
   "metadata": {},
   "outputs": [],
   "source": [
    "R, C = 1, 2\n",
    "plt.figure(figsize=(8, 3), dpi=500)\n",
    "for i, k in enumerate(rs.keys()):\n",
    "    plt.subplot(R, C, i + 1)\n",
    "    plt.barh(dset_names, rs[k], color=cb)\n",
    "    plt.xlabel('Average ' + k)\n",
    "plt.tight_layout()\n",
    "plt.show()"
   ]
  },
  {
   "cell_type": "code",
   "execution_count": null,
   "metadata": {},
   "outputs": [],
   "source": [
    "R, C = 1, len(ds.keys())\n",
    "plt.figure(figsize=(8, 3), dpi=500)\n",
    "for i, k in enumerate(ds.keys()):\n",
    "    ax = plt.subplot(R, C, i + 1)\n",
    "    # plt.barh(dset_names, [np.mean(x) for x in ds[k]], color=cb)\n",
    "    ax.violinplot([val.values for val in ds[k]], vert=False,\n",
    "                  widths=1, showmedians=True, showextrema=True) #, quantiles=[25, 50])\n",
    "    plt.yticks(np.arange(len(dset_names)) + 1, dset_names)\n",
    "    if i > 0:\n",
    "        plt.yticks([])\n",
    "    plt.xlabel(k)\n",
    "    plt.xscale('log')\n",
    "plt.tight_layout()\n",
    "viz.savefig('distr_shift')\n",
    "plt.show()"
   ]
  },
  {
   "cell_type": "markdown",
   "metadata": {},
   "source": [
    "# lower res data"
   ]
  },
  {
   "cell_type": "code",
   "execution_count": 11,
   "metadata": {},
   "outputs": [],
   "source": [
    "import features"
   ]
  },
  {
   "cell_type": "code",
   "execution_count": null,
   "metadata": {},
   "outputs": [],
   "source": [
    "accs = []\n",
    "DOWNSAMPLE_list = range(1, 11)\n",
    "for DOWNSAMPLE in tqdm(DOWNSAMPLE_list):\n",
    "\n",
    "    # downsample\n",
    "    df_cv = deepcopy(df[df.valid == 1]) # exclude test cells, short/long tracks, hotspots\n",
    "    df_cv['X'] = [x[::DOWNSAMPLE] for x in df_cv.X]\n",
    "    df_cv['X_extended'] = [x[::DOWNSAMPLE] for x in df_cv.X_extended]\n",
    "    df_cv['lifetime'] = [len(x) for x in df_cv.X]\n",
    "    df_cv = features.add_basic_features(df_cv)\n",
    "\n",
    "\n",
    "    # get data\n",
    "    X, y, norms = analyze_helper.normalize(df_cv, outcome_def)\n",
    "    d_full_cv, idxs_cv = analyze_helper.get_data_over_folds(model_name, out_dir, df_cv.cell_num, X, y)\n",
    "    y_full_cv = df_cv[outcome_def].iloc[idxs_cv].values.astype(np.int)\n",
    "    preds = d_full_cv[model_name].values\n",
    "    preds_proba = d_full_cv[model_name + '_proba'].values\n",
    "    acc = np.mean(preds==y_full_cv)\n",
    "    accs.append(acc)\n",
    "#     print(f'downsampling rate {DOWNSAMPLE} acc {acc.round(3)}')"
   ]
  },
  {
   "cell_type": "code",
   "execution_count": null,
   "metadata": {},
   "outputs": [],
   "source": [
    "# plt.figure(dpi=300)\n",
    "plt.plot(DOWNSAMPLE_list, accs, '.-', color=cb, lw=3, ms=18)\n",
    "plt.xlabel('Downsamping factor')\n",
    "plt.ylabel('Accuracy on difficult region')\n",
    "viz.savefig('downsampling')\n",
    "plt.show()"
   ]
  },
  {
   "cell_type": "code",
   "execution_count": null,
   "metadata": {},
   "outputs": [],
   "source": [
    "# plot of example track\n",
    "track_num = 3\n",
    "ex = deepcopy(df[df.valid == 1]).iloc[track_num]\n",
    "viz.plot_example(ex)\n",
    "plt.plot(np.arange(len(ex.X))[::3], ex.X[::3], 'o', color='w', alpha=0.5)\n",
    "plt.show()"
   ]
  }
 ],
 "metadata": {
  "kernelspec": {
   "display_name": "Python 3",
   "language": "python",
   "name": "python3"
  },
  "language_info": {
   "codemirror_mode": {
    "name": "ipython",
    "version": 3
   },
   "file_extension": ".py",
   "mimetype": "text/x-python",
   "name": "python",
   "nbconvert_exporter": "python",
   "pygments_lexer": "ipython3",
   "version": "3.8.3"
  },
  "pycharm": {
   "stem_cell": {
    "cell_type": "raw",
    "metadata": {
     "collapsed": false
    },
    "source": []
   }
  }
 },
 "nbformat": 4,
 "nbformat_minor": 4
}
