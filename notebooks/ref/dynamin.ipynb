{
 "cells": [
  {
   "cell_type": "code",
   "execution_count": null,
   "metadata": {},
   "outputs": [],
   "source": [
    "%matplotlib inline\n",
    "%load_ext autoreload\n",
    "%autoreload 2\n",
    "from matplotlib import pyplot as plt\n",
    "from os.path import join as oj\n",
    "import numpy as np\n",
    "import matplotlib.ticker as mtick\n",
    "from copy import deepcopy\n",
    "# plt.style.use('dark_background')\n",
    "import sys\n",
    "sys.path.append('../src')\n",
    "import data\n",
    "import pickle as pkl\n",
    "import viz\n",
    "from viz import *\n",
    "import analyze_helper, train\n",
    "from sklearn import metrics\n",
    "from config import *\n",
    "import pandas as pd\n",
    "from tqdm import tqdm\n",
    "\n",
    "# select model directory + model name\n",
    "# out_dir = oj(DIR_RESULTS, 'may7_1') # mar7_2 is 0.95, mar8_1 is 0.96\n",
    "# out_dir = oj(DIR_RESULTS, 'nov16') # mar7_2 is 0.95, mar8_1 is 0.96\n",
    "out_dir = '../models'\n",
    "r = analyze_helper.load_results(out_dir)\n",
    "r = r.sort_values('accuracy', ascending=False)\n",
    "idx = np.array(r.index)\n",
    "accs = np.array(r.accuracy)\n",
    "model_name = idx[0]\n",
    "# model_name = 'mlp2_17_select_lasso=7_ros=1_h=0_cal=True'\n",
    "\n",
    "# print accs\n",
    "print('using model', model_name)\n",
    "for i in range(min(accs.size, 5)):\n",
    "    print(f'\\t{accs[i]:.3f}', idx[i])\n",
    "\n",
    "# get data\n",
    "outcome_def = 'y_consec_thresh'\n",
    "df = data.get_data()\n",
    "n = df.shape[0]\n",
    "df_cv = df[df.valid == 1] # exclude test cells, short/long tracks, hotspots\n",
    "X, y, norms = analyze_helper.normalize(df_cv, outcome_def)\n",
    "\n",
    "# load model + preds\n",
    "d_full_cv, idxs_cv = analyze_helper.get_data_over_folds(model_name, out_dir, df_cv.cell_num, X, y)\n",
    "y_full_cv = df_cv[outcome_def].iloc[idxs_cv].values.astype(np.int)\n",
    "preds_cv = d_full_cv[model_name].values\n",
    "preds_proba_cv = d_full_cv[model_name + '_proba'].values\n",
    "\n",
    "results_individual = pkl.load(open(oj(out_dir, f'{model_name}.pkl'), 'rb'))\n",
    "assert np.sum(idxs_cv == np.arange(idxs_cv.size)) == idxs_cv.size, \\\n",
    "       'points not in same order'\n",
    "assert np.mean(preds_cv==y_full_cv) == np.average(results_individual['cv']['accuracy'], \n",
    "                                               weights=results_individual['num_pts_by_fold_cv']), \\\n",
    "        'did not properly load model/data'\n",
    "tp, tn, fp, fn = analyze_helper.calc_errs(preds_cv, y_full_cv)\n",
    "print('succesfully loaded!')"
   ]
  },
  {
   "cell_type": "markdown",
   "metadata": {},
   "source": [
    "# dynamin analysis"
   ]
  },
  {
   "cell_type": "code",
   "execution_count": 2,
   "metadata": {},
   "outputs": [],
   "source": [
    "dset_name = 'clath_aux_dynamin'\n",
    "m0 = results_individual['imps']['model'][0]\n",
    "feat_names_selected = results_individual['feat_names_selected']\n",
    "df_new, y_new, preds_new, preds_proba_new, Y_maxes = \\\n",
    "    analyze_helper.normalize_and_predict(m0, feat_names_selected, dset_name, normalize_by_train=False)\n",
    "tp, tn, fp, fn = analyze_helper.calc_errs(preds_new, y_new)\n",
    "def norm(x):\n",
    "    return (x - np.mean(x)) / np.std(x)\n",
    "df_new['Z_max'] = [max(z) for z in df_new['Z']]\n",
    "df_new['Z_max_normed'] = norm(df_new['Z_max'])\n",
    "df_new['Y_max_normed'] = norm(df_new['Y_max'])"
   ]
  },
  {
   "cell_type": "code",
   "execution_count": null,
   "metadata": {},
   "outputs": [],
   "source": [
    "# visualize the biggest errors\n",
    "num_to_plot = 5\n",
    "# print('total pts', preds.shape[0])\n",
    "# for idxs, name in zip([fp, fn, tp, tn], ['fp', 'fn', 'tp', 'tn']):\n",
    "for idxs, name in zip([fp, fn], ['fp', 'fn']):\n",
    "# for idxs, name in zip([tp, tn], ['tp', 'tn']):\n",
    "    print(name)\n",
    "    inds = viz.viz_biggest_errs(df_new, None, idxs,\n",
    "                                y_new,\n",
    "                                preds_new,\n",
    "                                preds_proba_new,\n",
    "                                num_to_plot,\n",
    "                                plot_x=True,\n",
    "                                plot_z=True,\n",
    "                                xlim_constant=False)\n",
    "    plt.legend()\n",
    "#     plt.savefig(f'{name}.pdf')\n",
    "    plt.show()"
   ]
  },
  {
   "cell_type": "code",
   "execution_count": null,
   "metadata": {},
   "outputs": [],
   "source": [
    "# visualize the biggest errors\n",
    "num_to_plot = 5\n",
    "# print('total pts', preds.shape[0])\n",
    "# for idxs, name in zip([fp, fn, tp, tn], ['fp', 'fn', 'tp', 'tn']):\n",
    "for idxs, name in zip([fp], ['fp']):\n",
    "# for idxs, name in zip([tp, tn], ['tp', 'tn']):\n",
    "    print(name)\n",
    "    inds = viz.viz_biggest_errs(df_new, None, idxs,\n",
    "                                y_new,\n",
    "                                preds_new,\n",
    "                                preds_proba_new,\n",
    "                                num_to_plot,\n",
    "                                plot_x=False,\n",
    "                                plot_z=True,\n",
    "                                xlim_constant=False)\n",
    "#     plt.legend()\n",
    "#     plt.savefig(f'{name}.pdf')\n",
    "    plt.show()"
   ]
  },
  {
   "cell_type": "markdown",
   "metadata": {},
   "source": [
    "# false positives / true negs"
   ]
  },
  {
   "cell_type": "code",
   "execution_count": 33,
   "metadata": {},
   "outputs": [
    {
     "data": {
      "image/png": "[encoded data removed]",
      "text/plain": [
       "<Figure size 432x288 with 1 Axes>"
      ]
     },
     "metadata": {
      "needs_background": "light"
     },
     "output_type": "display_data"
    }
   ],
   "source": [
    "# plt.figure(figsize=(6, 4.5), dpi=200)\n",
    "zs2 = sorted(df_new[tn]['Z_max'])[::-1]\n",
    "ax = plt.subplot(111)\n",
    "zs2x = np.arange(len(zs2)) / df_new.shape[0] * 100\n",
    "ax.plot(zs2x, zs2, label='True negative', lw=3)\n",
    "ax.xaxis.set_major_formatter(mtick.PercentFormatter(decimals=0))\n",
    "\n",
    "zs = sorted(df_new[fp]['Z_max'])[::-1]\n",
    "zsx = np.arange(len(zs)) / df_new.shape[0] * 100\n",
    "plt.plot(zsx, zs, label='False positive', lw=3)\n",
    "\n",
    "i = 1400\n",
    "plt.plot([zsx[i], zsx[i] - 2],\n",
    "         [zs[i], zs[i]], '--')\n",
    "plt.xlim((-1, 20))\n",
    "plt.ylim((0, 9000))\n",
    "plt.legend(fontsize=20)\n",
    "plt.grid(alpha=0.5)\n",
    "plt.ylabel('Max dynamin amplitude')\n",
    "plt.xlabel('Percentage of events')\n",
    "viz.savefig('dyn_diff')\n",
    "plt.show()"
   ]
  },
  {
   "cell_type": "code",
   "execution_count": null,
   "metadata": {},
   "outputs": [],
   "source": [
    "plt.figure(figsize=(6, 6))\n",
    "plt.plot(df_new[fp]['Y_max'], df_new[fp]['Z_max'],\n",
    "         'o', alpha=0.3, ms=0.5)\n",
    "plt.xlabel('aux max')\n",
    "plt.ylabel('dyn max')\n",
    "plt.show()"
   ]
  },
  {
   "cell_type": "code",
   "execution_count": 8,
   "metadata": {},
   "outputs": [],
   "source": [
    "R, C = 6, 6\n",
    "ylim_constant=False\n",
    "xlim_constant=True\n",
    "legend=True\n",
    "plot_x=True\n",
    "lifetime_max = np.max(df.lifetime.values[:R * C])"
   ]
  },
  {
   "cell_type": "code",
   "execution_count": 12,
   "metadata": {},
   "outputs": [],
   "source": [
    "np.linspace(0, df_new.shape[0], R*C - 1)\n",
    "d = df_new.sort_values('Z_max').iloc[np.linspace(35000, df_new.shape[0] - 1, R*C).astype(int)]"
   ]
  },
  {
   "cell_type": "code",
   "execution_count": null,
   "metadata": {},
   "outputs": [],
   "source": [
    "plt.figure(figsize=(16, 12))\n",
    "for i in tqdm(range(R * C)):\n",
    "    if i < d.shape[0]:\n",
    "        plt.subplot(R, C, i + 1)\n",
    "        row = d.iloc[i]\n",
    "        if plot_x:\n",
    "            plt.plot(row.X, color=cr, label='clathrin')\n",
    "#         if extra_key is not None:\n",
    "        plt.plot(row.Z, color=cp, label='dyn')\n",
    "        plt.title(int(row.Z_max), color=cp)\n",
    "        if ylim_constant:\n",
    "            plt.ylim([-10, max(max(d.X_max), max(d.Y_max)) + 1])\n",
    "        plt.axhline(642.3754691658837, color='gray', alpha=0.5)\n",
    "        plt.xticks([])\n",
    "plt.tight_layout()"
   ]
  },
  {
   "cell_type": "code",
   "execution_count": null,
   "metadata": {},
   "outputs": [],
   "source": []
  }
 ],
 "metadata": {
  "kernelspec": {
   "display_name": "Python 3",
   "language": "python",
   "name": "python3"
  },
  "language_info": {
   "codemirror_mode": {
    "name": "ipython",
    "version": 3
   },
   "file_extension": ".py",
   "mimetype": "text/x-python",
   "name": "python",
   "nbconvert_exporter": "python",
   "pygments_lexer": "ipython3",
   "version": "3.7.5"
  }
 },
 "nbformat": 4,
 "nbformat_minor": 4
}
