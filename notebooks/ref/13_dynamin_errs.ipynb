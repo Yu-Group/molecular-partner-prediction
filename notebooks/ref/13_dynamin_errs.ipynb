{
 "cells": [
  {
   "cell_type": "code",
   "execution_count": 1,
   "metadata": {},
   "outputs": [],
   "source": [
    "%matplotlib inline\n",
    "%load_ext autoreload\n",
    "%autoreload 2\n",
    "import os\n",
    "from copy import deepcopy\n",
    "import sys\n",
    "sys.path.append('../src')\n",
    "import numpy as np\n",
    "import seaborn as sns\n",
    "from matplotlib import pyplot as plt\n",
    "# plt.style.use('dark_background')\n",
    "from tqdm import tqdm\n",
    "import mat4py\n",
    "import data\n",
    "import pickle as pkl\n",
    "from viz import *\n",
    "import viz\n",
    "import trend_filtering"
   ]
  },
  {
   "cell_type": "code",
   "execution_count": 2,
   "metadata": {},
   "outputs": [],
   "source": [
    "df = data.get_data(use_processed=True) # all_data=True\n",
    "df = df[df['valid'] == 1] # exclude test cells, short/long tracks, hotspots\n",
    "outcome = 'y_consec_thresh'"
   ]
  },
  {
   "cell_type": "code",
   "execution_count": 3,
   "metadata": {},
   "outputs": [],
   "source": [
    "df = data.get_data(dset='clath_aux_dynamin')"
   ]
  },
  {
   "cell_type": "markdown",
   "metadata": {},
   "source": [
    "# load dynamin tracks directly"
   ]
  },
  {
   "cell_type": "code",
   "execution_count": 4,
   "metadata": {},
   "outputs": [],
   "source": [
    "df = pd.read_pickle('../data/tracks/tracks_clath_aux_dynamin.pkl')\n",
    "df = df[df.catIdx.isin([1, 2])]\n",
    "df = df[df.lifetime > 15]\n",
    "df['lifetime_ref'] = [len(x) for x in df['X']]"
   ]
  },
  {
   "cell_type": "markdown",
   "metadata": {},
   "source": [
    "**look at lifetimes**"
   ]
  },
  {
   "cell_type": "code",
   "execution_count": null,
   "metadata": {},
   "outputs": [],
   "source": [
    "plt.hist(df['lifetime'] - df['lifetime_ref'], bins=100)\n",
    "plt.xlabel('lifetime - len(clathrin track)')\n",
    "plt.yscale('log')\n",
    "plt.ylabel('count')\n",
    "plt.show()"
   ]
  },
  {
   "cell_type": "markdown",
   "metadata": {},
   "source": [
    "**look at clath curves**"
   ]
  },
  {
   "cell_type": "code",
   "execution_count": null,
   "metadata": {},
   "outputs": [],
   "source": [
    "viz.plot_curves(df, extra_key=None, hline=True,\n",
    "                R=5, C=8, fig=None,\n",
    "                xlim_constant=False,\n",
    "                ylim_constant=False, legend=True)"
   ]
  },
  {
   "cell_type": "markdown",
   "metadata": {},
   "source": [
    "**compare aux + dynamin**"
   ]
  },
  {
   "cell_type": "code",
   "execution_count": 10,
   "metadata": {},
   "outputs": [
    {
     "name": "stderr",
     "output_type": "stream",
     "text": [
      "  1%|          | 516/43926 [00:00<00:33, 1285.71it/s]/accounts/grad/xsli/.local/lib/python3.7/site-packages/ipykernel_launcher.py:11: RuntimeWarning: invalid value encountered in less\n",
      "  # This is added back by InteractiveShellApp.init_path()\n",
      "/accounts/grad/xsli/.local/lib/python3.7/site-packages/ipykernel_launcher.py:15: RuntimeWarning: invalid value encountered in less\n",
      "  from ipykernel import kernelapp as app\n",
      "100%|██████████| 43926/43926 [00:35<00:00, 1245.51it/s]\n"
     ]
    }
   ],
   "source": [
    "df['Y_max'] = [max(y) for y in df['Y']]\n",
    "df['Z_max'] = [max(z) for z in df['Z']]\n",
    "df['Y-Z'] = df['Y_max'] - df['Z_max']\n",
    "\n",
    "df['Y_max_sig'] = np.nan\n",
    "df['Z_max_sig'] = np.nan\n",
    "for i in tqdm(range(df.shape[0])):\n",
    "    r = df.iloc[i]\n",
    "    try:\n",
    "        df['Y_max_sig'].iloc[i] = max(np.array(r['Y'])[np.array(r['Y_pvals']) < 0.05])\n",
    "    except:\n",
    "        pass\n",
    "    try:\n",
    "        df['Z_max_sig'].iloc[i] = max(np.array(r['Z'])[np.array(r['Z_pvals']) < 0.05])\n",
    "    except:\n",
    "        pass\n",
    "    \n",
    "#     df['Z_max_sig'] = [max(z) for z in df['Z']]\n",
    "df['Y-Z_sig'] = df['Y_max_sig'] - df['Z_max_sig']"
   ]
  },
  {
   "cell_type": "code",
   "execution_count": null,
   "metadata": {},
   "outputs": [],
   "source": [
    "R, C = 20, 6\n",
    "plt.figure(figsize=(C * 2, R * 2))\n",
    "lifetime_max = np.max(df.lifetime.values[:R * C])\n",
    "d = df.iloc[range(R * C)].sort_values(by='Y-Z')\n",
    "for i in range(R * C):\n",
    "    if i < df.shape[0]:\n",
    "        ax = plt.subplot(R, C, i + 1)\n",
    "        row = d.iloc[i]\n",
    "        plt.plot(row.Y, color=cb, label='auxilin')\n",
    "        plt.plot(row.Z, color=cp, label='dynamin')\n",
    "        plt.axhline(642.3754691658837, color='gray', alpha=0.5)\n",
    "plt.legend()\n",
    "plt.tight_layout()\n",
    "plt.savefig('../reports/figs/fig_dynamin.pdf')"
   ]
  },
  {
   "cell_type": "code",
   "execution_count": 26,
   "metadata": {},
   "outputs": [
    {
     "name": "stdout",
     "output_type": "stream",
     "text": [
      "frac time aux peak is larger 0.55\n",
      "frac time aux peak sig is larger 0.51\n"
     ]
    },
    {
     "data": {
      "image/png": "[encoded data removed]",
      "text/plain": [
       "<Figure size 432x288 with 1 Axes>"
      ]
     },
     "metadata": {},
     "output_type": "display_data"
    }
   ],
   "source": [
    "plt.figure(facecolor='white')\n",
    "plt.hist(df['Y-Z_sig'], bins=100)\n",
    "plt.xlabel('Aux peak - Dyn peak (omitting non-significant)')\n",
    "plt.yscale('log')\n",
    "plt.ylabel('count')\n",
    "plt.grid()\n",
    "\n",
    "print(f'frac time aux peak is larger {np.sum(df[\"Y-Z\"] > 0) / df.shape[0]:.2f}')\n",
    "print(f'frac time aux peak sig is larger {np.sum(df[\"Y-Z_sig\"] >= 0) / (df.shape[0] - df[\"Y-Z_sig\"].isna().sum()):.2f}')"
   ]
  }
 ],
 "metadata": {
  "kernelspec": {
   "display_name": "Python 3",
   "language": "python",
   "name": "python3"
  },
  "language_info": {
   "codemirror_mode": {
    "name": "ipython",
    "version": 3
   },
   "file_extension": ".py",
   "mimetype": "text/x-python",
   "name": "python",
   "nbconvert_exporter": "python",
   "pygments_lexer": "ipython3",
   "version": "3.8.3"
  },
  "pycharm": {
   "stem_cell": {
    "cell_type": "raw",
    "metadata": {
     "collapsed": false
    },
    "source": []
   }
  }
 },
 "nbformat": 4,
 "nbformat_minor": 4
}
