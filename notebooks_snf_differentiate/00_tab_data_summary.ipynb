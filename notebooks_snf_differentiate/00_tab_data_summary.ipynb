{
 "cells": [
  {
   "cell_type": "code",
   "execution_count": 2,
   "metadata": {},
   "outputs": [
    {
     "name": "stdout",
     "output_type": "stream",
     "text": [
      "The autoreload extension is already loaded. To reload it, use:\n",
      "  %reload_ext autoreload\n"
     ]
    }
   ],
   "source": [
    "%matplotlib inline\n",
    "%load_ext autoreload\n",
    "%autoreload 2\n",
    "import os\n",
    "from os.path import join as oj\n",
    "import sys\n",
    "sys.path.append('../src')\n",
    "import numpy as np\n",
    "import seaborn as sns\n",
    "import torch\n",
    "import matplotlib\n",
    "from matplotlib import pyplot as plt\n",
    "from sklearn import metrics\n",
    "import sklearn.calibration\n",
    "from sklearn.linear_model import RidgeCV\n",
    "from sklearn.model_selection import train_test_split\n",
    "# plt.style.use('dark_background')\n",
    "import data\n",
    "from skorch.callbacks import Checkpoint\n",
    "from skorch import NeuralNetRegressor\n",
    "from config import *\n",
    "from tqdm import tqdm\n",
    "import pickle as pkl\n",
    "import train_reg\n",
    "from math import floor\n",
    "from copy import deepcopy\n",
    "from sklearn.metrics import confusion_matrix\n",
    "import config\n",
    "import models\n",
    "import pandas as pd\n",
    "import features\n",
    "from scipy.stats import skew, pearsonr\n",
    "import outcomes\n",
    "import neural_networks\n",
    "from sklearn.model_selection import KFold\n",
    "from torch import nn, optim\n",
    "from torch.nn import functional as F\n",
    "import interpret\n",
    "import matplotlib.pyplot as plt\n",
    "from functools import partial\n",
    "import matplotlib as mpl\n",
    "from matplotlib.colors import LinearSegmentedColormap\n",
    "import viz"
   ]
  },
  {
   "cell_type": "markdown",
   "metadata": {},
   "source": [
    "# prepare data"
   ]
  },
  {
   "cell_type": "code",
   "execution_count": 6,
   "metadata": {},
   "outputs": [
    {
     "name": "stderr",
     "output_type": "stream",
     "text": [
      "100%|██████████| 2/2 [00:10<00:00,  5.07s/it]"
     ]
    },
    {
     "name": "stdout",
     "output_type": "stream",
     "text": [
      "type <class 'dict'>\n",
      "vps4_snf7 train (8962, 90)\n",
      "vps4_snf7 test (2951, 90)\n",
      "vps4_snf7___key=mt train (3378, 90)\n",
      "vps4_snf7___key=mt test (1210, 90)\n"
     ]
    },
    {
     "name": "stderr",
     "output_type": "stream",
     "text": [
      "\n"
     ]
    }
   ],
   "source": [
    "dsets = ['vps4_snf7', 'vps4_snf7___key=mt']\n",
    "splits = ['train', 'test']\n",
    "meta = ['cell_num', 'Y_sig_mean', 'Y_sig_mean_normalized']\n",
    "dfs, feat_names = data.load_dfs_for_lstm(dsets=dsets,\n",
    "                                         splits=splits,\n",
    "                                         filter_hotspots=True,\n",
    "                                         filter_short=False,\n",
    "                                         hotspots_threshold=25,\n",
    "                                         meta=meta,\n",
    "                                         normalize=False)\n",
    "\n",
    "\n",
    "print('type', type(dfs))\n",
    "# load model\n",
    "p = 1\n",
    "for k in dfs:\n",
    "    print(*k, dfs[k].shape)\n",
    "df = dfs[list(dfs.keys())[0]]\n",
    "X = df[feat_names[:p]]\n",
    "y = df['y_consec_thresh']"
   ]
  },
  {
   "cell_type": "markdown",
   "metadata": {},
   "source": [
    "**summarize dsets**"
   ]
  },
  {
   "cell_type": "code",
   "execution_count": 8,
   "metadata": {},
   "outputs": [
    {
     "name": "stdout",
     "output_type": "stream",
     "text": [
      "\\begin{tabular}{llrrrrr}\n",
      "\\toprule\n",
      "                   &       &  Total clean tracks &  Difficult tracks &  Difficult valid events &  Short tracks &  Short valid events \\\\\n",
      "Dataset & Partition &                     &                   &                         &               &                     \\\\\n",
      "\\midrule\n",
      "vps4\\_snf7 & test &                2951 &              1922 &                     360 &          1029 &                  77 \\\\\n",
      "                   & train &                8962 &              7420 &                    1505 &          1542 &                 130 \\\\\n",
      "vps4\\_snf7\\_\\_\\_key=mt & test &                1210 &               999 &                     186 &           211 &                  29 \\\\\n",
      "                   & train &                3378 &              2734 &                     601 &           644 &                 107 \\\\\n",
      "\\bottomrule\n",
      "\\end{tabular}\n",
      "\n"
     ]
    },
    {
     "name": "stderr",
     "output_type": "stream",
     "text": [
      "/tmp/ipykernel_978228/1617068531.py:21: FutureWarning: In future versions `DataFrame.to_latex` is expected to utilise the base implementation of `Styler.to_latex` for formatting and rendering. The arguments signature may therefore change. It is recommended instead to use `DataFrame.style.to_latex` which also contains additional functionality.\n",
      "  print(df.to_latex(index=True, index_names=True))\n"
     ]
    }
   ],
   "source": [
    "ds = dfs\n",
    "vals = {} # key is dataset, Partition\n",
    "for k in sorted(ds, key=lambda kv: (kv[0], kv[1])):\n",
    "    d = ds[k]\n",
    "    d.short = d.lifetime <= 3\n",
    "    # print(k, d.lifetime.min())\n",
    "    y = d['y_consec_thresh']\n",
    "    feats = ['Total clean tracks',\n",
    "             'Difficult tracks', 'Difficult valid events', \n",
    "             'Short tracks', 'Short valid events',]\n",
    "    vals[k] = [\n",
    "        d.shape[0],\n",
    "        (~d.short).sum(), y[~d.short].sum(),\n",
    "        d.short.sum(), y[d.short].sum()\n",
    "    ]\n",
    "    vals[k] = [int(x) for x in vals[k]]\n",
    "#     print(feats, vals)\n",
    "df = pd.DataFrame.from_dict(vals).transpose().round(decimals=0)\n",
    "df.columns = feats\n",
    "df.index = df.index.set_names(['Dataset', 'Partition'])\n",
    "print(df.to_latex(index=True, index_names=True))"
   ]
  },
  {
   "cell_type": "code",
   "execution_count": 9,
   "metadata": {},
   "outputs": [
    {
     "data": {
      "text/html": [
       "<div>\n",
       "<style scoped>\n",
       "    .dataframe tbody tr th:only-of-type {\n",
       "        vertical-align: middle;\n",
       "    }\n",
       "\n",
       "    .dataframe tbody tr th {\n",
       "        vertical-align: top;\n",
       "    }\n",
       "\n",
       "    .dataframe thead th {\n",
       "        text-align: right;\n",
       "    }\n",
       "</style>\n",
       "<table border=\"1\" class=\"dataframe\">\n",
       "  <thead>\n",
       "    <tr style=\"text-align: right;\">\n",
       "      <th></th>\n",
       "      <th></th>\n",
       "      <th>Total clean tracks</th>\n",
       "      <th>Difficult tracks</th>\n",
       "      <th>Difficult valid events</th>\n",
       "      <th>Short tracks</th>\n",
       "      <th>Short valid events</th>\n",
       "    </tr>\n",
       "    <tr>\n",
       "      <th>Dataset</th>\n",
       "      <th>Partition</th>\n",
       "      <th></th>\n",
       "      <th></th>\n",
       "      <th></th>\n",
       "      <th></th>\n",
       "      <th></th>\n",
       "    </tr>\n",
       "  </thead>\n",
       "  <tbody>\n",
       "    <tr>\n",
       "      <th rowspan=\"2\" valign=\"top\">vps4_snf7</th>\n",
       "      <th>test</th>\n",
       "      <td>2951</td>\n",
       "      <td>1922</td>\n",
       "      <td>360</td>\n",
       "      <td>1029</td>\n",
       "      <td>77</td>\n",
       "    </tr>\n",
       "    <tr>\n",
       "      <th>train</th>\n",
       "      <td>8962</td>\n",
       "      <td>7420</td>\n",
       "      <td>1505</td>\n",
       "      <td>1542</td>\n",
       "      <td>130</td>\n",
       "    </tr>\n",
       "    <tr>\n",
       "      <th rowspan=\"2\" valign=\"top\">vps4_snf7___key=mt</th>\n",
       "      <th>test</th>\n",
       "      <td>1210</td>\n",
       "      <td>999</td>\n",
       "      <td>186</td>\n",
       "      <td>211</td>\n",
       "      <td>29</td>\n",
       "    </tr>\n",
       "    <tr>\n",
       "      <th>train</th>\n",
       "      <td>3378</td>\n",
       "      <td>2734</td>\n",
       "      <td>601</td>\n",
       "      <td>644</td>\n",
       "      <td>107</td>\n",
       "    </tr>\n",
       "  </tbody>\n",
       "</table>\n",
       "</div>"
      ],
      "text/plain": [
       "                              Total clean tracks  Difficult tracks  \\\n",
       "Dataset            Partition                                         \n",
       "vps4_snf7          test                     2951              1922   \n",
       "                   train                    8962              7420   \n",
       "vps4_snf7___key=mt test                     1210               999   \n",
       "                   train                    3378              2734   \n",
       "\n",
       "                              Difficult valid events  Short tracks  \\\n",
       "Dataset            Partition                                         \n",
       "vps4_snf7          test                          360          1029   \n",
       "                   train                        1505          1542   \n",
       "vps4_snf7___key=mt test                          186           211   \n",
       "                   train                         601           644   \n",
       "\n",
       "                              Short valid events  \n",
       "Dataset            Partition                      \n",
       "vps4_snf7          test                       77  \n",
       "                   train                     130  \n",
       "vps4_snf7___key=mt test                       29  \n",
       "                   train                     107  "
      ]
     },
     "execution_count": 9,
     "metadata": {},
     "output_type": "execute_result"
    }
   ],
   "source": [
    "df"
   ]
  },
  {
   "cell_type": "code",
   "execution_count": 14,
   "metadata": {},
   "outputs": [
    {
     "name": "stderr",
     "output_type": "stream",
     "text": [
      "100%|██████████| 1/1 [00:07<00:00,  7.27s/it]\n",
      "100%|██████████| 1/1 [00:02<00:00,  3.00s/it]\n"
     ]
    }
   ],
   "source": [
    "splits = ['train', 'test']\n",
    "meta = ['cell_num', 'Y_sig_mean', 'Y_sig_mean_normalized']\n",
    "length = 40\n",
    "#     padding = 'end'\n",
    "feat_name = 'X_same_length_extended_normalized' # include buffer X_same_length_normalized\n",
    "outcome = 'Y_sig_mean_normalized'\n",
    "\n",
    "df_fulls = []\n",
    "for i, dsets in enumerate([['vps4_snf7'], ['vps4_snf7___key=mt']]):\n",
    "\n",
    "    dfs, feat_names = data.load_dfs_for_lstm(dsets=dsets,\n",
    "                                                splits=splits,\n",
    "                                                filter_hotspots=True,\n",
    "                                                filter_short=False,\n",
    "                                                lifetime_threshold=None,\n",
    "                                                hotspots_threshold=25,\n",
    "                                                meta=meta,\n",
    "                                                normalize=False)\n",
    "    df_full = pd.concat([\n",
    "        dfs[(k, s)]\n",
    "        for (k, s) in dfs\n",
    "        if s == 'train'\n",
    "    ])\n",
    "    df_full['mt'] = i\n",
    "    df_fulls.append(df_full)\n",
    "\n",
    "df_full = pd.concat(df_fulls)\n"
   ]
  }
 ],
 "metadata": {
  "kernelspec": {
   "display_name": "Python 3.8.12 ('.aux': venv)",
   "language": "python",
   "name": "python3"
  },
  "language_info": {
   "codemirror_mode": {
    "name": "ipython",
    "version": 3
   },
   "file_extension": ".py",
   "mimetype": "text/x-python",
   "name": "python",
   "nbconvert_exporter": "python",
   "pygments_lexer": "ipython3",
   "version": "3.8.12"
  },
  "vscode": {
   "interpreter": {
    "hash": "48564b99b2d05f0d8880381521ddeeac4759e29c1bcb4036563094615a093164"
   }
  }
 },
 "nbformat": 4,
 "nbformat_minor": 4
}
