{
 "cells": [
  {
   "cell_type": "markdown",
   "metadata": {},
   "source": [
    "This notebook converts the .mat tracking files to a version which is compatible with mat4py."
   ]
  },
  {
   "cell_type": "code",
   "execution_count": 1,
   "metadata": {},
   "outputs": [],
   "source": [
    "fs = {\n",
    "    '/scratch/users/vision/data/abc_data/vps_snf_nonconverted/2016-07-10_mergedTracks_vps24.mat',\n",
    "    '/scratch/users/vision/data/abc_data/vps_snf_nonconverted/2016-07-10_mergedTracks_vps4_snf7.mat',\n",
    "    '/scratch/users/vision/data/abc_data/vps_snf_nonconverted/2016-10-26_mergedTracks_vps4_snf7vps2.mat',\n",
    "    '/scratch/users/vision/data/abc_data/vps_snf_nonconverted/2016-09-01_mergedTracks_AnchorAway_vps4_snf7_RapExposure-004.mat',\n",
    "    '/scratch/users/vision/data/abc_data/vps_snf_nonconverted/2016-09-06_mergedTracks_vps24_VPS4EQ.mat',\n",
    "    '/scratch/users/vision/data/abc_data/vps_snf_nonconverted/2016-09-06_mergedTracks_vps4EQ_snf7-eGFP.mat',\n",
    "};\n",
    "\n",
    "fs_out = {\n",
    "    '/scratch/users/vision/data/abc_data/vps_snf/2016-07-10_mergedTracks_vps24.mat',\n",
    "    '/scratch/users/vision/data/abc_data/vps_snf/2016-07-10_mergedTracks_vps4_snf7.mat',\n",
    "    '/scratch/users/vision/data/abc_data/vps_snf/2016-10-26_mergedTracks_vps4_snf7vps2.mat',\n",
    "    '/scratch/users/vision/data/abc_data/vps_snf/2016-09-01_mergedTracks_AnchorAway_vps4_snf7_RapExposure-004.mat',\n",
    "    '/scratch/users/vision/data/abc_data/vps_snf/2016-09-06_mergedTracks_vps24_VPS4EQ.mat',\n",
    "    '/scratch/users/vision/data/abc_data/vps_snf/2016-09-06_mergedTracks_vps4EQ_snf7-eGFP.mat',\n",
    "};"
   ]
  },
  {
   "cell_type": "code",
   "execution_count": 40,
   "metadata": {},
   "outputs": [
    {
     "name": "stdout",
     "output_type": "stream",
     "text": [
      "\n",
      "f =\n",
      "\n",
      "    '/scratch/users/vision/data/abc_data/vps_snf_nonconverted/2016-07-10_mergedTracks_vps24.mat'\n",
      "\n",
      "\n",
      "t = \n",
      "\n",
      "  struct with fields:\n",
      "\n",
      "         allTracks_vps24: [1x31062 struct]\n",
      "    allTracks_vps24_vps4: [1x13523 struct]\n",
      "              data_vps24: [1x20 struct]\n",
      "         data_vps24_vsp4: [1x10 struct]\n",
      "\n",
      "\n",
      "f =\n",
      "\n",
      "    '/scratch/users/vision/data/abc_data/vps_snf_nonconverted/2016-07-10_mergedTracks_vps4_snf7.mat'\n",
      "\n",
      "\n",
      "t = \n",
      "\n",
      "  struct with fields:\n",
      "\n",
      "    allTracks_snf7_vps4mt: [1x9339 struct]\n",
      "    allTracks_snf7_vps4wt: [1x24432 struct]\n",
      "        allTracks_vps4_mt: [1x7451 struct]\n",
      "        allTracks_vps4_wt: [1x10377 struct]\n",
      "    data_snf7_vps4_mt_2ch: [1x5 struct]\n",
      "    data_snf7_vps4_wt_2ch: [1x24 struct]\n",
      "         data_snf7_vps4mt: [1x24 struct]\n",
      "         data_snf7_vps4wt: [1x24 struct]\n",
      "             data_vps4_mt: [1x11 struct]\n",
      "             data_vps4_wt: [1x10 struct]\n",
      "\n",
      "\n",
      "f =\n",
      "\n",
      "    '/scratch/users/vision/data/abc_data/vps_snf_nonconverted/2016-10-26_mergedTracks_vps4_snf7vps2.mat'\n",
      "\n",
      "\n",
      "t = \n",
      "\n",
      "  struct with fields:\n",
      "\n",
      "    allTracks_vps4_snf7vps2mt: [1x7940 struct]\n",
      "         data_vps4_snf7vps2mt: [1x10 struct]\n",
      "\n",
      "\n",
      "f =\n",
      "\n",
      "    '/scratch/users/vision/data/abc_data/vps_snf_nonconverted/2016-09-01_mergedTracks_AnchorAway_vps4_snf7_RapExposure-004.mat'\n",
      "\n",
      "\n",
      "t = \n",
      "\n",
      "  struct with fields:\n",
      "\n",
      "     allTracks_AAW_snf7_after: [1x52061 struct]\n",
      "    allTracks_AAW_snf7_before: [1x8950 struct]\n",
      "     allTracks_AAW_vps4_after: [1x33062 struct]\n",
      "    allTracks_AAW_vps4_before: [1x6950 struct]\n",
      "          data_aaw_snf7_after: [1x32 struct]\n",
      "         data_aaw_snf7_before: [1x5 struct]\n",
      "          data_aaw_vps4_after: [1x22 struct]\n",
      "         data_aaw_vps4_before: [1x5 struct]\n",
      "              snf_RapExposure: [1x32 double]\n",
      "             vps4_RapExposure: [1x22 double]\n",
      "\n",
      "\n",
      "f =\n",
      "\n",
      "    '/scratch/users/vision/data/abc_data/vps_snf_nonconverted/2016-09-06_mergedTracks_vps24_VPS4EQ.mat'\n",
      "\n",
      "\n",
      "t = \n",
      "\n",
      "  struct with fields:\n",
      "\n",
      "    allTracks_vps24_vps4EQ: [1x8294 struct]\n",
      "         data_vps24_vps4EQ: [1x10 struct]\n",
      "\n",
      "\n",
      "f =\n",
      "\n",
      "    '/scratch/users/vision/data/abc_data/vps_snf_nonconverted/2016-09-06_mergedTracks_vps4EQ_snf7-eGFP.mat'\n",
      "\n",
      "\n",
      "t = \n",
      "\n",
      "  struct with fields:\n",
      "\n",
      "    allTracks_snf7_vps4EQ: [1x9339 struct]\n",
      "         data_snf7_vps4EQ: [1x5 struct]\n",
      "\n"
     ]
    }
   ],
   "source": [
    "for i=1:6\n",
    "    f = fs{i}\n",
    "    t = load(f)\n",
    "    save(fs_out{i}, 't', '-v7');\n",
    "end"
   ]
  },
  {
   "cell_type": "code",
   "execution_count": 41,
   "metadata": {},
   "outputs": [
    {
     "name": "stdout",
     "output_type": "stream",
     "text": [
      "\n",
      "ans = \n",
      "\n",
      "  1x9339 struct array with fields:\n",
      "\n",
      "    t\n",
      "    f\n",
      "    x\n",
      "    y\n",
      "    z\n",
      "    A\n",
      "    c\n",
      "    x_pstd\n",
      "    y_pstd\n",
      "    z_pstd\n",
      "    A_pstd\n",
      "    c_pstd\n",
      "    sigma_r\n",
      "    SE_sigma_r\n",
      "    pval_Ar\n",
      "    isPSF\n",
      "    tracksFeatIndxCG\n",
      "    gapVect\n",
      "    gapStatus\n",
      "    gapIdx\n",
      "    seqOfEvents\n",
      "    nSeg\n",
      "    visibility\n",
      "    lifetime_s\n",
      "    start\n",
      "    end\n",
      "    startBuffer\n",
      "    endBuffer\n",
      "    MotionAnalysis\n",
      "    RSS\n",
      "    hval_Ar\n",
      "    hval_AD\n",
      "    catIdx\n",
      "    hasMultiplePeaks\n",
      "    significantMaster\n",
      "    significantVsBackground\n",
      "    significantSlave\n",
      "\n"
     ]
    }
   ],
   "source": [
    "t.allTracks_snf7_vps4EQ"
   ]
  },
  {
   "cell_type": "code",
   "execution_count": 42,
   "metadata": {},
   "outputs": [
    {
     "name": "stdout",
     "output_type": "stream",
     "text": [
      "\n",
      "ans = \n",
      "\n",
      "  1x5 struct array with fields:\n",
      "\n",
      "    source\n",
      "    date\n",
      "    channels\n",
      "    framerate\n",
      "    imagesize\n",
      "    movieLength\n",
      "    markers\n",
      "    framePaths\n",
      "    maskPaths\n",
      "    pixelSize\n",
      "    dz\n",
      "    zAniso\n",
      "    angle\n",
      "    timestamps\n",
      "    objectiveScan\n",
      "    reversed\n",
      "    framePathsDS\n",
      "    framePathsDSR\n",
      "\n"
     ]
    }
   ],
   "source": [
    "t.data_snf7_vps4EQ"
   ]
  },
  {
   "cell_type": "markdown",
   "metadata": {},
   "source": [
    "# better understand the data"
   ]
  },
  {
   "cell_type": "code",
   "execution_count": 2,
   "metadata": {},
   "outputs": [
    {
     "name": "stdout",
     "output_type": "stream",
     "text": [
      "\n",
      "f =\n",
      "\n",
      "    '/scratch/users/vision/data/abc_data/vps_snf_nonconverted/2016-07-10_mergedTracks_vps24.mat'\n",
      "\n",
      "\n",
      "t = \n",
      "\n",
      "  struct with fields:\n",
      "\n",
      "         allTracks_vps24: [1x31062 struct]\n",
      "    allTracks_vps24_vps4: [1x13523 struct]\n",
      "              data_vps24: [1x20 struct]\n",
      "         data_vps24_vsp4: [1x10 struct]\n",
      "\n"
     ]
    }
   ],
   "source": [
    "for i=1:1\n",
    "    f = fs{i}\n",
    "    t = load(f)\n",
    "end"
   ]
  },
  {
   "cell_type": "code",
   "execution_count": 4,
   "metadata": {},
   "outputs": [
    {
     "name": "stdout",
     "output_type": "stream",
     "text": [
      "\n",
      "ans = \n",
      "\n",
      "  1x10 struct array with fields:\n",
      "\n",
      "    source\n",
      "    date\n",
      "    framerate\n",
      "    imagesize\n",
      "    channels\n",
      "    movieLength\n",
      "    markers\n",
      "    framePaths\n",
      "    maskPaths\n",
      "    pixelSize\n",
      "    dz\n",
      "    zAniso\n",
      "    angle\n",
      "    timestamps\n",
      "    objectiveScan\n",
      "    reversed\n",
      "    framePathsDS\n",
      "    framePathsDSR\n",
      "\n"
     ]
    }
   ],
   "source": [
    "t.data_vps24_vsp4"
   ]
  },
  {
   "cell_type": "code",
   "execution_count": 19,
   "metadata": {},
   "outputs": [
    {
     "name": "stdout",
     "output_type": "stream",
     "text": [
      "\n",
      "ans =\n",
      "\n",
      "  1x2 cell array\n",
      "\n",
      "    {'/Volumes/su24/gsync/Project_...'}    {'/Volumes/su24/gsync/Project_...'}\n",
      "\n",
      "\n",
      "ans =\n",
      "\n",
      "  1x2 cell array\n",
      "\n",
      "    {'/Volumes/su24/gsync/Project_...'}    {'/Volumes/su24/gsync/Project_...'}\n",
      "\n",
      "\n",
      "ans =\n",
      "\n",
      "  1x2 cell array\n",
      "\n",
      "    {'/Volumes/su24/gsync/Project_...'}    {'/Volumes/su24/gsync/Project_...'}\n",
      "\n",
      "\n",
      "ans =\n",
      "\n",
      "  1x2 cell array\n",
      "\n",
      "    {'/Volumes/su24/gsync/Project_...'}    {'/Volumes/su24/gsync/Project_...'}\n",
      "\n",
      "\n",
      "ans =\n",
      "\n",
      "  1x2 cell array\n",
      "\n",
      "    {'/Volumes/su24/gsync/Project_...'}    {'/Volumes/su24/gsync/Project_...'}\n",
      "\n",
      "\n",
      "ans =\n",
      "\n",
      "  1x2 cell array\n",
      "\n",
      "    {'/Volumes/su24/gsync/Project_...'}    {'/Volumes/su24/gsync/Project_...'}\n",
      "\n",
      "\n",
      "ans =\n",
      "\n",
      "  1x2 cell array\n",
      "\n",
      "    {'/Volumes/su24/gsync/Project_...'}    {'/Volumes/su24/gsync/Project_...'}\n",
      "\n",
      "\n",
      "ans =\n",
      "\n",
      "  1x2 cell array\n",
      "\n",
      "    {'/Volumes/su24/gsync/Project_...'}    {'/Volumes/su24/gsync/Project_...'}\n",
      "\n",
      "\n",
      "ans =\n",
      "\n",
      "  1x2 cell array\n",
      "\n",
      "    {'/Volumes/su24/gsync/Project_...'}    {'/Volumes/su24/gsync/Project_...'}\n",
      "\n",
      "\n",
      "ans =\n",
      "\n",
      "  1x2 cell array\n",
      "\n",
      "    {'/Volumes/su24/gsync/Project_...'}    {'/Volumes/su24/gsync/Project_...'}\n",
      "\n"
     ]
    }
   ],
   "source": [
    "t.data_vps24_vsp4.channels"
   ]
  },
  {
   "cell_type": "code",
   "execution_count": null,
   "metadata": {},
   "outputs": [],
   "source": []
  }
 ],
 "metadata": {
  "kernelspec": {
   "display_name": "Matlab (Python 3.6)",
   "language": "matlab",
   "name": "matlab"
  },
  "language_info": {
   "codemirror_mode": "octave",
   "file_extension": ".m",
   "help_links": [
    {
     "text": "MetaKernel Magics",
     "url": "https://github.com/calysto/metakernel/blob/master/metakernel/magics/README.md"
    }
   ],
   "mimetype": "text/x-octave",
   "name": "matlab",
   "version": "0.16.1"
  }
 },
 "nbformat": 4,
 "nbformat_minor": 4
}
